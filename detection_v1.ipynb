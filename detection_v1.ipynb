{
 "cells": [
  {
   "cell_type": "code",
   "execution_count": 35,
   "id": "initial_id",
   "metadata": {
    "collapsed": true,
    "ExecuteTime": {
     "end_time": "2024-04-03T21:46:51.322142Z",
     "start_time": "2024-04-03T21:46:51.320027Z"
    }
   },
   "outputs": [],
   "source": [
    "import pandas as pd\n",
    "import os"
   ]
  },
  {
   "cell_type": "code",
   "execution_count": 36,
   "outputs": [],
   "source": [
    "# Directory where CSV files are stored\n",
    "csv_directory = '/Users/wickywonka/CMU/coursework/17735/project/17735-project/ExtractedData'\n",
    "\n",
    "# Lists to hold data from each file\n",
    "logon_data = []\n",
    "logoff_data = []\n",
    "\n",
    "# Iterate over each CSV file in the directory\n",
    "for filename in os.listdir(csv_directory):\n",
    "    if filename.endswith('.csv'):\n",
    "        # Full path to the CSV file\n",
    "        csv_path = os.path.join(csv_directory, filename)\n",
    "\n",
    "        # Read the CSV file into a DataFrame\n",
    "        df = pd.read_csv(csv_path, names=['User', 'Timestamp', 'PC', 'ActivityType', 'Action'])\n",
    "\n",
    "        # Convert Timestamp to datetime\n",
    "        df['Timestamp'] = pd.to_datetime(df['Timestamp'], format='%m/%d/%Y %H:%M:%S')\n",
    "\n",
    "        # Append DataFrame to the list by action\n",
    "        logon_data.append(df[df['Action'] == 'Logon'])\n",
    "        logoff_data.append(df[df['Action'] == 'Logoff'])\n",
    "\n",
    "# Concatenate all logon and logoff data into two separate DataFrames\n",
    "logon_df = pd.concat(logon_data)\n",
    "logoff_df = pd.concat(logoff_data)\n",
    "\n",
    "# Calculate means for logon and logoff\n",
    "logon_means = logon_df.groupby('User')['Timestamp'].apply(lambda x: x.mean().time())\n",
    "logoff_means = logoff_df.groupby('User')['Timestamp'].apply(lambda x: x.mean().time())\n",
    "\n",
    "# Calculate modes for logon and logoff\n",
    "logon_modes = logon_df.groupby('User')['Timestamp'].apply(lambda x: x.dt.time.mode()[0])\n",
    "logoff_modes = logoff_df.groupby('User')['Timestamp'].apply(lambda x: x.dt.time.mode()[0])\n",
    "\n",
    "# Convert Series to DataFrame for CSV output\n",
    "logon_means_df = logon_means.reset_index().rename(columns={'Timestamp': 'Logon_mean_time'})\n",
    "logon_modes_df = logon_modes.reset_index().rename(columns={'Timestamp': 'Logon_mode_time'})\n",
    "\n",
    "logoff_means_df = logoff_means.reset_index().rename(columns={'Timestamp': 'Logoff_mean_time'})\n",
    "logoff_modes_df = logoff_modes.reset_index().rename(columns={'Timestamp': 'Logoff_mode_time'})\n",
    "\n",
    "# Save the DataFrames to CSV files\n",
    "# logon_means_df.to_csv('logon_means.csv', index=False)\n",
    "# logon_modes_df.to_csv('logon_modes.csv', index=False)\n",
    "# logoff_means_df.to_csv('logoff_means.csv', index=False)\n",
    "# logoff_modes_df.to_csv('logoff_modes.csv', index=False)\n",
    "\n",
    "# These variables hold the respective statistics for later use in your code:\n",
    "# logon_means_df, logon_modes_df, logoff_means_df, logoff_modes_df"
   ],
   "metadata": {
    "collapsed": false,
    "ExecuteTime": {
     "end_time": "2024-04-03T21:47:09.583104Z",
     "start_time": "2024-04-03T21:46:55.372330Z"
    }
   },
   "id": "ab8d2dd16ea3c7f5"
  },
  {
   "cell_type": "code",
   "execution_count": 37,
   "outputs": [
    {
     "data": {
      "text/plain": "             User  Logon_mean_time\n0    DTAA/AAA0371  02:49:05.759328\n1    DTAA/AAC0344  14:25:33.652941\n2    DTAA/AAC0599  14:25:19.326470\n3    DTAA/AAH0734  14:55:31.823529\n4    DTAA/AAK0658  14:54:54.188235\n..            ...              ...\n995  DTAA/ZGH0528  22:42:44.836833\n996  DTAA/ZKE0662  00:04:52.294308\n997  DTAA/ZKH0388  06:50:55.272590\n998  DTAA/ZKN0548  14:55:06.173529\n999  DTAA/ZRR0705  15:41:02.508823\n\n[1000 rows x 2 columns]",
      "text/html": "<div>\n<style scoped>\n    .dataframe tbody tr th:only-of-type {\n        vertical-align: middle;\n    }\n\n    .dataframe tbody tr th {\n        vertical-align: top;\n    }\n\n    .dataframe thead th {\n        text-align: right;\n    }\n</style>\n<table border=\"1\" class=\"dataframe\">\n  <thead>\n    <tr style=\"text-align: right;\">\n      <th></th>\n      <th>User</th>\n      <th>Logon_mean_time</th>\n    </tr>\n  </thead>\n  <tbody>\n    <tr>\n      <th>0</th>\n      <td>DTAA/AAA0371</td>\n      <td>02:49:05.759328</td>\n    </tr>\n    <tr>\n      <th>1</th>\n      <td>DTAA/AAC0344</td>\n      <td>14:25:33.652941</td>\n    </tr>\n    <tr>\n      <th>2</th>\n      <td>DTAA/AAC0599</td>\n      <td>14:25:19.326470</td>\n    </tr>\n    <tr>\n      <th>3</th>\n      <td>DTAA/AAH0734</td>\n      <td>14:55:31.823529</td>\n    </tr>\n    <tr>\n      <th>4</th>\n      <td>DTAA/AAK0658</td>\n      <td>14:54:54.188235</td>\n    </tr>\n    <tr>\n      <th>...</th>\n      <td>...</td>\n      <td>...</td>\n    </tr>\n    <tr>\n      <th>995</th>\n      <td>DTAA/ZGH0528</td>\n      <td>22:42:44.836833</td>\n    </tr>\n    <tr>\n      <th>996</th>\n      <td>DTAA/ZKE0662</td>\n      <td>00:04:52.294308</td>\n    </tr>\n    <tr>\n      <th>997</th>\n      <td>DTAA/ZKH0388</td>\n      <td>06:50:55.272590</td>\n    </tr>\n    <tr>\n      <th>998</th>\n      <td>DTAA/ZKN0548</td>\n      <td>14:55:06.173529</td>\n    </tr>\n    <tr>\n      <th>999</th>\n      <td>DTAA/ZRR0705</td>\n      <td>15:41:02.508823</td>\n    </tr>\n  </tbody>\n</table>\n<p>1000 rows × 2 columns</p>\n</div>"
     },
     "execution_count": 37,
     "metadata": {},
     "output_type": "execute_result"
    }
   ],
   "source": [
    "logon_means_df"
   ],
   "metadata": {
    "collapsed": false,
    "ExecuteTime": {
     "end_time": "2024-04-03T21:47:14.064591Z",
     "start_time": "2024-04-03T21:47:14.060384Z"
    }
   },
   "id": "4d8457e56b1a7b5e"
  },
  {
   "cell_type": "code",
   "execution_count": 38,
   "outputs": [
    {
     "data": {
      "text/plain": "           User Logon_mode_time\n0  DTAA/AAA0371        07:54:21\n1  DTAA/AAC0344        07:51:03\n2  DTAA/AAC0599        07:56:28\n3  DTAA/AAH0734        08:20:42\n4  DTAA/AAK0658        08:22:33",
      "text/html": "<div>\n<style scoped>\n    .dataframe tbody tr th:only-of-type {\n        vertical-align: middle;\n    }\n\n    .dataframe tbody tr th {\n        vertical-align: top;\n    }\n\n    .dataframe thead th {\n        text-align: right;\n    }\n</style>\n<table border=\"1\" class=\"dataframe\">\n  <thead>\n    <tr style=\"text-align: right;\">\n      <th></th>\n      <th>User</th>\n      <th>Logon_mode_time</th>\n    </tr>\n  </thead>\n  <tbody>\n    <tr>\n      <th>0</th>\n      <td>DTAA/AAA0371</td>\n      <td>07:54:21</td>\n    </tr>\n    <tr>\n      <th>1</th>\n      <td>DTAA/AAC0344</td>\n      <td>07:51:03</td>\n    </tr>\n    <tr>\n      <th>2</th>\n      <td>DTAA/AAC0599</td>\n      <td>07:56:28</td>\n    </tr>\n    <tr>\n      <th>3</th>\n      <td>DTAA/AAH0734</td>\n      <td>08:20:42</td>\n    </tr>\n    <tr>\n      <th>4</th>\n      <td>DTAA/AAK0658</td>\n      <td>08:22:33</td>\n    </tr>\n  </tbody>\n</table>\n</div>"
     },
     "execution_count": 38,
     "metadata": {},
     "output_type": "execute_result"
    }
   ],
   "source": [
    "logon_modes_df.head()"
   ],
   "metadata": {
    "collapsed": false,
    "ExecuteTime": {
     "end_time": "2024-04-03T21:47:40.860476Z",
     "start_time": "2024-04-03T21:47:40.855984Z"
    }
   },
   "id": "30cd72c727e260a7"
  },
  {
   "cell_type": "code",
   "execution_count": 39,
   "outputs": [
    {
     "data": {
      "text/plain": "           User Logoff_mean_time\n0  DTAA/AAA0371  21:04:05.442996\n1  DTAA/AAC0344  22:27:35.076470\n2  DTAA/AAC0599  22:27:32.920588\n3  DTAA/AAH0734  23:58:02.238235\n4  DTAA/AAK0658  22:58:07.538235",
      "text/html": "<div>\n<style scoped>\n    .dataframe tbody tr th:only-of-type {\n        vertical-align: middle;\n    }\n\n    .dataframe tbody tr th {\n        vertical-align: top;\n    }\n\n    .dataframe thead th {\n        text-align: right;\n    }\n</style>\n<table border=\"1\" class=\"dataframe\">\n  <thead>\n    <tr style=\"text-align: right;\">\n      <th></th>\n      <th>User</th>\n      <th>Logoff_mean_time</th>\n    </tr>\n  </thead>\n  <tbody>\n    <tr>\n      <th>0</th>\n      <td>DTAA/AAA0371</td>\n      <td>21:04:05.442996</td>\n    </tr>\n    <tr>\n      <th>1</th>\n      <td>DTAA/AAC0344</td>\n      <td>22:27:35.076470</td>\n    </tr>\n    <tr>\n      <th>2</th>\n      <td>DTAA/AAC0599</td>\n      <td>22:27:32.920588</td>\n    </tr>\n    <tr>\n      <th>3</th>\n      <td>DTAA/AAH0734</td>\n      <td>23:58:02.238235</td>\n    </tr>\n    <tr>\n      <th>4</th>\n      <td>DTAA/AAK0658</td>\n      <td>22:58:07.538235</td>\n    </tr>\n  </tbody>\n</table>\n</div>"
     },
     "execution_count": 39,
     "metadata": {},
     "output_type": "execute_result"
    }
   ],
   "source": [
    "logoff_means_df.head()"
   ],
   "metadata": {
    "collapsed": false,
    "ExecuteTime": {
     "end_time": "2024-04-03T21:47:41.314843Z",
     "start_time": "2024-04-03T21:47:41.311747Z"
    }
   },
   "id": "3da790197a174680"
  },
  {
   "cell_type": "code",
   "execution_count": 40,
   "outputs": [
    {
     "data": {
      "text/plain": "           User Logoff_mode_time\n0  DTAA/AAA0371         14:44:56\n1  DTAA/AAC0344         15:55:10\n2  DTAA/AAC0599         15:56:17\n3  DTAA/AAH0734         17:34:26\n4  DTAA/AAK0658         16:38:32",
      "text/html": "<div>\n<style scoped>\n    .dataframe tbody tr th:only-of-type {\n        vertical-align: middle;\n    }\n\n    .dataframe tbody tr th {\n        vertical-align: top;\n    }\n\n    .dataframe thead th {\n        text-align: right;\n    }\n</style>\n<table border=\"1\" class=\"dataframe\">\n  <thead>\n    <tr style=\"text-align: right;\">\n      <th></th>\n      <th>User</th>\n      <th>Logoff_mode_time</th>\n    </tr>\n  </thead>\n  <tbody>\n    <tr>\n      <th>0</th>\n      <td>DTAA/AAA0371</td>\n      <td>14:44:56</td>\n    </tr>\n    <tr>\n      <th>1</th>\n      <td>DTAA/AAC0344</td>\n      <td>15:55:10</td>\n    </tr>\n    <tr>\n      <th>2</th>\n      <td>DTAA/AAC0599</td>\n      <td>15:56:17</td>\n    </tr>\n    <tr>\n      <th>3</th>\n      <td>DTAA/AAH0734</td>\n      <td>17:34:26</td>\n    </tr>\n    <tr>\n      <th>4</th>\n      <td>DTAA/AAK0658</td>\n      <td>16:38:32</td>\n    </tr>\n  </tbody>\n</table>\n</div>"
     },
     "execution_count": 40,
     "metadata": {},
     "output_type": "execute_result"
    }
   ],
   "source": [
    "logoff_modes_df.head()"
   ],
   "metadata": {
    "collapsed": false,
    "ExecuteTime": {
     "end_time": "2024-04-03T21:47:41.620451Z",
     "start_time": "2024-04-03T21:47:41.614852Z"
    }
   },
   "id": "36b2e184ebdea854"
  },
  {
   "cell_type": "code",
   "execution_count": 41,
   "outputs": [],
   "source": [
    "# Lists to hold data from each file\n",
    "connect_data = []\n",
    "disconnect_data = []\n",
    "\n",
    "# Iterate over each CSV file in the directory\n",
    "for filename in os.listdir(csv_directory):\n",
    "    if filename.endswith('.csv'):\n",
    "        # Full path to the CSV file\n",
    "        csv_path = os.path.join(csv_directory, filename)\n",
    "\n",
    "        # Read the CSV file into a DataFrame\n",
    "        df = pd.read_csv(csv_path, names=['User', 'Timestamp', 'PC', 'ActivityType', 'Action'])\n",
    "\n",
    "        # Convert Timestamp to datetime\n",
    "        df['Timestamp'] = pd.to_datetime(df['Timestamp'], format='%m/%d/%Y %H:%M:%S')\n",
    "\n",
    "        # Filter DataFrame by action and append to the respective list\n",
    "        connect_data.append(df[df['Action'] == 'Connect'])\n",
    "        disconnect_data.append(df[df['Action'] == 'Disconnect'])\n",
    "\n",
    "# Concatenate all connect and disconnect data into two separate DataFrames\n",
    "connect_df = pd.concat(connect_data)\n",
    "disconnect_df = pd.concat(disconnect_data)\n",
    "\n",
    "# Calculate means for connect and disconnect\n",
    "connect_means = connect_df.groupby('User')['Timestamp'].apply(lambda x: x.mean().time())\n",
    "disconnect_means = disconnect_df.groupby('User')['Timestamp'].apply(lambda x: x.mean().time())\n",
    "\n",
    "# Calculate modes for connect and disconnect\n",
    "# We use scipy's mode function which returns the first mode in case of multimodal data\n",
    "connect_modes = connect_df.groupby('User')['Timestamp'].apply(lambda x: x.dt.time.mode()[0])\n",
    "disconnect_modes = disconnect_df.groupby('User')['Timestamp'].apply(lambda x: x.dt.time.mode()[0])\n",
    "\n",
    "# Convert Series to DataFrame for CSV output\n",
    "connect_means_df = connect_means.reset_index().rename(columns={'Timestamp': 'Connect_mean_time'})\n",
    "connect_modes_df = connect_modes.reset_index().rename(columns={'Timestamp': 'Connect_mode_time'})\n",
    "\n",
    "disconnect_means_df = disconnect_means.reset_index().rename(columns={'Timestamp': 'Disconnect_mean_time'})\n",
    "disconnect_modes_df = disconnect_modes.reset_index().rename(columns={'Timestamp': 'Disconnect_mode_time'})\n",
    "\n",
    "# Save the DataFrames to CSV files\n",
    "# connect_means_df.to_csv('connect_means.csv', index=False)\n",
    "# connect_modes_df.to_csv('connect_modes.csv', index=False)\n",
    "# disconnect_means_df.to_csv('disconnect_means.csv', index=False)\n",
    "# disconnect_modes_df.to_csv('disconnect_modes.csv', index=False)\n",
    "\n",
    "# These variables hold the respective statistics for later use in your code:\n",
    "# connect_means_df, connect_modes_df, disconnect_means_df, disconnect_modes_df"
   ],
   "metadata": {
    "collapsed": false,
    "ExecuteTime": {
     "end_time": "2024-04-03T21:47:55.322510Z",
     "start_time": "2024-04-03T21:47:41.890995Z"
    }
   },
   "id": "d5968f9d8c4b840a"
  },
  {
   "cell_type": "code",
   "execution_count": 42,
   "outputs": [
    {
     "data": {
      "text/plain": "           User Connect_mean_time\n0  DTAA/ABB0272   19:20:46.508823\n1  DTAA/ABS0726   00:06:48.806451\n2  DTAA/ACH0803   14:59:06.423791\n3  DTAA/AFF0760   03:13:46.333333\n4  DTAA/AFH0331   10:56:46.738007",
      "text/html": "<div>\n<style scoped>\n    .dataframe tbody tr th:only-of-type {\n        vertical-align: middle;\n    }\n\n    .dataframe tbody tr th {\n        vertical-align: top;\n    }\n\n    .dataframe thead th {\n        text-align: right;\n    }\n</style>\n<table border=\"1\" class=\"dataframe\">\n  <thead>\n    <tr style=\"text-align: right;\">\n      <th></th>\n      <th>User</th>\n      <th>Connect_mean_time</th>\n    </tr>\n  </thead>\n  <tbody>\n    <tr>\n      <th>0</th>\n      <td>DTAA/ABB0272</td>\n      <td>19:20:46.508823</td>\n    </tr>\n    <tr>\n      <th>1</th>\n      <td>DTAA/ABS0726</td>\n      <td>00:06:48.806451</td>\n    </tr>\n    <tr>\n      <th>2</th>\n      <td>DTAA/ACH0803</td>\n      <td>14:59:06.423791</td>\n    </tr>\n    <tr>\n      <th>3</th>\n      <td>DTAA/AFF0760</td>\n      <td>03:13:46.333333</td>\n    </tr>\n    <tr>\n      <th>4</th>\n      <td>DTAA/AFH0331</td>\n      <td>10:56:46.738007</td>\n    </tr>\n  </tbody>\n</table>\n</div>"
     },
     "execution_count": 42,
     "metadata": {},
     "output_type": "execute_result"
    }
   ],
   "source": [
    "connect_means_df.head()"
   ],
   "metadata": {
    "collapsed": false,
    "ExecuteTime": {
     "end_time": "2024-04-03T21:48:02.836468Z",
     "start_time": "2024-04-03T21:48:02.830969Z"
    }
   },
   "id": "2357370cf8c26873"
  },
  {
   "cell_type": "code",
   "execution_count": 43,
   "outputs": [
    {
     "data": {
      "text/plain": "           User Connect_mode_time\n0  DTAA/ABB0272          15:47:45\n1  DTAA/ABS0726          01:01:07\n2  DTAA/ACH0803          16:05:54\n3  DTAA/AFF0760          00:57:03\n4  DTAA/AFH0331          07:57:22",
      "text/html": "<div>\n<style scoped>\n    .dataframe tbody tr th:only-of-type {\n        vertical-align: middle;\n    }\n\n    .dataframe tbody tr th {\n        vertical-align: top;\n    }\n\n    .dataframe thead th {\n        text-align: right;\n    }\n</style>\n<table border=\"1\" class=\"dataframe\">\n  <thead>\n    <tr style=\"text-align: right;\">\n      <th></th>\n      <th>User</th>\n      <th>Connect_mode_time</th>\n    </tr>\n  </thead>\n  <tbody>\n    <tr>\n      <th>0</th>\n      <td>DTAA/ABB0272</td>\n      <td>15:47:45</td>\n    </tr>\n    <tr>\n      <th>1</th>\n      <td>DTAA/ABS0726</td>\n      <td>01:01:07</td>\n    </tr>\n    <tr>\n      <th>2</th>\n      <td>DTAA/ACH0803</td>\n      <td>16:05:54</td>\n    </tr>\n    <tr>\n      <th>3</th>\n      <td>DTAA/AFF0760</td>\n      <td>00:57:03</td>\n    </tr>\n    <tr>\n      <th>4</th>\n      <td>DTAA/AFH0331</td>\n      <td>07:57:22</td>\n    </tr>\n  </tbody>\n</table>\n</div>"
     },
     "execution_count": 43,
     "metadata": {},
     "output_type": "execute_result"
    }
   ],
   "source": [
    "connect_modes_df.head()"
   ],
   "metadata": {
    "collapsed": false,
    "ExecuteTime": {
     "end_time": "2024-04-03T21:48:03.122503Z",
     "start_time": "2024-04-03T21:48:03.119624Z"
    }
   },
   "id": "16d2fdb90030029d"
  },
  {
   "cell_type": "code",
   "execution_count": 44,
   "outputs": [
    {
     "data": {
      "text/plain": "           User Disconnect_mean_time\n0  DTAA/ABB0272      22:43:29.416393\n1  DTAA/ABS0726      00:36:46.290322\n2  DTAA/ACH0803      06:03:02.383333\n3  DTAA/AFF0760      03:44:57.333333\n4  DTAA/AFH0331      09:26:35.647541",
      "text/html": "<div>\n<style scoped>\n    .dataframe tbody tr th:only-of-type {\n        vertical-align: middle;\n    }\n\n    .dataframe tbody tr th {\n        vertical-align: top;\n    }\n\n    .dataframe thead th {\n        text-align: right;\n    }\n</style>\n<table border=\"1\" class=\"dataframe\">\n  <thead>\n    <tr style=\"text-align: right;\">\n      <th></th>\n      <th>User</th>\n      <th>Disconnect_mean_time</th>\n    </tr>\n  </thead>\n  <tbody>\n    <tr>\n      <th>0</th>\n      <td>DTAA/ABB0272</td>\n      <td>22:43:29.416393</td>\n    </tr>\n    <tr>\n      <th>1</th>\n      <td>DTAA/ABS0726</td>\n      <td>00:36:46.290322</td>\n    </tr>\n    <tr>\n      <th>2</th>\n      <td>DTAA/ACH0803</td>\n      <td>06:03:02.383333</td>\n    </tr>\n    <tr>\n      <th>3</th>\n      <td>DTAA/AFF0760</td>\n      <td>03:44:57.333333</td>\n    </tr>\n    <tr>\n      <th>4</th>\n      <td>DTAA/AFH0331</td>\n      <td>09:26:35.647541</td>\n    </tr>\n  </tbody>\n</table>\n</div>"
     },
     "execution_count": 44,
     "metadata": {},
     "output_type": "execute_result"
    }
   ],
   "source": [
    "disconnect_means_df.head()"
   ],
   "metadata": {
    "collapsed": false,
    "ExecuteTime": {
     "end_time": "2024-04-03T21:48:03.669406Z",
     "start_time": "2024-04-03T21:48:03.657204Z"
    }
   },
   "id": "e900f5dd178a703b"
  },
  {
   "cell_type": "code",
   "execution_count": 45,
   "outputs": [
    {
     "data": {
      "text/plain": "           User Disconnect_mode_time\n0  DTAA/ABB0272             14:35:34\n1  DTAA/ABS0726             01:01:46\n2  DTAA/ACH0803             16:43:48\n3  DTAA/AFF0760             01:02:11\n4  DTAA/AFH0331             17:47:54",
      "text/html": "<div>\n<style scoped>\n    .dataframe tbody tr th:only-of-type {\n        vertical-align: middle;\n    }\n\n    .dataframe tbody tr th {\n        vertical-align: top;\n    }\n\n    .dataframe thead th {\n        text-align: right;\n    }\n</style>\n<table border=\"1\" class=\"dataframe\">\n  <thead>\n    <tr style=\"text-align: right;\">\n      <th></th>\n      <th>User</th>\n      <th>Disconnect_mode_time</th>\n    </tr>\n  </thead>\n  <tbody>\n    <tr>\n      <th>0</th>\n      <td>DTAA/ABB0272</td>\n      <td>14:35:34</td>\n    </tr>\n    <tr>\n      <th>1</th>\n      <td>DTAA/ABS0726</td>\n      <td>01:01:46</td>\n    </tr>\n    <tr>\n      <th>2</th>\n      <td>DTAA/ACH0803</td>\n      <td>16:43:48</td>\n    </tr>\n    <tr>\n      <th>3</th>\n      <td>DTAA/AFF0760</td>\n      <td>01:02:11</td>\n    </tr>\n    <tr>\n      <th>4</th>\n      <td>DTAA/AFH0331</td>\n      <td>17:47:54</td>\n    </tr>\n  </tbody>\n</table>\n</div>"
     },
     "execution_count": 45,
     "metadata": {},
     "output_type": "execute_result"
    }
   ],
   "source": [
    "disconnect_modes_df.head()"
   ],
   "metadata": {
    "collapsed": false,
    "ExecuteTime": {
     "end_time": "2024-04-03T21:48:04.082333Z",
     "start_time": "2024-04-03T21:48:04.071461Z"
    }
   },
   "id": "c1ef00031d3a4671"
  },
  {
   "cell_type": "code",
   "execution_count": null,
   "outputs": [],
   "source": [
    "df_all = pd.DataFrame()\n",
    "\n",
    "# Read all CSV files and concatenate into a single DataFrame\n",
    "for filename in os.listdir(csv_directory):\n",
    "    if filename.endswith('.csv'):\n",
    "        file_path = os.path.join(csv_directory, filename)\n",
    "        df_temp = pd.read_csv(file_path, header=None)  # Assuming the CSV has no header\n",
    "        df_temp.columns = ['User', 'Timestamp', 'PC', 'Activity', 'Action']  # Assign column names\n",
    "        df_all = pd.concat([df_all, df_temp])\n",
    "\n",
    "# Ensure 'Timestamp' is a datetime object\n",
    "df_all['Timestamp'] = pd.to_datetime(df_all['Timestamp'], format='%m/%d/%Y %H:%M:%S')\n",
    "\n",
    "# Filter out 'Logon' and 'Logoff' activities into separate DataFrames\n",
    "df_logon = df_all[df_all['Action'] == 'Logon']\n",
    "df_logoff = df_all[df_all['Action'] == 'Logoff']\n",
    "\n",
    "# Define a function to perform the aggregation and transformation\n",
    "def aggregate_user_pc_log_activities(df_activity):\n",
    "    # Aggregate data to count the total number of activities per user per PC\n",
    "    df_user_pc = df_activity.groupby(['User', 'PC']).size().reset_index(name='pc_activities_per_user_total')\n",
    "\n",
    "    # Calculate the unique count of PCs per user\n",
    "    df_user_pc['unique_pc_count'] = df_user_pc.groupby('User')['PC'].transform('nunique')\n",
    "\n",
    "    # Keep only the 'User' and 'unique_pc_count' columns and drop duplicates\n",
    "    df_user_pc = df_user_pc[['User', 'unique_pc_count']].drop_duplicates()\n",
    "\n",
    "    return df_user_pc\n",
    "\n",
    "# Apply the function to both logon and logoff DataFrames\n",
    "df_user_pc_logon = aggregate_user_pc_log_activities(df_logon)\n",
    "df_user_pc_logoff = aggregate_user_pc_log_activities(df_logoff)\n",
    "\n",
    "# Optionally, save these dataframes to CSV\n",
    "# df_user_pc_logon.to_csv('user_pc_logon.csv', index=False)\n",
    "# df_user_pc_logoff.to_csv('user_pc_logoff.csv', index=False)"
   ],
   "metadata": {
    "collapsed": false,
    "is_executing": true,
    "ExecuteTime": {
     "start_time": "2024-04-03T21:48:04.754500Z"
    }
   },
   "id": "59df449055e44519"
  },
  {
   "cell_type": "code",
   "execution_count": 34,
   "outputs": [
    {
     "data": {
      "text/plain": "               User  unique_pc_count\n0      DTAA/AAA0371               16\n16     DTAA/AAC0344                1\n17     DTAA/AAC0599                1\n18     DTAA/AAH0734                1\n19     DTAA/AAK0658                1\n...             ...              ...\n22244  DTAA/ZGH0528                1\n22245  DTAA/ZKE0662                1\n22246  DTAA/ZKH0388               44\n22290  DTAA/ZKN0548                1\n22291  DTAA/ZRR0705                1\n\n[1000 rows x 2 columns]",
      "text/html": "<div>\n<style scoped>\n    .dataframe tbody tr th:only-of-type {\n        vertical-align: middle;\n    }\n\n    .dataframe tbody tr th {\n        vertical-align: top;\n    }\n\n    .dataframe thead th {\n        text-align: right;\n    }\n</style>\n<table border=\"1\" class=\"dataframe\">\n  <thead>\n    <tr style=\"text-align: right;\">\n      <th></th>\n      <th>User</th>\n      <th>unique_pc_count</th>\n    </tr>\n  </thead>\n  <tbody>\n    <tr>\n      <th>0</th>\n      <td>DTAA/AAA0371</td>\n      <td>16</td>\n    </tr>\n    <tr>\n      <th>16</th>\n      <td>DTAA/AAC0344</td>\n      <td>1</td>\n    </tr>\n    <tr>\n      <th>17</th>\n      <td>DTAA/AAC0599</td>\n      <td>1</td>\n    </tr>\n    <tr>\n      <th>18</th>\n      <td>DTAA/AAH0734</td>\n      <td>1</td>\n    </tr>\n    <tr>\n      <th>19</th>\n      <td>DTAA/AAK0658</td>\n      <td>1</td>\n    </tr>\n    <tr>\n      <th>...</th>\n      <td>...</td>\n      <td>...</td>\n    </tr>\n    <tr>\n      <th>22244</th>\n      <td>DTAA/ZGH0528</td>\n      <td>1</td>\n    </tr>\n    <tr>\n      <th>22245</th>\n      <td>DTAA/ZKE0662</td>\n      <td>1</td>\n    </tr>\n    <tr>\n      <th>22246</th>\n      <td>DTAA/ZKH0388</td>\n      <td>44</td>\n    </tr>\n    <tr>\n      <th>22290</th>\n      <td>DTAA/ZKN0548</td>\n      <td>1</td>\n    </tr>\n    <tr>\n      <th>22291</th>\n      <td>DTAA/ZRR0705</td>\n      <td>1</td>\n    </tr>\n  </tbody>\n</table>\n<p>1000 rows × 2 columns</p>\n</div>"
     },
     "execution_count": 34,
     "metadata": {},
     "output_type": "execute_result"
    }
   ],
   "source": [
    "df_user_pc_logon"
   ],
   "metadata": {
    "collapsed": false,
    "ExecuteTime": {
     "end_time": "2024-04-03T21:45:06.874461Z",
     "start_time": "2024-04-03T21:45:06.870480Z"
    }
   },
   "id": "b9b0ee381e4f82a1"
  },
  {
   "cell_type": "code",
   "execution_count": null,
   "outputs": [],
   "source": [],
   "metadata": {
    "collapsed": false
   },
   "id": "4a5af5dcbfc787a6"
  }
 ],
 "metadata": {
  "kernelspec": {
   "display_name": "Python 3",
   "language": "python",
   "name": "python3"
  },
  "language_info": {
   "codemirror_mode": {
    "name": "ipython",
    "version": 2
   },
   "file_extension": ".py",
   "mimetype": "text/x-python",
   "name": "python",
   "nbconvert_exporter": "python",
   "pygments_lexer": "ipython2",
   "version": "2.7.6"
  }
 },
 "nbformat": 4,
 "nbformat_minor": 5
}

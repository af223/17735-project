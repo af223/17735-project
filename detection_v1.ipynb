{
 "cells": [
  {
   "cell_type": "code",
   "execution_count": 104,
   "id": "initial_id",
   "metadata": {
    "collapsed": true,
    "ExecuteTime": {
     "end_time": "2024-04-07T17:37:00.859539Z",
     "start_time": "2024-04-07T17:37:00.850802Z"
    }
   },
   "outputs": [],
   "source": [
    "import pandas as pd\n",
    "import os\n"
   ]
  },
  {
   "cell_type": "code",
   "execution_count": 105,
   "outputs": [],
   "source": [
    "import os\n",
    "import pandas as pd\n",
    "\n",
    "# Directory where CSV files are stored\n",
    "csv_directory = '/Users/wickywonka/CMU/coursework/17735/project/17735-project/ExtractedData'\n",
    "\n",
    "# Lists to hold data from each file\n",
    "logon_data = []\n",
    "logoff_data = []\n",
    "\n",
    "# Iterate over each CSV file in the directory\n",
    "for filename in os.listdir(csv_directory):\n",
    "    if filename.endswith('.csv'):\n",
    "        # Full path to the CSV file\n",
    "        csv_path = os.path.join(csv_directory, filename)\n",
    "\n",
    "        # Read the CSV file into a DataFrame\n",
    "        df = pd.read_csv(csv_path, names=['User', 'Timestamp', 'PC', 'ActivityType', 'Action'])\n",
    "\n",
    "        # Convert Timestamp to datetime\n",
    "        df['Timestamp'] = pd.to_datetime(df['Timestamp'], format='%m/%d/%Y %H:%M:%S')\n",
    "\n",
    "        # Extract time and hour from Timestamp\n",
    "        df['Time'] = df['Timestamp'].dt.time\n",
    "        df['Hour'] = df['Timestamp'].dt.hour\n",
    "\n",
    "        # Append DataFrame to the list by action\n",
    "        logon_data.append(df[df['Action'] == 'Logon'])\n",
    "        logoff_data.append(df[df['Action'] == 'Logoff'])\n",
    "\n",
    "# Concatenate all logon and logoff data into two separate DataFrames\n",
    "logon_df = pd.concat(logon_data)\n",
    "logoff_df = pd.concat(logoff_data)\n",
    "\n",
    "# Group by 'User' and aggregate times for logon\n",
    "df_user_logon_stats = logon_df.groupby('User')['Time'].agg(['min', 'max']).reset_index()\n",
    "df_logon_mode = logon_df.groupby('User')['Time'].agg(lambda x: x.value_counts().index[0]).reset_index()\n",
    "df_logon_mean = logon_df.groupby('User')['Hour'].mean().reset_index()\n",
    "\n",
    "# Convert mean hour to int and then to time\n",
    "df_logon_mean['Hour'] = df_logon_mean['Hour'].astype(int)\n",
    "df_logon_mean['Hour'] = pd.to_datetime(df_logon_mean['Hour'], format='%H').dt.time\n",
    "\n",
    "# Add mode and mean to the logon stats DataFrame\n",
    "df_user_logon_stats['mode'] = df_logon_mode['Time']\n",
    "df_user_logon_stats['mean'] = df_logon_mean['Hour']\n",
    "\n",
    "# Group by 'User' and aggregate times for logoff\n",
    "df_user_logoff_stats = logoff_df.groupby('User')['Time'].agg(['min', 'max']).reset_index()\n",
    "df_logoff_mode = logoff_df.groupby('User')['Time'].agg(lambda x: x.value_counts().index[0]).reset_index()\n",
    "df_logoff_mean = logoff_df.groupby('User')['Hour'].mean().reset_index()\n",
    "\n",
    "# Convert mean hour to int and then to time\n",
    "df_logoff_mean['Hour'] = df_logoff_mean['Hour'].astype(int)\n",
    "df_logoff_mean['Hour'] = pd.to_datetime(df_logoff_mean['Hour'], format='%H').dt.time\n",
    "\n",
    "# Add mode and mean to the logoff stats DataFrame\n",
    "df_user_logoff_stats['mode'] = df_logoff_mode['Time']\n",
    "df_user_logoff_stats['mean'] = df_logoff_mean['Hour']\n"
   ],
   "metadata": {
    "collapsed": false,
    "ExecuteTime": {
     "end_time": "2024-04-07T17:37:18.880509Z",
     "start_time": "2024-04-07T17:37:01.448411Z"
    }
   },
   "id": "ab8d2dd16ea3c7f5"
  },
  {
   "cell_type": "code",
   "execution_count": 106,
   "outputs": [
    {
     "name": "stdout",
     "output_type": "stream",
     "text": [
      "             User       min       max      mode      mean\n",
      "0    DTAA/AAA0371  07:35:01  13:46:57  07:54:21  09:00:00\n",
      "1    DTAA/AAC0344  07:50:03  08:09:53  08:06:07  07:00:00\n",
      "2    DTAA/AAC0599  07:50:03  08:09:58  07:56:28  07:00:00\n",
      "3    DTAA/AAH0734  08:20:05  08:39:58  08:26:55  08:00:00\n",
      "4    DTAA/AAK0658  08:20:00  08:39:54  08:22:33  08:00:00\n",
      "..            ...       ...       ...       ...       ...\n",
      "995  DTAA/ZGH0528  08:35:06  14:54:12  08:36:42  10:00:00\n",
      "996  DTAA/ZKE0662  07:20:03  13:36:39  07:23:43  09:00:00\n",
      "997  DTAA/ZKH0388  06:35:00  16:35:13  06:47:44  08:00:00\n",
      "998  DTAA/ZKN0548  08:20:05  08:39:46  08:25:35  08:00:00\n",
      "999  DTAA/ZRR0705  09:05:02  09:24:54  09:09:14  09:00:00\n",
      "\n",
      "[1000 rows x 5 columns]\n",
      "             User       min       max      mode      mean\n",
      "0    DTAA/AAA0371  08:33:18  14:54:58  14:48:22  13:00:00\n",
      "1    DTAA/AAC0344  15:55:00  16:09:58  15:55:10  15:00:00\n",
      "2    DTAA/AAC0599  15:55:01  16:09:53  16:04:27  15:00:00\n",
      "3    DTAA/AAH0734  17:25:00  17:39:59  17:34:26  17:00:00\n",
      "4    DTAA/AAK0658  16:25:05  16:39:59  16:38:32  16:00:00\n",
      "..            ...       ...       ...       ...       ...\n",
      "995  DTAA/ZGH0528  17:40:01  17:54:58  17:50:29  17:00:00\n",
      "996  DTAA/ZKE0662  19:25:02  19:39:59  19:37:22  19:00:00\n",
      "997  DTAA/ZKH0388  07:34:06  17:54:59  17:47:13  16:00:00\n",
      "998  DTAA/ZKN0548  18:25:01  18:39:54  18:33:30  18:00:00\n",
      "999  DTAA/ZRR0705  18:10:01  18:24:58  18:18:09  18:00:00\n",
      "\n",
      "[1000 rows x 5 columns]\n"
     ]
    }
   ],
   "source": [
    "print(df_user_logon_stats)\n",
    "print(df_user_logoff_stats)"
   ],
   "metadata": {
    "collapsed": false,
    "ExecuteTime": {
     "end_time": "2024-04-07T17:37:18.886914Z",
     "start_time": "2024-04-07T17:37:18.880892Z"
    }
   },
   "id": "ae606679402ee3b9"
  },
  {
   "cell_type": "code",
   "execution_count": 107,
   "outputs": [
    {
     "data": {
      "text/plain": "             User       min       max      mode      mean\n0    DTAA/AAA0371  07:35:01  13:46:57  07:54:21  09:00:00\n1    DTAA/AAC0344  07:50:03  08:09:53  08:06:07  07:00:00\n2    DTAA/AAC0599  07:50:03  08:09:58  07:56:28  07:00:00\n3    DTAA/AAH0734  08:20:05  08:39:58  08:26:55  08:00:00\n4    DTAA/AAK0658  08:20:00  08:39:54  08:22:33  08:00:00\n..            ...       ...       ...       ...       ...\n995  DTAA/ZGH0528  08:35:06  14:54:12  08:36:42  10:00:00\n996  DTAA/ZKE0662  07:20:03  13:36:39  07:23:43  09:00:00\n997  DTAA/ZKH0388  06:35:00  16:35:13  06:47:44  08:00:00\n998  DTAA/ZKN0548  08:20:05  08:39:46  08:25:35  08:00:00\n999  DTAA/ZRR0705  09:05:02  09:24:54  09:09:14  09:00:00\n\n[1000 rows x 5 columns]",
      "text/html": "<div>\n<style scoped>\n    .dataframe tbody tr th:only-of-type {\n        vertical-align: middle;\n    }\n\n    .dataframe tbody tr th {\n        vertical-align: top;\n    }\n\n    .dataframe thead th {\n        text-align: right;\n    }\n</style>\n<table border=\"1\" class=\"dataframe\">\n  <thead>\n    <tr style=\"text-align: right;\">\n      <th></th>\n      <th>User</th>\n      <th>min</th>\n      <th>max</th>\n      <th>mode</th>\n      <th>mean</th>\n    </tr>\n  </thead>\n  <tbody>\n    <tr>\n      <th>0</th>\n      <td>DTAA/AAA0371</td>\n      <td>07:35:01</td>\n      <td>13:46:57</td>\n      <td>07:54:21</td>\n      <td>09:00:00</td>\n    </tr>\n    <tr>\n      <th>1</th>\n      <td>DTAA/AAC0344</td>\n      <td>07:50:03</td>\n      <td>08:09:53</td>\n      <td>08:06:07</td>\n      <td>07:00:00</td>\n    </tr>\n    <tr>\n      <th>2</th>\n      <td>DTAA/AAC0599</td>\n      <td>07:50:03</td>\n      <td>08:09:58</td>\n      <td>07:56:28</td>\n      <td>07:00:00</td>\n    </tr>\n    <tr>\n      <th>3</th>\n      <td>DTAA/AAH0734</td>\n      <td>08:20:05</td>\n      <td>08:39:58</td>\n      <td>08:26:55</td>\n      <td>08:00:00</td>\n    </tr>\n    <tr>\n      <th>4</th>\n      <td>DTAA/AAK0658</td>\n      <td>08:20:00</td>\n      <td>08:39:54</td>\n      <td>08:22:33</td>\n      <td>08:00:00</td>\n    </tr>\n    <tr>\n      <th>...</th>\n      <td>...</td>\n      <td>...</td>\n      <td>...</td>\n      <td>...</td>\n      <td>...</td>\n    </tr>\n    <tr>\n      <th>995</th>\n      <td>DTAA/ZGH0528</td>\n      <td>08:35:06</td>\n      <td>14:54:12</td>\n      <td>08:36:42</td>\n      <td>10:00:00</td>\n    </tr>\n    <tr>\n      <th>996</th>\n      <td>DTAA/ZKE0662</td>\n      <td>07:20:03</td>\n      <td>13:36:39</td>\n      <td>07:23:43</td>\n      <td>09:00:00</td>\n    </tr>\n    <tr>\n      <th>997</th>\n      <td>DTAA/ZKH0388</td>\n      <td>06:35:00</td>\n      <td>16:35:13</td>\n      <td>06:47:44</td>\n      <td>08:00:00</td>\n    </tr>\n    <tr>\n      <th>998</th>\n      <td>DTAA/ZKN0548</td>\n      <td>08:20:05</td>\n      <td>08:39:46</td>\n      <td>08:25:35</td>\n      <td>08:00:00</td>\n    </tr>\n    <tr>\n      <th>999</th>\n      <td>DTAA/ZRR0705</td>\n      <td>09:05:02</td>\n      <td>09:24:54</td>\n      <td>09:09:14</td>\n      <td>09:00:00</td>\n    </tr>\n  </tbody>\n</table>\n<p>1000 rows × 5 columns</p>\n</div>"
     },
     "execution_count": 107,
     "metadata": {},
     "output_type": "execute_result"
    }
   ],
   "source": [
    "df_user_logon_stats\n"
   ],
   "metadata": {
    "collapsed": false,
    "ExecuteTime": {
     "end_time": "2024-04-07T17:37:18.893536Z",
     "start_time": "2024-04-07T17:37:18.885416Z"
    }
   },
   "id": "7b340898398cec4"
  },
  {
   "cell_type": "code",
   "execution_count": 108,
   "outputs": [
    {
     "data": {
      "text/plain": "             User       min       max      mode      mean\n0    DTAA/AAA0371  08:33:18  14:54:58  14:48:22  13:00:00\n1    DTAA/AAC0344  15:55:00  16:09:58  15:55:10  15:00:00\n2    DTAA/AAC0599  15:55:01  16:09:53  16:04:27  15:00:00\n3    DTAA/AAH0734  17:25:00  17:39:59  17:34:26  17:00:00\n4    DTAA/AAK0658  16:25:05  16:39:59  16:38:32  16:00:00\n..            ...       ...       ...       ...       ...\n995  DTAA/ZGH0528  17:40:01  17:54:58  17:50:29  17:00:00\n996  DTAA/ZKE0662  19:25:02  19:39:59  19:37:22  19:00:00\n997  DTAA/ZKH0388  07:34:06  17:54:59  17:47:13  16:00:00\n998  DTAA/ZKN0548  18:25:01  18:39:54  18:33:30  18:00:00\n999  DTAA/ZRR0705  18:10:01  18:24:58  18:18:09  18:00:00\n\n[1000 rows x 5 columns]",
      "text/html": "<div>\n<style scoped>\n    .dataframe tbody tr th:only-of-type {\n        vertical-align: middle;\n    }\n\n    .dataframe tbody tr th {\n        vertical-align: top;\n    }\n\n    .dataframe thead th {\n        text-align: right;\n    }\n</style>\n<table border=\"1\" class=\"dataframe\">\n  <thead>\n    <tr style=\"text-align: right;\">\n      <th></th>\n      <th>User</th>\n      <th>min</th>\n      <th>max</th>\n      <th>mode</th>\n      <th>mean</th>\n    </tr>\n  </thead>\n  <tbody>\n    <tr>\n      <th>0</th>\n      <td>DTAA/AAA0371</td>\n      <td>08:33:18</td>\n      <td>14:54:58</td>\n      <td>14:48:22</td>\n      <td>13:00:00</td>\n    </tr>\n    <tr>\n      <th>1</th>\n      <td>DTAA/AAC0344</td>\n      <td>15:55:00</td>\n      <td>16:09:58</td>\n      <td>15:55:10</td>\n      <td>15:00:00</td>\n    </tr>\n    <tr>\n      <th>2</th>\n      <td>DTAA/AAC0599</td>\n      <td>15:55:01</td>\n      <td>16:09:53</td>\n      <td>16:04:27</td>\n      <td>15:00:00</td>\n    </tr>\n    <tr>\n      <th>3</th>\n      <td>DTAA/AAH0734</td>\n      <td>17:25:00</td>\n      <td>17:39:59</td>\n      <td>17:34:26</td>\n      <td>17:00:00</td>\n    </tr>\n    <tr>\n      <th>4</th>\n      <td>DTAA/AAK0658</td>\n      <td>16:25:05</td>\n      <td>16:39:59</td>\n      <td>16:38:32</td>\n      <td>16:00:00</td>\n    </tr>\n    <tr>\n      <th>...</th>\n      <td>...</td>\n      <td>...</td>\n      <td>...</td>\n      <td>...</td>\n      <td>...</td>\n    </tr>\n    <tr>\n      <th>995</th>\n      <td>DTAA/ZGH0528</td>\n      <td>17:40:01</td>\n      <td>17:54:58</td>\n      <td>17:50:29</td>\n      <td>17:00:00</td>\n    </tr>\n    <tr>\n      <th>996</th>\n      <td>DTAA/ZKE0662</td>\n      <td>19:25:02</td>\n      <td>19:39:59</td>\n      <td>19:37:22</td>\n      <td>19:00:00</td>\n    </tr>\n    <tr>\n      <th>997</th>\n      <td>DTAA/ZKH0388</td>\n      <td>07:34:06</td>\n      <td>17:54:59</td>\n      <td>17:47:13</td>\n      <td>16:00:00</td>\n    </tr>\n    <tr>\n      <th>998</th>\n      <td>DTAA/ZKN0548</td>\n      <td>18:25:01</td>\n      <td>18:39:54</td>\n      <td>18:33:30</td>\n      <td>18:00:00</td>\n    </tr>\n    <tr>\n      <th>999</th>\n      <td>DTAA/ZRR0705</td>\n      <td>18:10:01</td>\n      <td>18:24:58</td>\n      <td>18:18:09</td>\n      <td>18:00:00</td>\n    </tr>\n  </tbody>\n</table>\n<p>1000 rows × 5 columns</p>\n</div>"
     },
     "execution_count": 108,
     "metadata": {},
     "output_type": "execute_result"
    }
   ],
   "source": [
    "df_user_logoff_stats"
   ],
   "metadata": {
    "collapsed": false,
    "ExecuteTime": {
     "end_time": "2024-04-07T17:37:18.904678Z",
     "start_time": "2024-04-07T17:37:18.897987Z"
    }
   },
   "id": "3be118ed55202794"
  },
  {
   "cell_type": "code",
   "execution_count": 109,
   "outputs": [
    {
     "data": {
      "text/plain": "           User      Hour\n0  DTAA/AAA0371  09:00:00\n1  DTAA/AAC0344  07:00:00\n2  DTAA/AAC0599  07:00:00\n3  DTAA/AAH0734  08:00:00\n4  DTAA/AAK0658  08:00:00",
      "text/html": "<div>\n<style scoped>\n    .dataframe tbody tr th:only-of-type {\n        vertical-align: middle;\n    }\n\n    .dataframe tbody tr th {\n        vertical-align: top;\n    }\n\n    .dataframe thead th {\n        text-align: right;\n    }\n</style>\n<table border=\"1\" class=\"dataframe\">\n  <thead>\n    <tr style=\"text-align: right;\">\n      <th></th>\n      <th>User</th>\n      <th>Hour</th>\n    </tr>\n  </thead>\n  <tbody>\n    <tr>\n      <th>0</th>\n      <td>DTAA/AAA0371</td>\n      <td>09:00:00</td>\n    </tr>\n    <tr>\n      <th>1</th>\n      <td>DTAA/AAC0344</td>\n      <td>07:00:00</td>\n    </tr>\n    <tr>\n      <th>2</th>\n      <td>DTAA/AAC0599</td>\n      <td>07:00:00</td>\n    </tr>\n    <tr>\n      <th>3</th>\n      <td>DTAA/AAH0734</td>\n      <td>08:00:00</td>\n    </tr>\n    <tr>\n      <th>4</th>\n      <td>DTAA/AAK0658</td>\n      <td>08:00:00</td>\n    </tr>\n  </tbody>\n</table>\n</div>"
     },
     "execution_count": 109,
     "metadata": {},
     "output_type": "execute_result"
    }
   ],
   "source": [
    "df_logon_mean.head()"
   ],
   "metadata": {
    "collapsed": false,
    "ExecuteTime": {
     "end_time": "2024-04-07T17:37:18.933942Z",
     "start_time": "2024-04-07T17:37:18.903596Z"
    }
   },
   "id": "4d8457e56b1a7b5e"
  },
  {
   "cell_type": "code",
   "execution_count": 110,
   "outputs": [
    {
     "data": {
      "text/plain": "           User      Time\n0  DTAA/AAA0371  07:54:21\n1  DTAA/AAC0344  08:06:07\n2  DTAA/AAC0599  07:56:28\n3  DTAA/AAH0734  08:26:55\n4  DTAA/AAK0658  08:22:33",
      "text/html": "<div>\n<style scoped>\n    .dataframe tbody tr th:only-of-type {\n        vertical-align: middle;\n    }\n\n    .dataframe tbody tr th {\n        vertical-align: top;\n    }\n\n    .dataframe thead th {\n        text-align: right;\n    }\n</style>\n<table border=\"1\" class=\"dataframe\">\n  <thead>\n    <tr style=\"text-align: right;\">\n      <th></th>\n      <th>User</th>\n      <th>Time</th>\n    </tr>\n  </thead>\n  <tbody>\n    <tr>\n      <th>0</th>\n      <td>DTAA/AAA0371</td>\n      <td>07:54:21</td>\n    </tr>\n    <tr>\n      <th>1</th>\n      <td>DTAA/AAC0344</td>\n      <td>08:06:07</td>\n    </tr>\n    <tr>\n      <th>2</th>\n      <td>DTAA/AAC0599</td>\n      <td>07:56:28</td>\n    </tr>\n    <tr>\n      <th>3</th>\n      <td>DTAA/AAH0734</td>\n      <td>08:26:55</td>\n    </tr>\n    <tr>\n      <th>4</th>\n      <td>DTAA/AAK0658</td>\n      <td>08:22:33</td>\n    </tr>\n  </tbody>\n</table>\n</div>"
     },
     "execution_count": 110,
     "metadata": {},
     "output_type": "execute_result"
    }
   ],
   "source": [
    "df_logon_mode.head()"
   ],
   "metadata": {
    "collapsed": false,
    "ExecuteTime": {
     "end_time": "2024-04-07T17:37:18.934577Z",
     "start_time": "2024-04-07T17:37:18.908778Z"
    }
   },
   "id": "30cd72c727e260a7"
  },
  {
   "cell_type": "code",
   "execution_count": 111,
   "outputs": [
    {
     "data": {
      "text/plain": "           User      Hour\n0  DTAA/AAA0371  13:00:00\n1  DTAA/AAC0344  15:00:00\n2  DTAA/AAC0599  15:00:00\n3  DTAA/AAH0734  17:00:00\n4  DTAA/AAK0658  16:00:00",
      "text/html": "<div>\n<style scoped>\n    .dataframe tbody tr th:only-of-type {\n        vertical-align: middle;\n    }\n\n    .dataframe tbody tr th {\n        vertical-align: top;\n    }\n\n    .dataframe thead th {\n        text-align: right;\n    }\n</style>\n<table border=\"1\" class=\"dataframe\">\n  <thead>\n    <tr style=\"text-align: right;\">\n      <th></th>\n      <th>User</th>\n      <th>Hour</th>\n    </tr>\n  </thead>\n  <tbody>\n    <tr>\n      <th>0</th>\n      <td>DTAA/AAA0371</td>\n      <td>13:00:00</td>\n    </tr>\n    <tr>\n      <th>1</th>\n      <td>DTAA/AAC0344</td>\n      <td>15:00:00</td>\n    </tr>\n    <tr>\n      <th>2</th>\n      <td>DTAA/AAC0599</td>\n      <td>15:00:00</td>\n    </tr>\n    <tr>\n      <th>3</th>\n      <td>DTAA/AAH0734</td>\n      <td>17:00:00</td>\n    </tr>\n    <tr>\n      <th>4</th>\n      <td>DTAA/AAK0658</td>\n      <td>16:00:00</td>\n    </tr>\n  </tbody>\n</table>\n</div>"
     },
     "execution_count": 111,
     "metadata": {},
     "output_type": "execute_result"
    }
   ],
   "source": [
    "df_logoff_mean.head()"
   ],
   "metadata": {
    "collapsed": false,
    "ExecuteTime": {
     "end_time": "2024-04-07T17:37:18.985942Z",
     "start_time": "2024-04-07T17:37:18.915735Z"
    }
   },
   "id": "3da790197a174680"
  },
  {
   "cell_type": "code",
   "execution_count": 112,
   "outputs": [
    {
     "data": {
      "text/plain": "           User      Time\n0  DTAA/AAA0371  14:48:22\n1  DTAA/AAC0344  15:55:10\n2  DTAA/AAC0599  16:04:27\n3  DTAA/AAH0734  17:34:26\n4  DTAA/AAK0658  16:38:32",
      "text/html": "<div>\n<style scoped>\n    .dataframe tbody tr th:only-of-type {\n        vertical-align: middle;\n    }\n\n    .dataframe tbody tr th {\n        vertical-align: top;\n    }\n\n    .dataframe thead th {\n        text-align: right;\n    }\n</style>\n<table border=\"1\" class=\"dataframe\">\n  <thead>\n    <tr style=\"text-align: right;\">\n      <th></th>\n      <th>User</th>\n      <th>Time</th>\n    </tr>\n  </thead>\n  <tbody>\n    <tr>\n      <th>0</th>\n      <td>DTAA/AAA0371</td>\n      <td>14:48:22</td>\n    </tr>\n    <tr>\n      <th>1</th>\n      <td>DTAA/AAC0344</td>\n      <td>15:55:10</td>\n    </tr>\n    <tr>\n      <th>2</th>\n      <td>DTAA/AAC0599</td>\n      <td>16:04:27</td>\n    </tr>\n    <tr>\n      <th>3</th>\n      <td>DTAA/AAH0734</td>\n      <td>17:34:26</td>\n    </tr>\n    <tr>\n      <th>4</th>\n      <td>DTAA/AAK0658</td>\n      <td>16:38:32</td>\n    </tr>\n  </tbody>\n</table>\n</div>"
     },
     "execution_count": 112,
     "metadata": {},
     "output_type": "execute_result"
    }
   ],
   "source": [
    "df_logoff_mode.head()"
   ],
   "metadata": {
    "collapsed": false,
    "ExecuteTime": {
     "end_time": "2024-04-07T17:37:18.986367Z",
     "start_time": "2024-04-07T17:37:18.921527Z"
    }
   },
   "id": "36b2e184ebdea854"
  },
  {
   "cell_type": "code",
   "execution_count": 141,
   "outputs": [
    {
     "name": "stdout",
     "output_type": "stream",
     "text": [
      "[[27301 49617 28461 ... 49617 28461 32400]\n",
      " [28203 29393 29167 ... 29393 29167 25200]\n",
      " [28203 29398 28588 ... 29398 28588 25200]\n",
      " ...\n",
      " [23700 59713 24464 ... 59713 24464 28800]\n",
      " [30005 31186 30335 ... 31186 30335 28800]\n",
      " [32702 33894 32954 ... 33894 32954 32400]]\n",
      "0    900\n",
      "1    100\n",
      "Name: count, dtype: int64\n",
      "             User  anomaly_score\n",
      "0    DTAA/AAA0371       0.146561\n",
      "1    DTAA/AAC0344       0.171652\n",
      "2    DTAA/AAC0599       0.184828\n",
      "3    DTAA/AAH0734       0.150257\n",
      "4    DTAA/AAK0658       0.146880\n",
      "..            ...            ...\n",
      "995  DTAA/ZGH0528       0.097737\n",
      "996  DTAA/ZKE0662       0.112834\n",
      "997  DTAA/ZKH0388       0.002084\n",
      "998  DTAA/ZKN0548       0.147484\n",
      "999  DTAA/ZRR0705       0.017965\n",
      "\n",
      "[1000 rows x 2 columns]\n"
     ]
    },
    {
     "data": {
      "text/plain": "             User  anomaly_score\n13   DTAA/ABS0726      -0.005567\n14   DTAA/ACD0647      -0.057754\n24   DTAA/AFF0760      -0.002316\n33   DTAA/AGW0182      -0.001182\n45   DTAA/AJC0399      -0.087825\n..            ...            ...\n954  DTAA/WCN0570      -0.046487\n961  DTAA/WJG0153      -0.038810\n970  DTAA/WTA0867      -0.034294\n972  DTAA/XCB0445      -0.043429\n975  DTAA/XIN0791      -0.029094\n\n[100 rows x 2 columns]",
      "text/html": "<div>\n<style scoped>\n    .dataframe tbody tr th:only-of-type {\n        vertical-align: middle;\n    }\n\n    .dataframe tbody tr th {\n        vertical-align: top;\n    }\n\n    .dataframe thead th {\n        text-align: right;\n    }\n</style>\n<table border=\"1\" class=\"dataframe\">\n  <thead>\n    <tr style=\"text-align: right;\">\n      <th></th>\n      <th>User</th>\n      <th>anomaly_score</th>\n    </tr>\n  </thead>\n  <tbody>\n    <tr>\n      <th>13</th>\n      <td>DTAA/ABS0726</td>\n      <td>-0.005567</td>\n    </tr>\n    <tr>\n      <th>14</th>\n      <td>DTAA/ACD0647</td>\n      <td>-0.057754</td>\n    </tr>\n    <tr>\n      <th>24</th>\n      <td>DTAA/AFF0760</td>\n      <td>-0.002316</td>\n    </tr>\n    <tr>\n      <th>33</th>\n      <td>DTAA/AGW0182</td>\n      <td>-0.001182</td>\n    </tr>\n    <tr>\n      <th>45</th>\n      <td>DTAA/AJC0399</td>\n      <td>-0.087825</td>\n    </tr>\n    <tr>\n      <th>...</th>\n      <td>...</td>\n      <td>...</td>\n    </tr>\n    <tr>\n      <th>954</th>\n      <td>DTAA/WCN0570</td>\n      <td>-0.046487</td>\n    </tr>\n    <tr>\n      <th>961</th>\n      <td>DTAA/WJG0153</td>\n      <td>-0.038810</td>\n    </tr>\n    <tr>\n      <th>970</th>\n      <td>DTAA/WTA0867</td>\n      <td>-0.034294</td>\n    </tr>\n    <tr>\n      <th>972</th>\n      <td>DTAA/XCB0445</td>\n      <td>-0.043429</td>\n    </tr>\n    <tr>\n      <th>975</th>\n      <td>DTAA/XIN0791</td>\n      <td>-0.029094</td>\n    </tr>\n  </tbody>\n</table>\n<p>100 rows × 2 columns</p>\n</div>"
     },
     "execution_count": 141,
     "metadata": {},
     "output_type": "execute_result"
    }
   ],
   "source": [
    "import matplotlib.pyplot as plt\n",
    "from sklearn.ensemble import IsolationForest\n",
    "import pickle\n",
    "import numpy as np\n",
    "import pandas as pd \n",
    "\n",
    "def dtt2timestamp(dtt):\n",
    "  time_in_sec = (dtt.hour*60 + dtt.minute) * 60 + dtt.second\n",
    "  return time_in_sec\n",
    "\n",
    "df_user_logon_stats_sec = df_user_logon_stats\n",
    "\n",
    "time_columns = ['min', 'max', 'mode', 'mean']\n",
    "for col in time_columns:\n",
    "    df_user_logon_stats_sec[col] = pd.to_datetime(df_user_logon_stats[col], format='%H:%M:%S').dt.time\n",
    "\n",
    "\n",
    "min_ts = [dtt2timestamp(dtt) for dtt in df_user_logon_stats_sec['min']]\n",
    "max_ts = [dtt2timestamp(dtt) for dtt in df_user_logon_stats_sec['max']]\n",
    "mode_ts = [dtt2timestamp(dtt) for dtt in df_user_logon_stats_sec['mode']]\n",
    "mean_ts = [dtt2timestamp(dtt) for dtt in df_user_logon_stats_sec['mean']]\n",
    "\n",
    "df_user_logon_stats_sec['min_ts'] = min_ts\n",
    "df_user_logon_stats_sec['max_ts'] = max_ts\n",
    "df_user_logon_stats_sec['mode_ts'] = mode_ts\n",
    "df_user_logon_stats_sec['mean_ts'] = mean_ts\n",
    "\n",
    "\n",
    "df_user_logon_stats_sec.drop(['min','max','mode','mean'], axis=1)\n",
    "\n",
    "df_user_logoff_stats_sec = df_user_logoff_stats\n",
    "\n",
    "for col in time_columns:\n",
    "    df_user_logoff_stats_sec[col] = pd.to_datetime(df_user_logoff_stats[col], format='%H:%M:%S').dt.time\n",
    "\n",
    "\n",
    "min_ts = [dtt2timestamp(dtt) for dtt in df_user_logoff_stats_sec['min']] \n",
    "max_ts = [dtt2timestamp(dtt) for dtt in df_user_logoff_stats_sec['max']]\n",
    "mode_ts = [dtt2timestamp(dtt) for dtt in df_user_logoff_stats_sec['mode']]\n",
    "mean_ts = [dtt2timestamp(dtt) for dtt in df_user_logoff_stats_sec['mean']]\n",
    "\n",
    "\n",
    "df_user_logoff_stats_sec['min_ts'] = min_ts\n",
    "df_user_logoff_stats_sec['max_ts'] = max_ts\n",
    "df_user_logoff_stats_sec['mode_ts'] = mode_ts\n",
    "df_user_logoff_stats_sec['mean_ts'] = mean_ts\n",
    "\n",
    "\n",
    "df_user_logoff_stats_sec.drop(['min', 'max','mode','mean'], axis=1)\n",
    "\n",
    "\n",
    "df_log_on_off_stats = pd.DataFrame()\n",
    "\n",
    "df_log_on_off_stats['User'] = df_user_logon_stats_sec['User']\n",
    "df_log_on_off_stats['on_min_ts'] = df_user_logon_stats_sec['min_ts']\n",
    "df_log_on_off_stats['on_max_ts'] = df_user_logon_stats_sec['max_ts']\n",
    "df_log_on_off_stats['on_mode_ts'] = df_user_logon_stats_sec['mode_ts']\n",
    "df_log_on_off_stats['on_mean_ts'] = df_user_logon_stats_sec['mean_ts']\n",
    "df_log_on_off_stats['off_min_ts'] = df_user_logon_stats_sec['min_ts']\n",
    "df_log_on_off_stats['off_max_ts'] = df_user_logon_stats_sec['max_ts']\n",
    "df_log_on_off_stats['off_mode_ts'] = df_user_logon_stats_sec['mode_ts']\n",
    "df_log_on_off_stats['off_mean_ts'] = df_user_logon_stats_sec['mean_ts']\n",
    "\n",
    "\n",
    "#df_log_on_off_stats.dtypes\n",
    "\n",
    "log_stats = df_log_on_off_stats.drop(['User'], axis=1)\n",
    "log_stats_array = np.array(log_stats)  # Changed from np.matrix to np.array\n",
    "print(log_stats_array)\n",
    "\n",
    "\n",
    "\n",
    "#df_log_on_off_stats.columns\n",
    "\n",
    "\n",
    "#logon\n",
    "forest = IsolationForest(bootstrap=False, contamination= 0.1 , max_features=1.0,\n",
    "        max_samples='auto', n_estimators=100, n_jobs=1, random_state=0,\n",
    "        verbose=0)\n",
    "forest.fit(log_stats_array)\n",
    "log_ascore = forest.decision_function(log_stats_array)\n",
    "log_ascore[:10]\n",
    "\n",
    "\n",
    "# counting the values\n",
    "df22 = pd.Series(forest.predict(log_stats_array))\n",
    "df22 = df22.map({1:0, -1:1})\n",
    "print(df22.value_counts())\n",
    "\n",
    "\n",
    "# with open('../pkl/log_stats_matrix.pkl','wb') as file :\n",
    "#   pickle.dump(forest, file)\n",
    "\n",
    "\n",
    "df_user_log_result = pd.DataFrame()\n",
    "df_user_log_result['User'] = df_user_logoff_stats_sec['User']\n",
    "df_user_log_result['ascore'] = log_ascore\n",
    "# df_user_log_result.to_csv('user_log_result.csv')\n",
    "print(df_user_log_result)\n",
    "\n",
    "\n",
    "outliers = df_user_log_result.loc[df_user_log_result['ascore'] < 0]\n",
    "print(outliers)\n",
    "\n"
   ],
   "metadata": {
    "collapsed": false,
    "ExecuteTime": {
     "end_time": "2024-04-07T18:05:52.683479Z",
     "start_time": "2024-04-07T18:05:52.518184Z"
    }
   },
   "id": "f11134b7148a4090"
  },
  {
   "cell_type": "code",
   "execution_count": 114,
   "outputs": [],
   "source": [
    "# Lists to hold data from each file\n",
    "connect_data = []\n",
    "disconnect_data = []\n",
    "\n",
    "# Iterate over each CSV file in the directory\n",
    "for filename in os.listdir(csv_directory):\n",
    "    if filename.endswith('.csv'):\n",
    "        # Full path to the CSV file\n",
    "        csv_path = os.path.join(csv_directory, filename)\n",
    "\n",
    "        # Read the CSV file into a DataFrame\n",
    "        df = pd.read_csv(csv_path, names=['User', 'Timestamp', 'PC', 'ActivityType', 'Action'])\n",
    "\n",
    "        # Convert Timestamp to datetime\n",
    "        df['Timestamp'] = pd.to_datetime(df['Timestamp'], format='%m/%d/%Y %H:%M:%S')\n",
    "\n",
    "        # Filter DataFrame by action and append to the respective list\n",
    "        connect_data.append(df[df['Action'] == 'Connect'])\n",
    "        disconnect_data.append(df[df['Action'] == 'Disconnect'])\n",
    "\n",
    "# Concatenate all connect and disconnect data into two separate DataFrames\n",
    "connect_df = pd.concat(connect_data)\n",
    "disconnect_df = pd.concat(disconnect_data)\n",
    "\n",
    "# Calculate means for connect and disconnect\n",
    "connect_means = connect_df.groupby('User')['Timestamp'].apply(lambda x: x.mean().time())\n",
    "disconnect_means = disconnect_df.groupby('User')['Timestamp'].apply(lambda x: x.mean().time())\n",
    "\n",
    "# Calculate modes for connect and disconnect\n",
    "# We use scipy's mode function which returns the first mode in case of multimodal data\n",
    "connect_modes = connect_df.groupby('User')['Timestamp'].apply(lambda x: x.dt.time.mode()[0])\n",
    "disconnect_modes = disconnect_df.groupby('User')['Timestamp'].apply(lambda x: x.dt.time.mode()[0])\n",
    "\n",
    "# Convert Series to DataFrame for CSV output\n",
    "connect_means_df = connect_means.reset_index().rename(columns={'Timestamp': 'Connect_mean_time'})\n",
    "connect_modes_df = connect_modes.reset_index().rename(columns={'Timestamp': 'Connect_mode_time'})\n",
    "\n",
    "disconnect_means_df = disconnect_means.reset_index().rename(columns={'Timestamp': 'Disconnect_mean_time'})\n",
    "disconnect_modes_df = disconnect_modes.reset_index().rename(columns={'Timestamp': 'Disconnect_mode_time'})\n",
    "\n",
    "# Save the DataFrames to CSV files\n",
    "# connect_means_df.to_csv('connect_means.csv', index=False)\n",
    "# connect_modes_df.to_csv('connect_modes.csv', index=False)\n",
    "# disconnect_means_df.to_csv('disconnect_means.csv', index=False)\n",
    "# disconnect_modes_df.to_csv('disconnect_modes.csv', index=False)\n",
    "\n",
    "# These variables hold the respective statistics for later use in your code:\n",
    "# connect_means_df, connect_modes_df, disconnect_means_df, disconnect_modes_df"
   ],
   "metadata": {
    "collapsed": false,
    "ExecuteTime": {
     "end_time": "2024-04-07T17:37:33.014107Z",
     "start_time": "2024-04-07T17:37:19.152033Z"
    }
   },
   "id": "d5968f9d8c4b840a"
  },
  {
   "cell_type": "code",
   "execution_count": 115,
   "outputs": [
    {
     "name": "stdout",
     "output_type": "stream",
     "text": [
      "           User Connect_mean_time\n",
      "0  DTAA/ABB0272          19:20:46\n",
      "1  DTAA/ABS0726          00:06:48\n",
      "2  DTAA/ACH0803          14:59:06\n",
      "3  DTAA/AFF0760          03:13:46\n",
      "4  DTAA/AFH0331          10:56:46\n"
     ]
    }
   ],
   "source": [
    "connect_means_df.head()"
   ],
   "metadata": {
    "collapsed": false,
    "ExecuteTime": {
     "end_time": "2024-04-07T17:37:33.021485Z",
     "start_time": "2024-04-07T17:37:33.014757Z"
    }
   },
   "id": "2357370cf8c26873"
  },
  {
   "cell_type": "code",
   "execution_count": 116,
   "outputs": [
    {
     "name": "stdout",
     "output_type": "stream",
     "text": [
      "           User Connect_mode_time\n",
      "0  DTAA/ABB0272          15:47:45\n",
      "1  DTAA/ABS0726          01:01:07\n",
      "2  DTAA/ACH0803          16:05:54\n",
      "3  DTAA/AFF0760          00:57:03\n",
      "4  DTAA/AFH0331          07:57:22\n"
     ]
    }
   ],
   "source": [
    "connect_modes_df.head()"
   ],
   "metadata": {
    "collapsed": false,
    "ExecuteTime": {
     "end_time": "2024-04-07T17:37:33.022424Z",
     "start_time": "2024-04-07T17:37:33.018693Z"
    }
   },
   "id": "16d2fdb90030029d"
  },
  {
   "cell_type": "code",
   "execution_count": 117,
   "outputs": [
    {
     "name": "stdout",
     "output_type": "stream",
     "text": [
      "           User Disconnect_mean_time\n",
      "0  DTAA/ABB0272             22:43:29\n",
      "1  DTAA/ABS0726             00:36:46\n",
      "2  DTAA/ACH0803             06:03:02\n",
      "3  DTAA/AFF0760             03:44:57\n",
      "4  DTAA/AFH0331             09:26:35\n"
     ]
    }
   ],
   "source": [
    "disconnect_means_df.head()"
   ],
   "metadata": {
    "collapsed": false,
    "ExecuteTime": {
     "end_time": "2024-04-07T17:37:33.028445Z",
     "start_time": "2024-04-07T17:37:33.023330Z"
    }
   },
   "id": "e900f5dd178a703b"
  },
  {
   "cell_type": "code",
   "execution_count": 118,
   "outputs": [
    {
     "name": "stdout",
     "output_type": "stream",
     "text": [
      "           User Disconnect_mode_time\n",
      "0  DTAA/ABB0272             14:35:34\n",
      "1  DTAA/ABS0726             01:01:46\n",
      "2  DTAA/ACH0803             16:43:48\n",
      "3  DTAA/AFF0760             01:02:11\n",
      "4  DTAA/AFH0331             17:47:54\n"
     ]
    }
   ],
   "source": [
    "disconnect_modes_df.head()"
   ],
   "metadata": {
    "collapsed": false,
    "ExecuteTime": {
     "end_time": "2024-04-07T17:37:33.030884Z",
     "start_time": "2024-04-07T17:37:33.027967Z"
    }
   },
   "id": "c1ef00031d3a4671"
  },
  {
   "cell_type": "code",
   "execution_count": 119,
   "outputs": [
    {
     "name": "stdout",
     "output_type": "stream",
     "text": [
      "             User Connect_min_time Connect_max_time Connect_mean_time  \\\n",
      "0    DTAA/ABB0272         09:35:19         09:26:18          19:20:46   \n",
      "1    DTAA/ABS0726         04:32:16         02:44:26          00:06:48   \n",
      "2    DTAA/ACH0803         17:11:48         15:05:45          14:59:06   \n",
      "3    DTAA/AFF0760         00:57:03         04:45:39          03:13:46   \n",
      "4    DTAA/AFH0331         09:14:33         09:29:43          10:56:46   \n",
      "..            ...              ...              ...               ...   \n",
      "223  DTAA/YCB0005         15:46:31         16:05:53          18:42:04   \n",
      "224  DTAA/YCV0635         10:56:52         16:53:57          11:23:51   \n",
      "225  DTAA/YQW0689         16:30:58         09:05:08          12:05:24   \n",
      "226  DTAA/ZAB0889         02:19:27         22:27:47          15:58:17   \n",
      "227  DTAA/ZKH0388         08:02:14         13:24:18          04:21:43   \n",
      "\n",
      "    Connect_mode_time  \n",
      "0            15:47:45  \n",
      "1            01:01:07  \n",
      "2            16:05:54  \n",
      "3            00:57:03  \n",
      "4            07:57:22  \n",
      "..                ...  \n",
      "223          07:41:44  \n",
      "224          08:00:22  \n",
      "225          14:26:56  \n",
      "226          00:28:50  \n",
      "227          13:37:41  \n",
      "\n",
      "[228 rows x 5 columns]\n"
     ]
    }
   ],
   "source": [
    "df_all = pd.DataFrame()\n",
    "\n",
    "# Read all CSV files and concatenate into a single DataFrame\n",
    "for filename in os.listdir(csv_directory):\n",
    "    if filename.endswith('.csv'):\n",
    "        file_path = os.path.join(csv_directory, filename)\n",
    "        df_temp = pd.read_csv(file_path, header=None)  # Assuming the CSV has no header\n",
    "        df_temp.columns = ['User', 'Timestamp', 'PC', 'Activity', 'Action']  # Assign column names\n",
    "        df_all = pd.concat([df_all, df_temp])\n",
    "\n",
    "# Ensure 'Timestamp' is a datetime object\n",
    "df_all['Timestamp'] = pd.to_datetime(df_all['Timestamp'], format='%m/%d/%Y %H:%M:%S')\n",
    "\n",
    "# Filter out 'Logon' and 'Logoff' activities into separate DataFrames\n",
    "df_logon = df_all[df_all['Action'] == 'Logon']\n",
    "df_logoff = df_all[df_all['Action'] == 'Logoff']\n",
    "\n",
    "# Define a function to perform the aggregation and transformation\n",
    "def aggregate_user_pc_log_activities(df_activity):\n",
    "    # Aggregate data to count the total number of activities per user per PC\n",
    "    df_user_pc = df_activity.groupby(['User', 'PC']).size().reset_index(name='pc_activities_per_user_total')\n",
    "\n",
    "    # Calculate the unique count of PCs per user\n",
    "    df_user_pc['unique_pc_count'] = df_user_pc.groupby('User')['PC'].transform('nunique')\n",
    "\n",
    "    # Keep only the 'User' and 'unique_pc_count' columns and drop duplicates\n",
    "    df_user_pc = df_user_pc[['User', 'unique_pc_count']].drop_duplicates()\n",
    "\n",
    "    return df_user_pc\n",
    "\n",
    "# Apply the function to both logon and logoff DataFrames\n",
    "df_user_pc_logon = aggregate_user_pc_log_activities(df_logon)\n",
    "df_user_pc_logoff = aggregate_user_pc_log_activities(df_logoff)\n",
    "\n",
    "# Optionally, save these dataframes to CSV\n",
    "# df_user_pc_logon.to_csv('user_pc_logon.csv', index=False)\n",
    "# df_user_pc_logoff.to_csv('user_pc_logoff.csv', index=False)"
   ],
   "metadata": {
    "collapsed": false,
    "ExecuteTime": {
     "end_time": "2024-04-07T17:37:33.036947Z",
     "start_time": "2024-04-07T17:37:33.033206Z"
    }
   },
   "id": "59df449055e44519"
  },
  {
   "cell_type": "code",
   "execution_count": 120,
   "outputs": [
    {
     "name": "stdout",
     "output_type": "stream",
     "text": [
      "[[34519 33978 56865 ... 54129 52534 81809]\n",
      " [16336  9866  3667 ... 10100  3706  2206]\n",
      " [61908 54345 57954 ... 59896 60228 21782]\n",
      " ...\n",
      " [59458 32708 52016 ... 34312 58023 23985]\n",
      " [ 8367 80867  1730 ... 85495  2039  6767]\n",
      " [28934 48258 49061 ... 54927 27834  8616]]\n",
      "User\n",
      "DTAA/ABB0272    1\n",
      "DTAA/LPG0099    1\n",
      "DTAA/LTM0418    1\n",
      "DTAA/MAB0532    1\n",
      "DTAA/MAG0290    1\n",
      "               ..\n",
      "DTAA/FUA0154    1\n",
      "DTAA/GHC0041    1\n",
      "DTAA/GKJ0573    1\n",
      "DTAA/GML0105    1\n",
      "DTAA/ZKH0388    1\n",
      "Name: count, Length: 228, dtype: int64\n",
      "             User  anomaly_score\n",
      "0    DTAA/ABB0272       0.035630\n",
      "1    DTAA/ABS0726      -0.008128\n",
      "2    DTAA/ACH0803       0.072004\n",
      "3    DTAA/AFF0760       0.012501\n",
      "4    DTAA/AFH0331       0.076882\n",
      "..            ...            ...\n",
      "223  DTAA/YCB0005       0.068776\n",
      "224  DTAA/YCV0635       0.123632\n",
      "225  DTAA/YQW0689       0.084124\n",
      "226  DTAA/ZAB0889      -0.000999\n",
      "227  DTAA/ZKH0388       0.083493\n",
      "\n",
      "[228 rows x 2 columns]\n",
      "             User  anomaly_score\n",
      "1    DTAA/ABS0726      -0.008128\n",
      "42   DTAA/CHS0324      -0.060695\n",
      "44   DTAA/CLK0383      -0.037715\n",
      "46   DTAA/CMF0339      -0.007460\n",
      "47   DTAA/COS0121      -0.004413\n",
      "51   DTAA/CTR0537      -0.033764\n",
      "61   DTAA/DFZ0063      -0.043079\n",
      "88   DTAA/GYT0279      -0.036489\n",
      "98   DTAA/HNS0858      -0.073417\n",
      "107  DTAA/JAH0544      -0.019882\n",
      "109  DTAA/JBL0450      -0.041951\n",
      "121  DTAA/JMM0759      -0.008755\n",
      "125  DTAA/JSE0020      -0.043355\n",
      "128  DTAA/KAD0059      -0.008042\n",
      "135  DTAA/KSP0927      -0.023101\n",
      "142  DTAA/LKY0181      -0.096186\n",
      "152  DTAA/MIC0914      -0.002559\n",
      "164  DTAA/NHL0253      -0.027768\n",
      "180  DTAA/RBC0583      -0.024270\n",
      "185  DTAA/RLC0442      -0.062079\n",
      "193  DTAA/SDC0032      -0.032373\n",
      "220  DTAA/WTA0867      -0.018477\n",
      "226  DTAA/ZAB0889      -0.000999\n"
     ]
    }
   ],
   "source": [
    "df_user_pc_logon"
   ],
   "metadata": {
    "collapsed": false,
    "ExecuteTime": {
     "end_time": "2024-04-07T17:37:33.160848Z",
     "start_time": "2024-04-07T17:37:33.037114Z"
    }
   },
   "id": "b9b0ee381e4f82a1"
  },
  {
   "cell_type": "code",
   "execution_count": 121,
   "outputs": [],
   "source": [
    "import matplotlib.pyplot as plt\n",
    "from sklearn.ensemble import IsolationForest\n",
    "import pickle\n",
    "import numpy as np"
   ],
   "metadata": {
    "collapsed": false,
    "ExecuteTime": {
     "end_time": "2024-04-07T17:37:52.637780Z",
     "start_time": "2024-04-07T17:37:33.864272Z"
    }
   },
   "id": "4a5af5dcbfc787a6"
  },
  {
   "cell_type": "code",
   "execution_count": 122,
   "outputs": [
    {
     "data": {
      "text/plain": "               User  unique_pc_count\n0      DTAA/AAA0371               16\n16     DTAA/AAC0344                1\n17     DTAA/AAC0599                1\n18     DTAA/AAH0734                1\n19     DTAA/AAK0658                1\n...             ...              ...\n22244  DTAA/ZGH0528                1\n22245  DTAA/ZKE0662                1\n22246  DTAA/ZKH0388               44\n22290  DTAA/ZKN0548                1\n22291  DTAA/ZRR0705                1\n\n[1000 rows x 2 columns]",
      "text/html": "<div>\n<style scoped>\n    .dataframe tbody tr th:only-of-type {\n        vertical-align: middle;\n    }\n\n    .dataframe tbody tr th {\n        vertical-align: top;\n    }\n\n    .dataframe thead th {\n        text-align: right;\n    }\n</style>\n<table border=\"1\" class=\"dataframe\">\n  <thead>\n    <tr style=\"text-align: right;\">\n      <th></th>\n      <th>User</th>\n      <th>unique_pc_count</th>\n    </tr>\n  </thead>\n  <tbody>\n    <tr>\n      <th>0</th>\n      <td>DTAA/AAA0371</td>\n      <td>16</td>\n    </tr>\n    <tr>\n      <th>16</th>\n      <td>DTAA/AAC0344</td>\n      <td>1</td>\n    </tr>\n    <tr>\n      <th>17</th>\n      <td>DTAA/AAC0599</td>\n      <td>1</td>\n    </tr>\n    <tr>\n      <th>18</th>\n      <td>DTAA/AAH0734</td>\n      <td>1</td>\n    </tr>\n    <tr>\n      <th>19</th>\n      <td>DTAA/AAK0658</td>\n      <td>1</td>\n    </tr>\n    <tr>\n      <th>...</th>\n      <td>...</td>\n      <td>...</td>\n    </tr>\n    <tr>\n      <th>22244</th>\n      <td>DTAA/ZGH0528</td>\n      <td>1</td>\n    </tr>\n    <tr>\n      <th>22245</th>\n      <td>DTAA/ZKE0662</td>\n      <td>1</td>\n    </tr>\n    <tr>\n      <th>22246</th>\n      <td>DTAA/ZKH0388</td>\n      <td>44</td>\n    </tr>\n    <tr>\n      <th>22290</th>\n      <td>DTAA/ZKN0548</td>\n      <td>1</td>\n    </tr>\n    <tr>\n      <th>22291</th>\n      <td>DTAA/ZRR0705</td>\n      <td>1</td>\n    </tr>\n  </tbody>\n</table>\n<p>1000 rows × 2 columns</p>\n</div>"
     },
     "execution_count": 122,
     "metadata": {},
     "output_type": "execute_result"
    }
   ],
   "source": [
    "# Let's assume df_user_pc_logon and df_user_pc_logoff are obtained from the previous code\n",
    "# We will use df_user_pc_logon for this example\n",
    "\n",
    "# Prepare the data for the Isolation Forest\n",
    "# Reshape the 'unique_pc_count' column to a 2D array\n",
    "pc_counts = np.array(df_user_pc_logon['unique_pc_count']).reshape(-1, 1)\n",
    "\n",
    "# Initialize the Isolation Forest model\n",
    "forest = IsolationForest(bootstrap=False, contamination=0.1, max_features=1.0,\n",
    "                         max_samples='auto', n_estimators=100, n_jobs=1, random_state=None,\n",
    "                         verbose=0)\n",
    "\n",
    "# Fit the model\n",
    "forest.fit(pc_counts)\n",
    "\n",
    "# Serialize the model using pickle\n",
    "with open('user_pc_ct_isolation_forest.pkl', 'wb') as file:\n",
    "    pickle.dump(forest, file)\n",
    "\n",
    "# Get the anomaly scores (the lower, the more abnormal)\n",
    "anomaly_scores = forest.decision_function(pc_counts)\n",
    "\n",
    "# Create a DataFrame to hold the results\n",
    "results = pd.DataFrame()\n",
    "results['user'] = df_user_pc_logon['User']\n",
    "results['unique_pc_count'] = df_user_pc_logon['unique_pc_count']\n",
    "results['anomaly_score'] = anomaly_scores\n",
    "\n",
    "# Identify potential outliers\n",
    "# Outliers are defined as observations with an anomaly score less than 0\n",
    "outliers = results.loc[results['anomaly_score'] < 0]\n",
    "\n",
    "# Display the results\n",
    "print(results.head(10))  # Show the first 10 results\n",
    "print(outliers)          # Show the outliers"
   ],
   "metadata": {
    "collapsed": false,
    "ExecuteTime": {
     "end_time": "2024-04-07T17:37:52.646987Z",
     "start_time": "2024-04-07T17:37:52.639733Z"
    }
   },
   "id": "11fba4a7f31b84ac"
  },
  {
   "cell_type": "code",
   "execution_count": 123,
   "outputs": [],
   "source": [],
   "metadata": {
    "collapsed": false,
    "ExecuteTime": {
     "end_time": "2024-04-07T17:37:52.647902Z",
     "start_time": "2024-04-07T17:37:52.642770Z"
    }
   },
   "id": "82113797dfa2fbd8"
  },
  {
   "cell_type": "code",
   "execution_count": 130,
   "outputs": [
    {
     "name": "stdout",
     "output_type": "stream",
     "text": [
      "             User  unique_pc_count  anomaly_score\n",
      "0    DTAA/AAA0371               16       0.048867\n",
      "16   DTAA/AAC0344                1       0.187738\n",
      "17   DTAA/AAC0599                1       0.187738\n",
      "18   DTAA/AAH0734                1       0.187738\n",
      "19   DTAA/AAK0658                1       0.187738\n",
      "20   DTAA/AAK0924                1       0.187738\n",
      "21   DTAA/AAR0508                1       0.187738\n",
      "22   DTAA/AAS0709               19       0.062670\n",
      "41   DTAA/ABB0272               72      -0.035022\n",
      "113  DTAA/ABD0833                1       0.187738\n",
      "               User  unique_pc_count  anomaly_score\n",
      "41     DTAA/ABB0272               72      -0.035022\n",
      "117    DTAA/ABS0726               11      -0.001034\n",
      "186    DTAA/AFG0122               74      -0.064876\n",
      "320    DTAA/AGW0182               65      -0.007466\n",
      "557    DTAA/AJN0804               71      -0.031607\n",
      "...             ...              ...            ...\n",
      "21719  DTAA/VMM0309               66      -0.012058\n",
      "21792  DTAA/WCN0570                8      -0.031126\n",
      "21986  DTAA/XQW0354               69      -0.007412\n",
      "22173  DTAA/YVF0045               66      -0.012058\n",
      "22246  DTAA/ZKH0388               44      -0.000260\n",
      "\n",
      "[99 rows x 3 columns]\n"
     ]
    }
   ],
   "source": [],
   "metadata": {
    "collapsed": false,
    "ExecuteTime": {
     "end_time": "2024-04-07T17:43:23.215587Z",
     "start_time": "2024-04-07T17:43:23.103677Z"
    }
   },
   "id": "54e9d79d57479f56"
  },
  {
   "cell_type": "code",
   "execution_count": 132,
   "outputs": [],
   "source": [],
   "metadata": {
    "collapsed": false,
    "ExecuteTime": {
     "end_time": "2024-04-07T17:45:55.784005Z",
     "start_time": "2024-04-07T17:45:55.771359Z"
    }
   },
   "id": "ccc0bd3dc279fa8a"
  },
  {
   "cell_type": "code",
   "execution_count": 139,
   "outputs": [
    {
     "data": {
      "text/plain": "array([[<Axes: title={'center': 'Connect_min_time_sec'}>,\n        <Axes: title={'center': 'Connect_max_time_sec'}>,\n        <Axes: title={'center': 'Connect_mode_time_sec'}>],\n       [<Axes: title={'center': 'Connect_mean_time_sec'}>,\n        <Axes: title={'center': 'Disconnect_min_time_sec'}>,\n        <Axes: title={'center': 'Disconnect_max_time_sec'}>],\n       [<Axes: title={'center': 'Disconnect_mode_time_sec'}>,\n        <Axes: title={'center': 'Disconnect_mean_time_sec'}>,\n        <Axes: title={'center': 'anomaly_score'}>]], dtype=object)"
     },
     "execution_count": 139,
     "metadata": {},
     "output_type": "execute_result"
    },
    {
     "data": {
      "text/plain": "<Figure size 640x480 with 9 Axes>",
      "image/png": "[encoded data removed]"
     },
     "metadata": {},
     "output_type": "display_data"
    }
   ],
   "source": [],
   "metadata": {
    "collapsed": false,
    "ExecuteTime": {
     "end_time": "2024-04-07T18:05:24.429869Z",
     "start_time": "2024-04-07T18:05:23.749372Z"
    }
   },
   "id": "f878d8157bd3daeb"
  },
  {
   "cell_type": "code",
   "execution_count": 142,
   "outputs": [
    {
     "data": {
      "text/plain": "             User Connect_min_time Connect_max_time Connect_mean_time  \\\n1    DTAA/ABS0726         04:32:16         02:44:26          00:06:48   \n42   DTAA/CHS0324         23:51:28         04:33:36          01:19:00   \n44   DTAA/CLK0383         00:33:15         20:47:02          23:46:04   \n46   DTAA/CMF0339         03:00:27         05:03:03          16:20:42   \n47   DTAA/COS0121         13:23:56         00:10:59          14:54:24   \n51   DTAA/CTR0537         00:54:40         21:55:26          22:54:48   \n61   DTAA/DFZ0063         23:22:27         21:57:51          13:09:24   \n88   DTAA/GYT0279         22:32:30         19:47:53          07:11:06   \n98   DTAA/HNS0858         21:45:26         23:33:49          02:41:34   \n107  DTAA/JAH0544         03:29:41         23:07:03          20:09:49   \n109  DTAA/JBL0450         00:36:02         00:13:17          21:42:22   \n121  DTAA/JMM0759         01:38:19         06:57:16          03:12:07   \n125  DTAA/JSE0020         23:31:03         04:15:25          09:08:30   \n128  DTAA/KAD0059         00:38:04         01:53:59          18:58:15   \n135  DTAA/KSP0927         06:55:57         23:20:29          22:40:53   \n142  DTAA/LKY0181         21:29:42         23:55:31          03:24:15   \n152  DTAA/MIC0914         11:32:52         05:46:24          09:51:03   \n164  DTAA/NHL0253         23:34:53         03:16:47          05:04:43   \n180  DTAA/RBC0583         20:11:34         07:30:41          00:38:13   \n185  DTAA/RLC0442         20:58:07         02:25:47          18:41:40   \n193  DTAA/SDC0032         08:48:08         02:08:38          04:20:13   \n220  DTAA/WTA0867         19:50:30         03:12:12          08:16:50   \n226  DTAA/ZAB0889         02:19:27         22:27:47          15:58:17   \n\n    Connect_mode_time Connect_min_time_ts  Connect_min_time_sec  \\\n1            01:01:07            04:32:16                 16336   \n42           00:15:52            23:51:28                 85888   \n44           00:33:15            00:33:15                  1995   \n46           02:52:04            03:00:27                 10827   \n47           00:01:35            13:23:56                 48236   \n51           00:05:36            00:54:40                  3280   \n61           00:36:34            23:22:27                 84147   \n88           04:44:43            22:32:30                 81150   \n98           00:07:21            21:45:26                 78326   \n107          00:44:50            03:29:41                 12581   \n109          00:05:11            00:36:02                  2162   \n121          01:38:19            01:38:19                  5899   \n125          04:15:25            23:31:03                 84663   \n128          00:15:06            00:38:04                  2284   \n135          00:05:23            06:55:57                 24957   \n142          02:57:15            21:29:42                 77382   \n152          16:02:08            11:32:52                 41572   \n164          01:40:44            23:34:53                 84893   \n180          07:30:41            20:11:34                 72694   \n185          00:04:14            20:58:07                 75487   \n193          08:50:40            08:48:08                 31688   \n220          00:05:46            19:50:30                 71430   \n226          00:28:50            02:19:27                  8367   \n\n    Connect_max_time_ts  Connect_max_time_sec Connect_mode_time_ts  ...  \\\n1              02:44:26                  9866             01:01:07  ...   \n42             04:33:36                 16416             00:15:52  ...   \n44             20:47:02                 74822             00:33:15  ...   \n46             05:03:03                 18183             02:52:04  ...   \n47             00:10:59                   659             00:01:35  ...   \n51             21:55:26                 78926             00:05:36  ...   \n61             21:57:51                 79071             00:36:34  ...   \n88             19:47:53                 71273             04:44:43  ...   \n98             23:33:49                 84829             00:07:21  ...   \n107            23:07:03                 83223             00:44:50  ...   \n109            00:13:17                   797             00:05:11  ...   \n121            06:57:16                 25036             01:38:19  ...   \n125            04:15:25                 15325             04:15:25  ...   \n128            01:53:59                  6839             00:15:06  ...   \n135            23:20:29                 84029             00:05:23  ...   \n142            23:55:31                 86131             02:57:15  ...   \n152            05:46:24                 20784             16:02:08  ...   \n164            03:16:47                 11807             01:40:44  ...   \n180            07:30:41                 27041             07:30:41  ...   \n185            02:25:47                  8747             00:04:14  ...   \n193            02:08:38                  7718             08:50:40  ...   \n220            03:12:12                 11532             00:05:46  ...   \n226            22:27:47                 80867             00:28:50  ...   \n\n     Disconnect_mode_time Disconnect_min_time_ts  Disconnect_min_time_sec  \\\n1                01:01:46               04:49:50                    17390   \n42               00:22:46               00:39:23                     2363   \n44               00:39:21               00:39:21                     2361   \n46               00:33:42               03:02:07                    10927   \n47               00:01:55               15:17:01                    55021   \n51               03:17:19               03:17:19                    11839   \n61               00:25:21               03:24:31                    12271   \n88               00:37:10               00:37:10                     2230   \n98               01:20:48               03:32:24                    12744   \n107              01:24:25               04:08:20                    14900   \n109              00:14:56               00:38:35                     2315   \n121              02:57:35               03:48:18                    13698   \n125              00:18:19               23:58:35                    86315   \n128              00:26:15               01:26:20                     5180   \n135              00:04:11               06:57:38                    25058   \n142              00:04:44               22:11:41                    79901   \n152              13:49:05               16:05:46                    57946   \n164              01:55:21               01:55:21                     6921   \n180              07:43:14               22:16:39                    80199   \n185              00:10:19               21:39:15                    77955   \n193              14:30:50               09:41:48                    34908   \n220              00:12:12               23:02:46                    82966   \n226              00:33:59               02:26:51                     8811   \n\n    Disconnect_max_time_ts Disconnect_max_time_sec Disconnect_mode_time_ts  \\\n1                 02:48:20                   10100                01:01:46   \n42                04:34:52                   16492                00:22:46   \n44                21:04:46                   75886                00:39:21   \n46                23:52:52                   85972                00:33:42   \n47                01:05:46                    3946                00:01:55   \n51                22:57:02                   82622                03:17:19   \n61                22:23:23                   80603                00:25:21   \n88                20:18:24                   73104                00:37:10   \n98                23:36:27                   84987                01:20:48   \n107               23:47:32                   85652                01:24:25   \n109               00:17:15                    1035                00:14:56   \n121               07:08:27                   25707                02:57:35   \n125               04:23:29                   15809                00:18:19   \n128               02:20:43                    8443                00:26:15   \n135               23:45:33                   85533                00:04:11   \n142               00:04:44                     284                00:04:44   \n152               05:47:45                   20865                13:49:05   \n164               03:19:11                   11951                01:55:21   \n180               07:43:14                   27794                07:43:14   \n185               02:31:11                    9071                00:10:19   \n193               02:09:50                    7790                14:30:50   \n220               03:26:04                   12364                00:12:12   \n226               23:44:55                   85495                00:33:59   \n\n    Disconnect_mode_time_sec Disconnect_mean_time_ts  \\\n1                       3706                00:36:46   \n42                      1366                22:57:16   \n44                      2361                00:03:15   \n46                      2022                13:45:02   \n47                       115                07:26:02   \n51                     11839                01:07:01   \n61                      1521                00:34:17   \n88                      2230                07:50:43   \n98                      4848                23:12:54   \n107                     5065                20:59:38   \n109                      896                21:44:30   \n121                    10655                03:58:15   \n125                     1099                09:33:27   \n128                     1575                23:13:59   \n135                      251                06:38:53   \n142                      284                07:19:08   \n152                    49745                00:25:56   \n164                     6921                18:45:41   \n180                    27794                01:26:40   \n185                      619                16:59:29   \n193                    52250                12:21:27   \n220                      732                12:09:54   \n226                     2039                01:52:47   \n\n     Disconnect_mean_time_sec anomaly_score  \n1                        2206     -0.008128  \n42                      82636     -0.060695  \n44                        195     -0.037715  \n46                      49502     -0.007460  \n47                      26762     -0.004413  \n51                       4021     -0.033764  \n61                       2057     -0.043079  \n88                      28243     -0.036489  \n98                      83574     -0.073417  \n107                     75578     -0.019882  \n109                     78270     -0.041951  \n121                     14295     -0.008755  \n125                     34407     -0.043355  \n128                     83639     -0.008042  \n135                     23933     -0.023101  \n142                     26348     -0.096186  \n152                      1556     -0.002559  \n164                     67541     -0.027768  \n180                      5200     -0.024270  \n185                     61169     -0.062079  \n193                     44487     -0.032373  \n220                     43794     -0.018477  \n226                      6767     -0.000999  \n\n[23 rows x 26 columns]",
      "text/html": "<div>\n<style scoped>\n    .dataframe tbody tr th:only-of-type {\n        vertical-align: middle;\n    }\n\n    .dataframe tbody tr th {\n        vertical-align: top;\n    }\n\n    .dataframe thead th {\n        text-align: right;\n    }\n</style>\n<table border=\"1\" class=\"dataframe\">\n  <thead>\n    <tr style=\"text-align: right;\">\n      <th></th>\n      <th>User</th>\n      <th>Connect_min_time</th>\n      <th>Connect_max_time</th>\n      <th>Connect_mean_time</th>\n      <th>Connect_mode_time</th>\n      <th>Connect_min_time_ts</th>\n      <th>Connect_min_time_sec</th>\n      <th>Connect_max_time_ts</th>\n      <th>Connect_max_time_sec</th>\n      <th>Connect_mode_time_ts</th>\n      <th>...</th>\n      <th>Disconnect_mode_time</th>\n      <th>Disconnect_min_time_ts</th>\n      <th>Disconnect_min_time_sec</th>\n      <th>Disconnect_max_time_ts</th>\n      <th>Disconnect_max_time_sec</th>\n      <th>Disconnect_mode_time_ts</th>\n      <th>Disconnect_mode_time_sec</th>\n      <th>Disconnect_mean_time_ts</th>\n      <th>Disconnect_mean_time_sec</th>\n      <th>anomaly_score</th>\n    </tr>\n  </thead>\n  <tbody>\n    <tr>\n      <th>1</th>\n      <td>DTAA/ABS0726</td>\n      <td>04:32:16</td>\n      <td>02:44:26</td>\n      <td>00:06:48</td>\n      <td>01:01:07</td>\n      <td>04:32:16</td>\n      <td>16336</td>\n      <td>02:44:26</td>\n      <td>9866</td>\n      <td>01:01:07</td>\n      <td>...</td>\n      <td>01:01:46</td>\n      <td>04:49:50</td>\n      <td>17390</td>\n      <td>02:48:20</td>\n      <td>10100</td>\n      <td>01:01:46</td>\n      <td>3706</td>\n      <td>00:36:46</td>\n      <td>2206</td>\n      <td>-0.008128</td>\n    </tr>\n    <tr>\n      <th>42</th>\n      <td>DTAA/CHS0324</td>\n      <td>23:51:28</td>\n      <td>04:33:36</td>\n      <td>01:19:00</td>\n      <td>00:15:52</td>\n      <td>23:51:28</td>\n      <td>85888</td>\n      <td>04:33:36</td>\n      <td>16416</td>\n      <td>00:15:52</td>\n      <td>...</td>\n      <td>00:22:46</td>\n      <td>00:39:23</td>\n      <td>2363</td>\n      <td>04:34:52</td>\n      <td>16492</td>\n      <td>00:22:46</td>\n      <td>1366</td>\n      <td>22:57:16</td>\n      <td>82636</td>\n      <td>-0.060695</td>\n    </tr>\n    <tr>\n      <th>44</th>\n      <td>DTAA/CLK0383</td>\n      <td>00:33:15</td>\n      <td>20:47:02</td>\n      <td>23:46:04</td>\n      <td>00:33:15</td>\n      <td>00:33:15</td>\n      <td>1995</td>\n      <td>20:47:02</td>\n      <td>74822</td>\n      <td>00:33:15</td>\n      <td>...</td>\n      <td>00:39:21</td>\n      <td>00:39:21</td>\n      <td>2361</td>\n      <td>21:04:46</td>\n      <td>75886</td>\n      <td>00:39:21</td>\n      <td>2361</td>\n      <td>00:03:15</td>\n      <td>195</td>\n      <td>-0.037715</td>\n    </tr>\n    <tr>\n      <th>46</th>\n      <td>DTAA/CMF0339</td>\n      <td>03:00:27</td>\n      <td>05:03:03</td>\n      <td>16:20:42</td>\n      <td>02:52:04</td>\n      <td>03:00:27</td>\n      <td>10827</td>\n      <td>05:03:03</td>\n      <td>18183</td>\n      <td>02:52:04</td>\n      <td>...</td>\n      <td>00:33:42</td>\n      <td>03:02:07</td>\n      <td>10927</td>\n      <td>23:52:52</td>\n      <td>85972</td>\n      <td>00:33:42</td>\n      <td>2022</td>\n      <td>13:45:02</td>\n      <td>49502</td>\n      <td>-0.007460</td>\n    </tr>\n    <tr>\n      <th>47</th>\n      <td>DTAA/COS0121</td>\n      <td>13:23:56</td>\n      <td>00:10:59</td>\n      <td>14:54:24</td>\n      <td>00:01:35</td>\n      <td>13:23:56</td>\n      <td>48236</td>\n      <td>00:10:59</td>\n      <td>659</td>\n      <td>00:01:35</td>\n      <td>...</td>\n      <td>00:01:55</td>\n      <td>15:17:01</td>\n      <td>55021</td>\n      <td>01:05:46</td>\n      <td>3946</td>\n      <td>00:01:55</td>\n      <td>115</td>\n      <td>07:26:02</td>\n      <td>26762</td>\n      <td>-0.004413</td>\n    </tr>\n    <tr>\n      <th>51</th>\n      <td>DTAA/CTR0537</td>\n      <td>00:54:40</td>\n      <td>21:55:26</td>\n      <td>22:54:48</td>\n      <td>00:05:36</td>\n      <td>00:54:40</td>\n      <td>3280</td>\n      <td>21:55:26</td>\n      <td>78926</td>\n      <td>00:05:36</td>\n      <td>...</td>\n      <td>03:17:19</td>\n      <td>03:17:19</td>\n      <td>11839</td>\n      <td>22:57:02</td>\n      <td>82622</td>\n      <td>03:17:19</td>\n      <td>11839</td>\n      <td>01:07:01</td>\n      <td>4021</td>\n      <td>-0.033764</td>\n    </tr>\n    <tr>\n      <th>61</th>\n      <td>DTAA/DFZ0063</td>\n      <td>23:22:27</td>\n      <td>21:57:51</td>\n      <td>13:09:24</td>\n      <td>00:36:34</td>\n      <td>23:22:27</td>\n      <td>84147</td>\n      <td>21:57:51</td>\n      <td>79071</td>\n      <td>00:36:34</td>\n      <td>...</td>\n      <td>00:25:21</td>\n      <td>03:24:31</td>\n      <td>12271</td>\n      <td>22:23:23</td>\n      <td>80603</td>\n      <td>00:25:21</td>\n      <td>1521</td>\n      <td>00:34:17</td>\n      <td>2057</td>\n      <td>-0.043079</td>\n    </tr>\n    <tr>\n      <th>88</th>\n      <td>DTAA/GYT0279</td>\n      <td>22:32:30</td>\n      <td>19:47:53</td>\n      <td>07:11:06</td>\n      <td>04:44:43</td>\n      <td>22:32:30</td>\n      <td>81150</td>\n      <td>19:47:53</td>\n      <td>71273</td>\n      <td>04:44:43</td>\n      <td>...</td>\n      <td>00:37:10</td>\n      <td>00:37:10</td>\n      <td>2230</td>\n      <td>20:18:24</td>\n      <td>73104</td>\n      <td>00:37:10</td>\n      <td>2230</td>\n      <td>07:50:43</td>\n      <td>28243</td>\n      <td>-0.036489</td>\n    </tr>\n    <tr>\n      <th>98</th>\n      <td>DTAA/HNS0858</td>\n      <td>21:45:26</td>\n      <td>23:33:49</td>\n      <td>02:41:34</td>\n      <td>00:07:21</td>\n      <td>21:45:26</td>\n      <td>78326</td>\n      <td>23:33:49</td>\n      <td>84829</td>\n      <td>00:07:21</td>\n      <td>...</td>\n      <td>01:20:48</td>\n      <td>03:32:24</td>\n      <td>12744</td>\n      <td>23:36:27</td>\n      <td>84987</td>\n      <td>01:20:48</td>\n      <td>4848</td>\n      <td>23:12:54</td>\n      <td>83574</td>\n      <td>-0.073417</td>\n    </tr>\n    <tr>\n      <th>107</th>\n      <td>DTAA/JAH0544</td>\n      <td>03:29:41</td>\n      <td>23:07:03</td>\n      <td>20:09:49</td>\n      <td>00:44:50</td>\n      <td>03:29:41</td>\n      <td>12581</td>\n      <td>23:07:03</td>\n      <td>83223</td>\n      <td>00:44:50</td>\n      <td>...</td>\n      <td>01:24:25</td>\n      <td>04:08:20</td>\n      <td>14900</td>\n      <td>23:47:32</td>\n      <td>85652</td>\n      <td>01:24:25</td>\n      <td>5065</td>\n      <td>20:59:38</td>\n      <td>75578</td>\n      <td>-0.019882</td>\n    </tr>\n    <tr>\n      <th>109</th>\n      <td>DTAA/JBL0450</td>\n      <td>00:36:02</td>\n      <td>00:13:17</td>\n      <td>21:42:22</td>\n      <td>00:05:11</td>\n      <td>00:36:02</td>\n      <td>2162</td>\n      <td>00:13:17</td>\n      <td>797</td>\n      <td>00:05:11</td>\n      <td>...</td>\n      <td>00:14:56</td>\n      <td>00:38:35</td>\n      <td>2315</td>\n      <td>00:17:15</td>\n      <td>1035</td>\n      <td>00:14:56</td>\n      <td>896</td>\n      <td>21:44:30</td>\n      <td>78270</td>\n      <td>-0.041951</td>\n    </tr>\n    <tr>\n      <th>121</th>\n      <td>DTAA/JMM0759</td>\n      <td>01:38:19</td>\n      <td>06:57:16</td>\n      <td>03:12:07</td>\n      <td>01:38:19</td>\n      <td>01:38:19</td>\n      <td>5899</td>\n      <td>06:57:16</td>\n      <td>25036</td>\n      <td>01:38:19</td>\n      <td>...</td>\n      <td>02:57:35</td>\n      <td>03:48:18</td>\n      <td>13698</td>\n      <td>07:08:27</td>\n      <td>25707</td>\n      <td>02:57:35</td>\n      <td>10655</td>\n      <td>03:58:15</td>\n      <td>14295</td>\n      <td>-0.008755</td>\n    </tr>\n    <tr>\n      <th>125</th>\n      <td>DTAA/JSE0020</td>\n      <td>23:31:03</td>\n      <td>04:15:25</td>\n      <td>09:08:30</td>\n      <td>04:15:25</td>\n      <td>23:31:03</td>\n      <td>84663</td>\n      <td>04:15:25</td>\n      <td>15325</td>\n      <td>04:15:25</td>\n      <td>...</td>\n      <td>00:18:19</td>\n      <td>23:58:35</td>\n      <td>86315</td>\n      <td>04:23:29</td>\n      <td>15809</td>\n      <td>00:18:19</td>\n      <td>1099</td>\n      <td>09:33:27</td>\n      <td>34407</td>\n      <td>-0.043355</td>\n    </tr>\n    <tr>\n      <th>128</th>\n      <td>DTAA/KAD0059</td>\n      <td>00:38:04</td>\n      <td>01:53:59</td>\n      <td>18:58:15</td>\n      <td>00:15:06</td>\n      <td>00:38:04</td>\n      <td>2284</td>\n      <td>01:53:59</td>\n      <td>6839</td>\n      <td>00:15:06</td>\n      <td>...</td>\n      <td>00:26:15</td>\n      <td>01:26:20</td>\n      <td>5180</td>\n      <td>02:20:43</td>\n      <td>8443</td>\n      <td>00:26:15</td>\n      <td>1575</td>\n      <td>23:13:59</td>\n      <td>83639</td>\n      <td>-0.008042</td>\n    </tr>\n    <tr>\n      <th>135</th>\n      <td>DTAA/KSP0927</td>\n      <td>06:55:57</td>\n      <td>23:20:29</td>\n      <td>22:40:53</td>\n      <td>00:05:23</td>\n      <td>06:55:57</td>\n      <td>24957</td>\n      <td>23:20:29</td>\n      <td>84029</td>\n      <td>00:05:23</td>\n      <td>...</td>\n      <td>00:04:11</td>\n      <td>06:57:38</td>\n      <td>25058</td>\n      <td>23:45:33</td>\n      <td>85533</td>\n      <td>00:04:11</td>\n      <td>251</td>\n      <td>06:38:53</td>\n      <td>23933</td>\n      <td>-0.023101</td>\n    </tr>\n    <tr>\n      <th>142</th>\n      <td>DTAA/LKY0181</td>\n      <td>21:29:42</td>\n      <td>23:55:31</td>\n      <td>03:24:15</td>\n      <td>02:57:15</td>\n      <td>21:29:42</td>\n      <td>77382</td>\n      <td>23:55:31</td>\n      <td>86131</td>\n      <td>02:57:15</td>\n      <td>...</td>\n      <td>00:04:44</td>\n      <td>22:11:41</td>\n      <td>79901</td>\n      <td>00:04:44</td>\n      <td>284</td>\n      <td>00:04:44</td>\n      <td>284</td>\n      <td>07:19:08</td>\n      <td>26348</td>\n      <td>-0.096186</td>\n    </tr>\n    <tr>\n      <th>152</th>\n      <td>DTAA/MIC0914</td>\n      <td>11:32:52</td>\n      <td>05:46:24</td>\n      <td>09:51:03</td>\n      <td>16:02:08</td>\n      <td>11:32:52</td>\n      <td>41572</td>\n      <td>05:46:24</td>\n      <td>20784</td>\n      <td>16:02:08</td>\n      <td>...</td>\n      <td>13:49:05</td>\n      <td>16:05:46</td>\n      <td>57946</td>\n      <td>05:47:45</td>\n      <td>20865</td>\n      <td>13:49:05</td>\n      <td>49745</td>\n      <td>00:25:56</td>\n      <td>1556</td>\n      <td>-0.002559</td>\n    </tr>\n    <tr>\n      <th>164</th>\n      <td>DTAA/NHL0253</td>\n      <td>23:34:53</td>\n      <td>03:16:47</td>\n      <td>05:04:43</td>\n      <td>01:40:44</td>\n      <td>23:34:53</td>\n      <td>84893</td>\n      <td>03:16:47</td>\n      <td>11807</td>\n      <td>01:40:44</td>\n      <td>...</td>\n      <td>01:55:21</td>\n      <td>01:55:21</td>\n      <td>6921</td>\n      <td>03:19:11</td>\n      <td>11951</td>\n      <td>01:55:21</td>\n      <td>6921</td>\n      <td>18:45:41</td>\n      <td>67541</td>\n      <td>-0.027768</td>\n    </tr>\n    <tr>\n      <th>180</th>\n      <td>DTAA/RBC0583</td>\n      <td>20:11:34</td>\n      <td>07:30:41</td>\n      <td>00:38:13</td>\n      <td>07:30:41</td>\n      <td>20:11:34</td>\n      <td>72694</td>\n      <td>07:30:41</td>\n      <td>27041</td>\n      <td>07:30:41</td>\n      <td>...</td>\n      <td>07:43:14</td>\n      <td>22:16:39</td>\n      <td>80199</td>\n      <td>07:43:14</td>\n      <td>27794</td>\n      <td>07:43:14</td>\n      <td>27794</td>\n      <td>01:26:40</td>\n      <td>5200</td>\n      <td>-0.024270</td>\n    </tr>\n    <tr>\n      <th>185</th>\n      <td>DTAA/RLC0442</td>\n      <td>20:58:07</td>\n      <td>02:25:47</td>\n      <td>18:41:40</td>\n      <td>00:04:14</td>\n      <td>20:58:07</td>\n      <td>75487</td>\n      <td>02:25:47</td>\n      <td>8747</td>\n      <td>00:04:14</td>\n      <td>...</td>\n      <td>00:10:19</td>\n      <td>21:39:15</td>\n      <td>77955</td>\n      <td>02:31:11</td>\n      <td>9071</td>\n      <td>00:10:19</td>\n      <td>619</td>\n      <td>16:59:29</td>\n      <td>61169</td>\n      <td>-0.062079</td>\n    </tr>\n    <tr>\n      <th>193</th>\n      <td>DTAA/SDC0032</td>\n      <td>08:48:08</td>\n      <td>02:08:38</td>\n      <td>04:20:13</td>\n      <td>08:50:40</td>\n      <td>08:48:08</td>\n      <td>31688</td>\n      <td>02:08:38</td>\n      <td>7718</td>\n      <td>08:50:40</td>\n      <td>...</td>\n      <td>14:30:50</td>\n      <td>09:41:48</td>\n      <td>34908</td>\n      <td>02:09:50</td>\n      <td>7790</td>\n      <td>14:30:50</td>\n      <td>52250</td>\n      <td>12:21:27</td>\n      <td>44487</td>\n      <td>-0.032373</td>\n    </tr>\n    <tr>\n      <th>220</th>\n      <td>DTAA/WTA0867</td>\n      <td>19:50:30</td>\n      <td>03:12:12</td>\n      <td>08:16:50</td>\n      <td>00:05:46</td>\n      <td>19:50:30</td>\n      <td>71430</td>\n      <td>03:12:12</td>\n      <td>11532</td>\n      <td>00:05:46</td>\n      <td>...</td>\n      <td>00:12:12</td>\n      <td>23:02:46</td>\n      <td>82966</td>\n      <td>03:26:04</td>\n      <td>12364</td>\n      <td>00:12:12</td>\n      <td>732</td>\n      <td>12:09:54</td>\n      <td>43794</td>\n      <td>-0.018477</td>\n    </tr>\n    <tr>\n      <th>226</th>\n      <td>DTAA/ZAB0889</td>\n      <td>02:19:27</td>\n      <td>22:27:47</td>\n      <td>15:58:17</td>\n      <td>00:28:50</td>\n      <td>02:19:27</td>\n      <td>8367</td>\n      <td>22:27:47</td>\n      <td>80867</td>\n      <td>00:28:50</td>\n      <td>...</td>\n      <td>00:33:59</td>\n      <td>02:26:51</td>\n      <td>8811</td>\n      <td>23:44:55</td>\n      <td>85495</td>\n      <td>00:33:59</td>\n      <td>2039</td>\n      <td>01:52:47</td>\n      <td>6767</td>\n      <td>-0.000999</td>\n    </tr>\n  </tbody>\n</table>\n<p>23 rows × 26 columns</p>\n</div>"
     },
     "execution_count": 142,
     "metadata": {},
     "output_type": "execute_result"
    }
   ],
   "source": [],
   "metadata": {
    "collapsed": false,
    "ExecuteTime": {
     "end_time": "2024-04-07T18:07:09.612704Z",
     "start_time": "2024-04-07T18:07:09.607910Z"
    }
   },
   "id": "70feb2a93e912ca"
  }
 ],
 "metadata": {
  "kernelspec": {
   "display_name": "Python 3",
   "language": "python",
   "name": "python3"
  },
  "language_info": {
   "codemirror_mode": {
    "name": "ipython",
    "version": 2
   },
   "file_extension": ".py",
   "mimetype": "text/x-python",
   "name": "python",
   "nbconvert_exporter": "python",
   "pygments_lexer": "ipython2",
   "version": "2.7.6"
  }
 },
 "nbformat": 4,
 "nbformat_minor": 5
}

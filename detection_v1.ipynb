{
 "cells": [
  {
   "cell_type": "code",
   "execution_count": 35,
   "id": "initial_id",
   "metadata": {
    "collapsed": true,
    "ExecuteTime": {
     "end_time": "2024-04-03T21:46:51.322142Z",
     "start_time": "2024-04-03T21:46:51.320027Z"
    }
   },
   "outputs": [],
   "source": [
    "import pandas as pd\n",
    "import os\n"
   ]
  },
  {
   "cell_type": "code",
   "execution_count": 147,
   "outputs": [],
   "source": [
    "import os\n",
    "import pandas as pd\n",
    "\n",
    "# Directory where CSV files are stored\n",
    "csv_directory = '/Users/wickywonka/CMU/coursework/17735/project/17735-project/ExtractedData'\n",
    "\n",
    "# Lists to hold data from each file\n",
    "logon_data = []\n",
    "logoff_data = []\n",
    "\n",
    "# Iterate over each CSV file in the directory\n",
    "for filename in os.listdir(csv_directory):\n",
    "    if filename.endswith('.csv'):\n",
    "        # Full path to the CSV file\n",
    "        csv_path = os.path.join(csv_directory, filename)\n",
    "\n",
    "        # Read the CSV file into a DataFrame\n",
    "        df = pd.read_csv(csv_path, names=['User', 'Timestamp', 'PC', 'ActivityType', 'Action'])\n",
    "\n",
    "        # Convert Timestamp to datetime\n",
    "        df['Timestamp'] = pd.to_datetime(df['Timestamp'], format='%m/%d/%Y %H:%M:%S')\n",
    "\n",
    "        # Extract time and hour from Timestamp\n",
    "        df['Time'] = df['Timestamp'].dt.time\n",
    "        df['Hour'] = df['Timestamp'].dt.hour\n",
    "\n",
    "        # Append DataFrame to the list by action\n",
    "        logon_data.append(df[df['Action'] == 'Logon'])\n",
    "        logoff_data.append(df[df['Action'] == 'Logoff'])\n",
    "\n",
    "# Concatenate all logon and logoff data into two separate DataFrames\n",
    "logon_df = pd.concat(logon_data)\n",
    "logoff_df = pd.concat(logoff_data)\n",
    "\n",
    "# Group by 'User' and aggregate times for logon\n",
    "df_user_logon_stats = logon_df.groupby('User')['Time'].agg(['min', 'max']).reset_index()\n",
    "df_logon_mode = logon_df.groupby('User')['Time'].agg(lambda x: x.value_counts().index[0]).reset_index()\n",
    "df_logon_mean = logon_df.groupby('User')['Hour'].mean().reset_index()\n",
    "\n",
    "# Convert mean hour to int and then to time\n",
    "df_logon_mean['Hour'] = df_logon_mean['Hour'].astype(int)\n",
    "df_logon_mean['Hour'] = pd.to_datetime(df_logon_mean['Hour'], format='%H').dt.time\n",
    "\n",
    "# Add mode and mean to the logon stats DataFrame\n",
    "df_user_logon_stats['mode'] = df_logon_mode['Time']\n",
    "df_user_logon_stats['mean'] = df_logon_mean['Hour']\n",
    "\n",
    "# Group by 'User' and aggregate times for logoff\n",
    "df_user_logoff_stats = logoff_df.groupby('User')['Time'].agg(['min', 'max']).reset_index()\n",
    "df_logoff_mode = logoff_df.groupby('User')['Time'].agg(lambda x: x.value_counts().index[0]).reset_index()\n",
    "df_logoff_mean = logoff_df.groupby('User')['Hour'].mean().reset_index()\n",
    "\n",
    "# Convert mean hour to int and then to time\n",
    "df_logoff_mean['Hour'] = df_logoff_mean['Hour'].astype(int)\n",
    "df_logoff_mean['Hour'] = pd.to_datetime(df_logoff_mean['Hour'], format='%H').dt.time\n",
    "\n",
    "# Add mode and mean to the logoff stats DataFrame\n",
    "df_user_logoff_stats['mode'] = df_logoff_mode['Time']\n",
    "df_user_logoff_stats['mean'] = df_logoff_mean['Hour']\n"
   ],
   "metadata": {
    "collapsed": false,
    "ExecuteTime": {
     "end_time": "2024-04-04T00:25:41.728712Z",
     "start_time": "2024-04-04T00:25:26.194473Z"
    }
   },
   "id": "ab8d2dd16ea3c7f5"
  },
  {
   "cell_type": "code",
   "execution_count": 148,
   "outputs": [
    {
     "name": "stdout",
     "output_type": "stream",
     "text": [
      "             User       min       max      mode      mean\n",
      "0    DTAA/AAA0371  07:35:01  13:46:57  07:54:21  09:00:00\n",
      "1    DTAA/AAC0344  07:50:03  08:09:53  08:06:07  07:00:00\n",
      "2    DTAA/AAC0599  07:50:03  08:09:58  07:56:28  07:00:00\n",
      "3    DTAA/AAH0734  08:20:05  08:39:58  08:26:55  08:00:00\n",
      "4    DTAA/AAK0658  08:20:00  08:39:54  08:22:33  08:00:00\n",
      "..            ...       ...       ...       ...       ...\n",
      "995  DTAA/ZGH0528  08:35:06  14:54:12  08:36:42  10:00:00\n",
      "996  DTAA/ZKE0662  07:20:03  13:36:39  07:23:43  09:00:00\n",
      "997  DTAA/ZKH0388  06:35:00  16:35:13  06:47:44  08:00:00\n",
      "998  DTAA/ZKN0548  08:20:05  08:39:46  08:25:35  08:00:00\n",
      "999  DTAA/ZRR0705  09:05:02  09:24:54  09:09:14  09:00:00\n",
      "\n",
      "[1000 rows x 5 columns]\n",
      "             User       min       max      mode      mean\n",
      "0    DTAA/AAA0371  08:33:18  14:54:58  14:48:22  13:00:00\n",
      "1    DTAA/AAC0344  15:55:00  16:09:58  15:55:10  15:00:00\n",
      "2    DTAA/AAC0599  15:55:01  16:09:53  16:04:27  15:00:00\n",
      "3    DTAA/AAH0734  17:25:00  17:39:59  17:34:26  17:00:00\n",
      "4    DTAA/AAK0658  16:25:05  16:39:59  16:38:32  16:00:00\n",
      "..            ...       ...       ...       ...       ...\n",
      "995  DTAA/ZGH0528  17:40:01  17:54:58  17:50:29  17:00:00\n",
      "996  DTAA/ZKE0662  19:25:02  19:39:59  19:37:22  19:00:00\n",
      "997  DTAA/ZKH0388  07:34:06  17:54:59  17:47:13  16:00:00\n",
      "998  DTAA/ZKN0548  18:25:01  18:39:54  18:33:30  18:00:00\n",
      "999  DTAA/ZRR0705  18:10:01  18:24:58  18:18:09  18:00:00\n",
      "\n",
      "[1000 rows x 5 columns]\n"
     ]
    }
   ],
   "source": [
    "print(df_user_logon_stats)\n",
    "print(df_user_logoff_stats)"
   ],
   "metadata": {
    "collapsed": false,
    "ExecuteTime": {
     "end_time": "2024-04-04T00:28:02.781082Z",
     "start_time": "2024-04-04T00:28:02.777425Z"
    }
   },
   "id": "ae606679402ee3b9"
  },
  {
   "cell_type": "code",
   "execution_count": 149,
   "outputs": [
    {
     "data": {
      "text/plain": "             User       min       max      mode      mean\n0    DTAA/AAA0371  07:35:01  13:46:57  07:54:21  09:00:00\n1    DTAA/AAC0344  07:50:03  08:09:53  08:06:07  07:00:00\n2    DTAA/AAC0599  07:50:03  08:09:58  07:56:28  07:00:00\n3    DTAA/AAH0734  08:20:05  08:39:58  08:26:55  08:00:00\n4    DTAA/AAK0658  08:20:00  08:39:54  08:22:33  08:00:00\n..            ...       ...       ...       ...       ...\n995  DTAA/ZGH0528  08:35:06  14:54:12  08:36:42  10:00:00\n996  DTAA/ZKE0662  07:20:03  13:36:39  07:23:43  09:00:00\n997  DTAA/ZKH0388  06:35:00  16:35:13  06:47:44  08:00:00\n998  DTAA/ZKN0548  08:20:05  08:39:46  08:25:35  08:00:00\n999  DTAA/ZRR0705  09:05:02  09:24:54  09:09:14  09:00:00\n\n[1000 rows x 5 columns]",
      "text/html": "<div>\n<style scoped>\n    .dataframe tbody tr th:only-of-type {\n        vertical-align: middle;\n    }\n\n    .dataframe tbody tr th {\n        vertical-align: top;\n    }\n\n    .dataframe thead th {\n        text-align: right;\n    }\n</style>\n<table border=\"1\" class=\"dataframe\">\n  <thead>\n    <tr style=\"text-align: right;\">\n      <th></th>\n      <th>User</th>\n      <th>min</th>\n      <th>max</th>\n      <th>mode</th>\n      <th>mean</th>\n    </tr>\n  </thead>\n  <tbody>\n    <tr>\n      <th>0</th>\n      <td>DTAA/AAA0371</td>\n      <td>07:35:01</td>\n      <td>13:46:57</td>\n      <td>07:54:21</td>\n      <td>09:00:00</td>\n    </tr>\n    <tr>\n      <th>1</th>\n      <td>DTAA/AAC0344</td>\n      <td>07:50:03</td>\n      <td>08:09:53</td>\n      <td>08:06:07</td>\n      <td>07:00:00</td>\n    </tr>\n    <tr>\n      <th>2</th>\n      <td>DTAA/AAC0599</td>\n      <td>07:50:03</td>\n      <td>08:09:58</td>\n      <td>07:56:28</td>\n      <td>07:00:00</td>\n    </tr>\n    <tr>\n      <th>3</th>\n      <td>DTAA/AAH0734</td>\n      <td>08:20:05</td>\n      <td>08:39:58</td>\n      <td>08:26:55</td>\n      <td>08:00:00</td>\n    </tr>\n    <tr>\n      <th>4</th>\n      <td>DTAA/AAK0658</td>\n      <td>08:20:00</td>\n      <td>08:39:54</td>\n      <td>08:22:33</td>\n      <td>08:00:00</td>\n    </tr>\n    <tr>\n      <th>...</th>\n      <td>...</td>\n      <td>...</td>\n      <td>...</td>\n      <td>...</td>\n      <td>...</td>\n    </tr>\n    <tr>\n      <th>995</th>\n      <td>DTAA/ZGH0528</td>\n      <td>08:35:06</td>\n      <td>14:54:12</td>\n      <td>08:36:42</td>\n      <td>10:00:00</td>\n    </tr>\n    <tr>\n      <th>996</th>\n      <td>DTAA/ZKE0662</td>\n      <td>07:20:03</td>\n      <td>13:36:39</td>\n      <td>07:23:43</td>\n      <td>09:00:00</td>\n    </tr>\n    <tr>\n      <th>997</th>\n      <td>DTAA/ZKH0388</td>\n      <td>06:35:00</td>\n      <td>16:35:13</td>\n      <td>06:47:44</td>\n      <td>08:00:00</td>\n    </tr>\n    <tr>\n      <th>998</th>\n      <td>DTAA/ZKN0548</td>\n      <td>08:20:05</td>\n      <td>08:39:46</td>\n      <td>08:25:35</td>\n      <td>08:00:00</td>\n    </tr>\n    <tr>\n      <th>999</th>\n      <td>DTAA/ZRR0705</td>\n      <td>09:05:02</td>\n      <td>09:24:54</td>\n      <td>09:09:14</td>\n      <td>09:00:00</td>\n    </tr>\n  </tbody>\n</table>\n<p>1000 rows × 5 columns</p>\n</div>"
     },
     "execution_count": 149,
     "metadata": {},
     "output_type": "execute_result"
    }
   ],
   "source": [
    "df_user_logon_stats\n"
   ],
   "metadata": {
    "collapsed": false,
    "ExecuteTime": {
     "end_time": "2024-04-04T00:28:03.907941Z",
     "start_time": "2024-04-04T00:28:03.901739Z"
    }
   },
   "id": "7b340898398cec4"
  },
  {
   "cell_type": "code",
   "execution_count": 150,
   "outputs": [
    {
     "data": {
      "text/plain": "             User       min       max      mode      mean\n0    DTAA/AAA0371  08:33:18  14:54:58  14:48:22  13:00:00\n1    DTAA/AAC0344  15:55:00  16:09:58  15:55:10  15:00:00\n2    DTAA/AAC0599  15:55:01  16:09:53  16:04:27  15:00:00\n3    DTAA/AAH0734  17:25:00  17:39:59  17:34:26  17:00:00\n4    DTAA/AAK0658  16:25:05  16:39:59  16:38:32  16:00:00\n..            ...       ...       ...       ...       ...\n995  DTAA/ZGH0528  17:40:01  17:54:58  17:50:29  17:00:00\n996  DTAA/ZKE0662  19:25:02  19:39:59  19:37:22  19:00:00\n997  DTAA/ZKH0388  07:34:06  17:54:59  17:47:13  16:00:00\n998  DTAA/ZKN0548  18:25:01  18:39:54  18:33:30  18:00:00\n999  DTAA/ZRR0705  18:10:01  18:24:58  18:18:09  18:00:00\n\n[1000 rows x 5 columns]",
      "text/html": "<div>\n<style scoped>\n    .dataframe tbody tr th:only-of-type {\n        vertical-align: middle;\n    }\n\n    .dataframe tbody tr th {\n        vertical-align: top;\n    }\n\n    .dataframe thead th {\n        text-align: right;\n    }\n</style>\n<table border=\"1\" class=\"dataframe\">\n  <thead>\n    <tr style=\"text-align: right;\">\n      <th></th>\n      <th>User</th>\n      <th>min</th>\n      <th>max</th>\n      <th>mode</th>\n      <th>mean</th>\n    </tr>\n  </thead>\n  <tbody>\n    <tr>\n      <th>0</th>\n      <td>DTAA/AAA0371</td>\n      <td>08:33:18</td>\n      <td>14:54:58</td>\n      <td>14:48:22</td>\n      <td>13:00:00</td>\n    </tr>\n    <tr>\n      <th>1</th>\n      <td>DTAA/AAC0344</td>\n      <td>15:55:00</td>\n      <td>16:09:58</td>\n      <td>15:55:10</td>\n      <td>15:00:00</td>\n    </tr>\n    <tr>\n      <th>2</th>\n      <td>DTAA/AAC0599</td>\n      <td>15:55:01</td>\n      <td>16:09:53</td>\n      <td>16:04:27</td>\n      <td>15:00:00</td>\n    </tr>\n    <tr>\n      <th>3</th>\n      <td>DTAA/AAH0734</td>\n      <td>17:25:00</td>\n      <td>17:39:59</td>\n      <td>17:34:26</td>\n      <td>17:00:00</td>\n    </tr>\n    <tr>\n      <th>4</th>\n      <td>DTAA/AAK0658</td>\n      <td>16:25:05</td>\n      <td>16:39:59</td>\n      <td>16:38:32</td>\n      <td>16:00:00</td>\n    </tr>\n    <tr>\n      <th>...</th>\n      <td>...</td>\n      <td>...</td>\n      <td>...</td>\n      <td>...</td>\n      <td>...</td>\n    </tr>\n    <tr>\n      <th>995</th>\n      <td>DTAA/ZGH0528</td>\n      <td>17:40:01</td>\n      <td>17:54:58</td>\n      <td>17:50:29</td>\n      <td>17:00:00</td>\n    </tr>\n    <tr>\n      <th>996</th>\n      <td>DTAA/ZKE0662</td>\n      <td>19:25:02</td>\n      <td>19:39:59</td>\n      <td>19:37:22</td>\n      <td>19:00:00</td>\n    </tr>\n    <tr>\n      <th>997</th>\n      <td>DTAA/ZKH0388</td>\n      <td>07:34:06</td>\n      <td>17:54:59</td>\n      <td>17:47:13</td>\n      <td>16:00:00</td>\n    </tr>\n    <tr>\n      <th>998</th>\n      <td>DTAA/ZKN0548</td>\n      <td>18:25:01</td>\n      <td>18:39:54</td>\n      <td>18:33:30</td>\n      <td>18:00:00</td>\n    </tr>\n    <tr>\n      <th>999</th>\n      <td>DTAA/ZRR0705</td>\n      <td>18:10:01</td>\n      <td>18:24:58</td>\n      <td>18:18:09</td>\n      <td>18:00:00</td>\n    </tr>\n  </tbody>\n</table>\n<p>1000 rows × 5 columns</p>\n</div>"
     },
     "execution_count": 150,
     "metadata": {},
     "output_type": "execute_result"
    }
   ],
   "source": [
    "df_user_logoff_stats"
   ],
   "metadata": {
    "collapsed": false,
    "ExecuteTime": {
     "end_time": "2024-04-04T00:28:05.274204Z",
     "start_time": "2024-04-04T00:28:05.269175Z"
    }
   },
   "id": "3be118ed55202794"
  },
  {
   "cell_type": "code",
   "execution_count": 151,
   "outputs": [
    {
     "data": {
      "text/plain": "           User      Hour\n0  DTAA/AAA0371  09:00:00\n1  DTAA/AAC0344  07:00:00\n2  DTAA/AAC0599  07:00:00\n3  DTAA/AAH0734  08:00:00\n4  DTAA/AAK0658  08:00:00",
      "text/html": "<div>\n<style scoped>\n    .dataframe tbody tr th:only-of-type {\n        vertical-align: middle;\n    }\n\n    .dataframe tbody tr th {\n        vertical-align: top;\n    }\n\n    .dataframe thead th {\n        text-align: right;\n    }\n</style>\n<table border=\"1\" class=\"dataframe\">\n  <thead>\n    <tr style=\"text-align: right;\">\n      <th></th>\n      <th>User</th>\n      <th>Hour</th>\n    </tr>\n  </thead>\n  <tbody>\n    <tr>\n      <th>0</th>\n      <td>DTAA/AAA0371</td>\n      <td>09:00:00</td>\n    </tr>\n    <tr>\n      <th>1</th>\n      <td>DTAA/AAC0344</td>\n      <td>07:00:00</td>\n    </tr>\n    <tr>\n      <th>2</th>\n      <td>DTAA/AAC0599</td>\n      <td>07:00:00</td>\n    </tr>\n    <tr>\n      <th>3</th>\n      <td>DTAA/AAH0734</td>\n      <td>08:00:00</td>\n    </tr>\n    <tr>\n      <th>4</th>\n      <td>DTAA/AAK0658</td>\n      <td>08:00:00</td>\n    </tr>\n  </tbody>\n</table>\n</div>"
     },
     "execution_count": 151,
     "metadata": {},
     "output_type": "execute_result"
    }
   ],
   "source": [
    "df_logon_mean.head()"
   ],
   "metadata": {
    "collapsed": false,
    "ExecuteTime": {
     "end_time": "2024-04-04T00:28:06.375539Z",
     "start_time": "2024-04-04T00:28:06.369557Z"
    }
   },
   "id": "4d8457e56b1a7b5e"
  },
  {
   "cell_type": "code",
   "execution_count": 152,
   "outputs": [
    {
     "data": {
      "text/plain": "           User      Time\n0  DTAA/AAA0371  07:54:21\n1  DTAA/AAC0344  08:06:07\n2  DTAA/AAC0599  07:56:28\n3  DTAA/AAH0734  08:26:55\n4  DTAA/AAK0658  08:22:33",
      "text/html": "<div>\n<style scoped>\n    .dataframe tbody tr th:only-of-type {\n        vertical-align: middle;\n    }\n\n    .dataframe tbody tr th {\n        vertical-align: top;\n    }\n\n    .dataframe thead th {\n        text-align: right;\n    }\n</style>\n<table border=\"1\" class=\"dataframe\">\n  <thead>\n    <tr style=\"text-align: right;\">\n      <th></th>\n      <th>User</th>\n      <th>Time</th>\n    </tr>\n  </thead>\n  <tbody>\n    <tr>\n      <th>0</th>\n      <td>DTAA/AAA0371</td>\n      <td>07:54:21</td>\n    </tr>\n    <tr>\n      <th>1</th>\n      <td>DTAA/AAC0344</td>\n      <td>08:06:07</td>\n    </tr>\n    <tr>\n      <th>2</th>\n      <td>DTAA/AAC0599</td>\n      <td>07:56:28</td>\n    </tr>\n    <tr>\n      <th>3</th>\n      <td>DTAA/AAH0734</td>\n      <td>08:26:55</td>\n    </tr>\n    <tr>\n      <th>4</th>\n      <td>DTAA/AAK0658</td>\n      <td>08:22:33</td>\n    </tr>\n  </tbody>\n</table>\n</div>"
     },
     "execution_count": 152,
     "metadata": {},
     "output_type": "execute_result"
    }
   ],
   "source": [
    "df_logon_mode.head()"
   ],
   "metadata": {
    "collapsed": false,
    "ExecuteTime": {
     "end_time": "2024-04-04T00:28:06.623097Z",
     "start_time": "2024-04-04T00:28:06.617986Z"
    }
   },
   "id": "30cd72c727e260a7"
  },
  {
   "cell_type": "code",
   "execution_count": 153,
   "outputs": [
    {
     "data": {
      "text/plain": "           User      Hour\n0  DTAA/AAA0371  13:00:00\n1  DTAA/AAC0344  15:00:00\n2  DTAA/AAC0599  15:00:00\n3  DTAA/AAH0734  17:00:00\n4  DTAA/AAK0658  16:00:00",
      "text/html": "<div>\n<style scoped>\n    .dataframe tbody tr th:only-of-type {\n        vertical-align: middle;\n    }\n\n    .dataframe tbody tr th {\n        vertical-align: top;\n    }\n\n    .dataframe thead th {\n        text-align: right;\n    }\n</style>\n<table border=\"1\" class=\"dataframe\">\n  <thead>\n    <tr style=\"text-align: right;\">\n      <th></th>\n      <th>User</th>\n      <th>Hour</th>\n    </tr>\n  </thead>\n  <tbody>\n    <tr>\n      <th>0</th>\n      <td>DTAA/AAA0371</td>\n      <td>13:00:00</td>\n    </tr>\n    <tr>\n      <th>1</th>\n      <td>DTAA/AAC0344</td>\n      <td>15:00:00</td>\n    </tr>\n    <tr>\n      <th>2</th>\n      <td>DTAA/AAC0599</td>\n      <td>15:00:00</td>\n    </tr>\n    <tr>\n      <th>3</th>\n      <td>DTAA/AAH0734</td>\n      <td>17:00:00</td>\n    </tr>\n    <tr>\n      <th>4</th>\n      <td>DTAA/AAK0658</td>\n      <td>16:00:00</td>\n    </tr>\n  </tbody>\n</table>\n</div>"
     },
     "execution_count": 153,
     "metadata": {},
     "output_type": "execute_result"
    }
   ],
   "source": [
    "df_logoff_mean.head()"
   ],
   "metadata": {
    "collapsed": false,
    "ExecuteTime": {
     "end_time": "2024-04-04T00:28:07.151061Z",
     "start_time": "2024-04-04T00:28:07.145311Z"
    }
   },
   "id": "3da790197a174680"
  },
  {
   "cell_type": "code",
   "execution_count": 154,
   "outputs": [
    {
     "data": {
      "text/plain": "           User      Time\n0  DTAA/AAA0371  14:48:22\n1  DTAA/AAC0344  15:55:10\n2  DTAA/AAC0599  16:04:27\n3  DTAA/AAH0734  17:34:26\n4  DTAA/AAK0658  16:38:32",
      "text/html": "<div>\n<style scoped>\n    .dataframe tbody tr th:only-of-type {\n        vertical-align: middle;\n    }\n\n    .dataframe tbody tr th {\n        vertical-align: top;\n    }\n\n    .dataframe thead th {\n        text-align: right;\n    }\n</style>\n<table border=\"1\" class=\"dataframe\">\n  <thead>\n    <tr style=\"text-align: right;\">\n      <th></th>\n      <th>User</th>\n      <th>Time</th>\n    </tr>\n  </thead>\n  <tbody>\n    <tr>\n      <th>0</th>\n      <td>DTAA/AAA0371</td>\n      <td>14:48:22</td>\n    </tr>\n    <tr>\n      <th>1</th>\n      <td>DTAA/AAC0344</td>\n      <td>15:55:10</td>\n    </tr>\n    <tr>\n      <th>2</th>\n      <td>DTAA/AAC0599</td>\n      <td>16:04:27</td>\n    </tr>\n    <tr>\n      <th>3</th>\n      <td>DTAA/AAH0734</td>\n      <td>17:34:26</td>\n    </tr>\n    <tr>\n      <th>4</th>\n      <td>DTAA/AAK0658</td>\n      <td>16:38:32</td>\n    </tr>\n  </tbody>\n</table>\n</div>"
     },
     "execution_count": 154,
     "metadata": {},
     "output_type": "execute_result"
    }
   ],
   "source": [
    "df_logoff_mode.head()"
   ],
   "metadata": {
    "collapsed": false,
    "ExecuteTime": {
     "end_time": "2024-04-04T00:28:08.727235Z",
     "start_time": "2024-04-04T00:28:08.722152Z"
    }
   },
   "id": "36b2e184ebdea854"
  },
  {
   "cell_type": "code",
   "execution_count": 161,
   "outputs": [
    {
     "name": "stdout",
     "output_type": "stream",
     "text": [
      "[[27301 49617 28461 ... 49617 28461 32400]\n",
      " [28203 29393 29167 ... 29393 29167 25200]\n",
      " [28203 29398 28588 ... 29398 28588 25200]\n",
      " ...\n",
      " [23700 59713 24464 ... 59713 24464 28800]\n",
      " [30005 31186 30335 ... 31186 30335 28800]\n",
      " [32702 33894 32954 ... 33894 32954 32400]]\n",
      "0    900\n",
      "1    100\n",
      "Name: count, dtype: int64\n",
      "             User    ascore\n",
      "0    DTAA/AAA0371  0.146561\n",
      "1    DTAA/AAC0344  0.171652\n",
      "2    DTAA/AAC0599  0.184828\n",
      "3    DTAA/AAH0734  0.150257\n",
      "4    DTAA/AAK0658  0.146880\n",
      "..            ...       ...\n",
      "995  DTAA/ZGH0528  0.097737\n",
      "996  DTAA/ZKE0662  0.112834\n",
      "997  DTAA/ZKH0388  0.002084\n",
      "998  DTAA/ZKN0548  0.147484\n",
      "999  DTAA/ZRR0705  0.017965\n",
      "\n",
      "[1000 rows x 2 columns]\n",
      "             User    ascore\n",
      "13   DTAA/ABS0726 -0.005567\n",
      "14   DTAA/ACD0647 -0.057754\n",
      "24   DTAA/AFF0760 -0.002316\n",
      "33   DTAA/AGW0182 -0.001182\n",
      "45   DTAA/AJC0399 -0.087825\n",
      "..            ...       ...\n",
      "954  DTAA/WCN0570 -0.046487\n",
      "961  DTAA/WJG0153 -0.038810\n",
      "970  DTAA/WTA0867 -0.034294\n",
      "972  DTAA/XCB0445 -0.043429\n",
      "975  DTAA/XIN0791 -0.029094\n",
      "\n",
      "[100 rows x 2 columns]\n"
     ]
    }
   ],
   "source": [
    "import matplotlib.pyplot as plt\n",
    "from sklearn.ensemble import IsolationForest\n",
    "import pickle\n",
    "import numpy as np\n",
    "import pandas as pd \n",
    "\n",
    "def dtt2timestamp(dtt):\n",
    "  time_in_sec = (dtt.hour*60 + dtt.minute) * 60 + dtt.second\n",
    "  return time_in_sec\n",
    "\n",
    "df_user_logon_stats_sec = df_user_logon_stats\n",
    "\n",
    "time_columns = ['min', 'max', 'mode', 'mean']\n",
    "for col in time_columns:\n",
    "    df_user_logon_stats_sec[col] = pd.to_datetime(df_user_logon_stats[col], format='%H:%M:%S').dt.time\n",
    "\n",
    "\n",
    "min_ts = [dtt2timestamp(dtt) for dtt in df_user_logon_stats_sec['min']]\n",
    "max_ts = [dtt2timestamp(dtt) for dtt in df_user_logon_stats_sec['max']]\n",
    "mode_ts = [dtt2timestamp(dtt) for dtt in df_user_logon_stats_sec['mode']]\n",
    "mean_ts = [dtt2timestamp(dtt) for dtt in df_user_logon_stats_sec['mean']]\n",
    "\n",
    "df_user_logon_stats_sec['min_ts'] = min_ts\n",
    "df_user_logon_stats_sec['max_ts'] = max_ts\n",
    "df_user_logon_stats_sec['mode_ts'] = mode_ts\n",
    "df_user_logon_stats_sec['mean_ts'] = mean_ts\n",
    "\n",
    "\n",
    "df_user_logon_stats_sec.drop(['min','max','mode','mean'], axis=1)\n",
    "\n",
    "df_user_logoff_stats_sec = df_user_logoff_stats\n",
    "\n",
    "for col in time_columns:\n",
    "    df_user_logoff_stats_sec[col] = pd.to_datetime(df_user_logoff_stats[col], format='%H:%M:%S').dt.time\n",
    "\n",
    "\n",
    "min_ts = [dtt2timestamp(dtt) for dtt in df_user_logoff_stats_sec['min']] \n",
    "max_ts = [dtt2timestamp(dtt) for dtt in df_user_logoff_stats_sec['max']]\n",
    "mode_ts = [dtt2timestamp(dtt) for dtt in df_user_logoff_stats_sec['mode']]\n",
    "mean_ts = [dtt2timestamp(dtt) for dtt in df_user_logoff_stats_sec['mean']]\n",
    "\n",
    "\n",
    "df_user_logoff_stats_sec['min_ts'] = min_ts\n",
    "df_user_logoff_stats_sec['max_ts'] = max_ts\n",
    "df_user_logoff_stats_sec['mode_ts'] = mode_ts\n",
    "df_user_logoff_stats_sec['mean_ts'] = mean_ts\n",
    "\n",
    "\n",
    "df_user_logoff_stats_sec.drop(['min', 'max','mode','mean'], axis=1)\n",
    "\n",
    "\n",
    "df_log_on_off_stats = pd.DataFrame()\n",
    "\n",
    "df_log_on_off_stats['User'] = df_user_logon_stats_sec['User']\n",
    "df_log_on_off_stats['on_min_ts'] = df_user_logon_stats_sec['min_ts']\n",
    "df_log_on_off_stats['on_max_ts'] = df_user_logon_stats_sec['max_ts']\n",
    "df_log_on_off_stats['on_mode_ts'] = df_user_logon_stats_sec['mode_ts']\n",
    "df_log_on_off_stats['on_mean_ts'] = df_user_logon_stats_sec['mean_ts']\n",
    "df_log_on_off_stats['off_min_ts'] = df_user_logon_stats_sec['min_ts']\n",
    "df_log_on_off_stats['off_max_ts'] = df_user_logon_stats_sec['max_ts']\n",
    "df_log_on_off_stats['off_mode_ts'] = df_user_logon_stats_sec['mode_ts']\n",
    "df_log_on_off_stats['off_mean_ts'] = df_user_logon_stats_sec['mean_ts']\n",
    "\n",
    "\n",
    "#df_log_on_off_stats.dtypes\n",
    "\n",
    "log_stats = df_log_on_off_stats.drop(['User'], axis=1)\n",
    "log_stats_array = np.array(log_stats)  # Changed from np.matrix to np.array\n",
    "print(log_stats_array)\n",
    "\n",
    "\n",
    "\n",
    "#df_log_on_off_stats.columns\n",
    "\n",
    "\n",
    "#logon\n",
    "forest = IsolationForest(bootstrap=False, contamination= 0.1 , max_features=1.0,\n",
    "        max_samples='auto', n_estimators=100, n_jobs=1, random_state=0,\n",
    "        verbose=0)\n",
    "forest.fit(log_stats_array)\n",
    "log_ascore = forest.decision_function(log_stats_array)\n",
    "log_ascore[:10]\n",
    "\n",
    "\n",
    "# counting the values\n",
    "df22 = pd.Series(forest.predict(log_stats_array))\n",
    "df22 = df22.map({1:0, -1:1})\n",
    "print(df22.value_counts())\n",
    "\n",
    "\n",
    "# with open('../pkl/log_stats_matrix.pkl','wb') as file :\n",
    "#   pickle.dump(forest, file)\n",
    "\n",
    "\n",
    "df_user_log_result = pd.DataFrame()\n",
    "df_user_log_result['User'] = df_user_logoff_stats_sec['User']\n",
    "df_user_log_result['ascore'] = log_ascore\n",
    "# df_user_log_result.to_csv('user_log_result.csv')\n",
    "print(df_user_log_result)\n",
    "\n",
    "\n",
    "outliers = df_user_log_result.loc[df_user_log_result['ascore'] < 0]\n",
    "print(outliers)\n",
    "\n"
   ],
   "metadata": {
    "collapsed": false,
    "ExecuteTime": {
     "end_time": "2024-04-04T00:31:34.846383Z",
     "start_time": "2024-04-04T00:31:34.717976Z"
    }
   },
   "id": "f11134b7148a4090"
  },
  {
   "cell_type": "code",
   "execution_count": 131,
   "outputs": [],
   "source": [
    "# Lists to hold data from each file\n",
    "connect_data = []\n",
    "disconnect_data = []\n",
    "\n",
    "# Iterate over each CSV file in the directory\n",
    "for filename in os.listdir(csv_directory):\n",
    "    if filename.endswith('.csv'):\n",
    "        # Full path to the CSV file\n",
    "        csv_path = os.path.join(csv_directory, filename)\n",
    "\n",
    "        # Read the CSV file into a DataFrame\n",
    "        df = pd.read_csv(csv_path, names=['User', 'Timestamp', 'PC', 'ActivityType', 'Action'])\n",
    "\n",
    "        # Convert Timestamp to datetime\n",
    "        df['Timestamp'] = pd.to_datetime(df['Timestamp'], format='%m/%d/%Y %H:%M:%S')\n",
    "\n",
    "        # Filter DataFrame by action and append to the respective list\n",
    "        connect_data.append(df[df['Action'] == 'Connect'])\n",
    "        disconnect_data.append(df[df['Action'] == 'Disconnect'])\n",
    "\n",
    "# Concatenate all connect and disconnect data into two separate DataFrames\n",
    "connect_df = pd.concat(connect_data)\n",
    "disconnect_df = pd.concat(disconnect_data)\n",
    "\n",
    "# Calculate means for connect and disconnect\n",
    "connect_means = connect_df.groupby('User')['Timestamp'].apply(lambda x: x.mean().time())\n",
    "disconnect_means = disconnect_df.groupby('User')['Timestamp'].apply(lambda x: x.mean().time())\n",
    "\n",
    "# Calculate modes for connect and disconnect\n",
    "# We use scipy's mode function which returns the first mode in case of multimodal data\n",
    "connect_modes = connect_df.groupby('User')['Timestamp'].apply(lambda x: x.dt.time.mode()[0])\n",
    "disconnect_modes = disconnect_df.groupby('User')['Timestamp'].apply(lambda x: x.dt.time.mode()[0])\n",
    "\n",
    "# Convert Series to DataFrame for CSV output\n",
    "connect_means_df = connect_means.reset_index().rename(columns={'Timestamp': 'Connect_mean_time'})\n",
    "connect_modes_df = connect_modes.reset_index().rename(columns={'Timestamp': 'Connect_mode_time'})\n",
    "\n",
    "disconnect_means_df = disconnect_means.reset_index().rename(columns={'Timestamp': 'Disconnect_mean_time'})\n",
    "disconnect_modes_df = disconnect_modes.reset_index().rename(columns={'Timestamp': 'Disconnect_mode_time'})\n",
    "\n",
    "# Save the DataFrames to CSV files\n",
    "# connect_means_df.to_csv('connect_means.csv', index=False)\n",
    "# connect_modes_df.to_csv('connect_modes.csv', index=False)\n",
    "# disconnect_means_df.to_csv('disconnect_means.csv', index=False)\n",
    "# disconnect_modes_df.to_csv('disconnect_modes.csv', index=False)\n",
    "\n",
    "# These variables hold the respective statistics for later use in your code:\n",
    "# connect_means_df, connect_modes_df, disconnect_means_df, disconnect_modes_df"
   ],
   "metadata": {
    "collapsed": false,
    "ExecuteTime": {
     "end_time": "2024-04-04T00:15:27.962165Z",
     "start_time": "2024-04-04T00:15:13.882793Z"
    }
   },
   "id": "d5968f9d8c4b840a"
  },
  {
   "cell_type": "code",
   "execution_count": 132,
   "outputs": [
    {
     "data": {
      "text/plain": "           User Connect_mean_time\n0  DTAA/ABB0272   19:20:46.508823\n1  DTAA/ABS0726   00:06:48.806451\n2  DTAA/ACH0803   14:59:06.423791\n3  DTAA/AFF0760   03:13:46.333333\n4  DTAA/AFH0331   10:56:46.738007",
      "text/html": "<div>\n<style scoped>\n    .dataframe tbody tr th:only-of-type {\n        vertical-align: middle;\n    }\n\n    .dataframe tbody tr th {\n        vertical-align: top;\n    }\n\n    .dataframe thead th {\n        text-align: right;\n    }\n</style>\n<table border=\"1\" class=\"dataframe\">\n  <thead>\n    <tr style=\"text-align: right;\">\n      <th></th>\n      <th>User</th>\n      <th>Connect_mean_time</th>\n    </tr>\n  </thead>\n  <tbody>\n    <tr>\n      <th>0</th>\n      <td>DTAA/ABB0272</td>\n      <td>19:20:46.508823</td>\n    </tr>\n    <tr>\n      <th>1</th>\n      <td>DTAA/ABS0726</td>\n      <td>00:06:48.806451</td>\n    </tr>\n    <tr>\n      <th>2</th>\n      <td>DTAA/ACH0803</td>\n      <td>14:59:06.423791</td>\n    </tr>\n    <tr>\n      <th>3</th>\n      <td>DTAA/AFF0760</td>\n      <td>03:13:46.333333</td>\n    </tr>\n    <tr>\n      <th>4</th>\n      <td>DTAA/AFH0331</td>\n      <td>10:56:46.738007</td>\n    </tr>\n  </tbody>\n</table>\n</div>"
     },
     "execution_count": 132,
     "metadata": {},
     "output_type": "execute_result"
    }
   ],
   "source": [
    "connect_means_df.head()"
   ],
   "metadata": {
    "collapsed": false,
    "ExecuteTime": {
     "end_time": "2024-04-04T00:15:28.873126Z",
     "start_time": "2024-04-04T00:15:28.866027Z"
    }
   },
   "id": "2357370cf8c26873"
  },
  {
   "cell_type": "code",
   "execution_count": 133,
   "outputs": [
    {
     "data": {
      "text/plain": "           User Connect_mode_time\n0  DTAA/ABB0272          15:47:45\n1  DTAA/ABS0726          01:01:07\n2  DTAA/ACH0803          16:05:54\n3  DTAA/AFF0760          00:57:03\n4  DTAA/AFH0331          07:57:22",
      "text/html": "<div>\n<style scoped>\n    .dataframe tbody tr th:only-of-type {\n        vertical-align: middle;\n    }\n\n    .dataframe tbody tr th {\n        vertical-align: top;\n    }\n\n    .dataframe thead th {\n        text-align: right;\n    }\n</style>\n<table border=\"1\" class=\"dataframe\">\n  <thead>\n    <tr style=\"text-align: right;\">\n      <th></th>\n      <th>User</th>\n      <th>Connect_mode_time</th>\n    </tr>\n  </thead>\n  <tbody>\n    <tr>\n      <th>0</th>\n      <td>DTAA/ABB0272</td>\n      <td>15:47:45</td>\n    </tr>\n    <tr>\n      <th>1</th>\n      <td>DTAA/ABS0726</td>\n      <td>01:01:07</td>\n    </tr>\n    <tr>\n      <th>2</th>\n      <td>DTAA/ACH0803</td>\n      <td>16:05:54</td>\n    </tr>\n    <tr>\n      <th>3</th>\n      <td>DTAA/AFF0760</td>\n      <td>00:57:03</td>\n    </tr>\n    <tr>\n      <th>4</th>\n      <td>DTAA/AFH0331</td>\n      <td>07:57:22</td>\n    </tr>\n  </tbody>\n</table>\n</div>"
     },
     "execution_count": 133,
     "metadata": {},
     "output_type": "execute_result"
    }
   ],
   "source": [
    "connect_modes_df.head()"
   ],
   "metadata": {
    "collapsed": false,
    "ExecuteTime": {
     "end_time": "2024-04-04T00:15:29.134891Z",
     "start_time": "2024-04-04T00:15:29.130595Z"
    }
   },
   "id": "16d2fdb90030029d"
  },
  {
   "cell_type": "code",
   "execution_count": 134,
   "outputs": [
    {
     "data": {
      "text/plain": "           User Disconnect_mean_time\n0  DTAA/ABB0272      22:43:29.416393\n1  DTAA/ABS0726      00:36:46.290322\n2  DTAA/ACH0803      06:03:02.383333\n3  DTAA/AFF0760      03:44:57.333333\n4  DTAA/AFH0331      09:26:35.647541",
      "text/html": "<div>\n<style scoped>\n    .dataframe tbody tr th:only-of-type {\n        vertical-align: middle;\n    }\n\n    .dataframe tbody tr th {\n        vertical-align: top;\n    }\n\n    .dataframe thead th {\n        text-align: right;\n    }\n</style>\n<table border=\"1\" class=\"dataframe\">\n  <thead>\n    <tr style=\"text-align: right;\">\n      <th></th>\n      <th>User</th>\n      <th>Disconnect_mean_time</th>\n    </tr>\n  </thead>\n  <tbody>\n    <tr>\n      <th>0</th>\n      <td>DTAA/ABB0272</td>\n      <td>22:43:29.416393</td>\n    </tr>\n    <tr>\n      <th>1</th>\n      <td>DTAA/ABS0726</td>\n      <td>00:36:46.290322</td>\n    </tr>\n    <tr>\n      <th>2</th>\n      <td>DTAA/ACH0803</td>\n      <td>06:03:02.383333</td>\n    </tr>\n    <tr>\n      <th>3</th>\n      <td>DTAA/AFF0760</td>\n      <td>03:44:57.333333</td>\n    </tr>\n    <tr>\n      <th>4</th>\n      <td>DTAA/AFH0331</td>\n      <td>09:26:35.647541</td>\n    </tr>\n  </tbody>\n</table>\n</div>"
     },
     "execution_count": 134,
     "metadata": {},
     "output_type": "execute_result"
    }
   ],
   "source": [
    "disconnect_means_df.head()"
   ],
   "metadata": {
    "collapsed": false,
    "ExecuteTime": {
     "end_time": "2024-04-04T00:15:29.595493Z",
     "start_time": "2024-04-04T00:15:29.590090Z"
    }
   },
   "id": "e900f5dd178a703b"
  },
  {
   "cell_type": "code",
   "execution_count": 135,
   "outputs": [
    {
     "data": {
      "text/plain": "           User Disconnect_mode_time\n0  DTAA/ABB0272             14:35:34\n1  DTAA/ABS0726             01:01:46\n2  DTAA/ACH0803             16:43:48\n3  DTAA/AFF0760             01:02:11\n4  DTAA/AFH0331             17:47:54",
      "text/html": "<div>\n<style scoped>\n    .dataframe tbody tr th:only-of-type {\n        vertical-align: middle;\n    }\n\n    .dataframe tbody tr th {\n        vertical-align: top;\n    }\n\n    .dataframe thead th {\n        text-align: right;\n    }\n</style>\n<table border=\"1\" class=\"dataframe\">\n  <thead>\n    <tr style=\"text-align: right;\">\n      <th></th>\n      <th>User</th>\n      <th>Disconnect_mode_time</th>\n    </tr>\n  </thead>\n  <tbody>\n    <tr>\n      <th>0</th>\n      <td>DTAA/ABB0272</td>\n      <td>14:35:34</td>\n    </tr>\n    <tr>\n      <th>1</th>\n      <td>DTAA/ABS0726</td>\n      <td>01:01:46</td>\n    </tr>\n    <tr>\n      <th>2</th>\n      <td>DTAA/ACH0803</td>\n      <td>16:43:48</td>\n    </tr>\n    <tr>\n      <th>3</th>\n      <td>DTAA/AFF0760</td>\n      <td>01:02:11</td>\n    </tr>\n    <tr>\n      <th>4</th>\n      <td>DTAA/AFH0331</td>\n      <td>17:47:54</td>\n    </tr>\n  </tbody>\n</table>\n</div>"
     },
     "execution_count": 135,
     "metadata": {},
     "output_type": "execute_result"
    }
   ],
   "source": [
    "disconnect_modes_df.head()"
   ],
   "metadata": {
    "collapsed": false,
    "ExecuteTime": {
     "end_time": "2024-04-04T00:15:29.905387Z",
     "start_time": "2024-04-04T00:15:29.900047Z"
    }
   },
   "id": "c1ef00031d3a4671"
  },
  {
   "cell_type": "code",
   "execution_count": 136,
   "outputs": [],
   "source": [
    "df_all = pd.DataFrame()\n",
    "\n",
    "# Read all CSV files and concatenate into a single DataFrame\n",
    "for filename in os.listdir(csv_directory):\n",
    "    if filename.endswith('.csv'):\n",
    "        file_path = os.path.join(csv_directory, filename)\n",
    "        df_temp = pd.read_csv(file_path, header=None)  # Assuming the CSV has no header\n",
    "        df_temp.columns = ['User', 'Timestamp', 'PC', 'Activity', 'Action']  # Assign column names\n",
    "        df_all = pd.concat([df_all, df_temp])\n",
    "\n",
    "# Ensure 'Timestamp' is a datetime object\n",
    "df_all['Timestamp'] = pd.to_datetime(df_all['Timestamp'], format='%m/%d/%Y %H:%M:%S')\n",
    "\n",
    "# Filter out 'Logon' and 'Logoff' activities into separate DataFrames\n",
    "df_logon = df_all[df_all['Action'] == 'Logon']\n",
    "df_logoff = df_all[df_all['Action'] == 'Logoff']\n",
    "\n",
    "# Define a function to perform the aggregation and transformation\n",
    "def aggregate_user_pc_log_activities(df_activity):\n",
    "    # Aggregate data to count the total number of activities per user per PC\n",
    "    df_user_pc = df_activity.groupby(['User', 'PC']).size().reset_index(name='pc_activities_per_user_total')\n",
    "\n",
    "    # Calculate the unique count of PCs per user\n",
    "    df_user_pc['unique_pc_count'] = df_user_pc.groupby('User')['PC'].transform('nunique')\n",
    "\n",
    "    # Keep only the 'User' and 'unique_pc_count' columns and drop duplicates\n",
    "    df_user_pc = df_user_pc[['User', 'unique_pc_count']].drop_duplicates()\n",
    "\n",
    "    return df_user_pc\n",
    "\n",
    "# Apply the function to both logon and logoff DataFrames\n",
    "df_user_pc_logon = aggregate_user_pc_log_activities(df_logon)\n",
    "df_user_pc_logoff = aggregate_user_pc_log_activities(df_logoff)\n",
    "\n",
    "# Optionally, save these dataframes to CSV\n",
    "# df_user_pc_logon.to_csv('user_pc_logon.csv', index=False)\n",
    "# df_user_pc_logoff.to_csv('user_pc_logoff.csv', index=False)"
   ],
   "metadata": {
    "collapsed": false,
    "ExecuteTime": {
     "end_time": "2024-04-04T00:15:49.924130Z",
     "start_time": "2024-04-04T00:15:31.213388Z"
    }
   },
   "id": "59df449055e44519"
  },
  {
   "cell_type": "code",
   "execution_count": 137,
   "outputs": [
    {
     "data": {
      "text/plain": "               User  unique_pc_count\n0      DTAA/AAA0371               16\n16     DTAA/AAC0344                1\n17     DTAA/AAC0599                1\n18     DTAA/AAH0734                1\n19     DTAA/AAK0658                1\n...             ...              ...\n22244  DTAA/ZGH0528                1\n22245  DTAA/ZKE0662                1\n22246  DTAA/ZKH0388               44\n22290  DTAA/ZKN0548                1\n22291  DTAA/ZRR0705                1\n\n[1000 rows x 2 columns]",
      "text/html": "<div>\n<style scoped>\n    .dataframe tbody tr th:only-of-type {\n        vertical-align: middle;\n    }\n\n    .dataframe tbody tr th {\n        vertical-align: top;\n    }\n\n    .dataframe thead th {\n        text-align: right;\n    }\n</style>\n<table border=\"1\" class=\"dataframe\">\n  <thead>\n    <tr style=\"text-align: right;\">\n      <th></th>\n      <th>User</th>\n      <th>unique_pc_count</th>\n    </tr>\n  </thead>\n  <tbody>\n    <tr>\n      <th>0</th>\n      <td>DTAA/AAA0371</td>\n      <td>16</td>\n    </tr>\n    <tr>\n      <th>16</th>\n      <td>DTAA/AAC0344</td>\n      <td>1</td>\n    </tr>\n    <tr>\n      <th>17</th>\n      <td>DTAA/AAC0599</td>\n      <td>1</td>\n    </tr>\n    <tr>\n      <th>18</th>\n      <td>DTAA/AAH0734</td>\n      <td>1</td>\n    </tr>\n    <tr>\n      <th>19</th>\n      <td>DTAA/AAK0658</td>\n      <td>1</td>\n    </tr>\n    <tr>\n      <th>...</th>\n      <td>...</td>\n      <td>...</td>\n    </tr>\n    <tr>\n      <th>22244</th>\n      <td>DTAA/ZGH0528</td>\n      <td>1</td>\n    </tr>\n    <tr>\n      <th>22245</th>\n      <td>DTAA/ZKE0662</td>\n      <td>1</td>\n    </tr>\n    <tr>\n      <th>22246</th>\n      <td>DTAA/ZKH0388</td>\n      <td>44</td>\n    </tr>\n    <tr>\n      <th>22290</th>\n      <td>DTAA/ZKN0548</td>\n      <td>1</td>\n    </tr>\n    <tr>\n      <th>22291</th>\n      <td>DTAA/ZRR0705</td>\n      <td>1</td>\n    </tr>\n  </tbody>\n</table>\n<p>1000 rows × 2 columns</p>\n</div>"
     },
     "execution_count": 137,
     "metadata": {},
     "output_type": "execute_result"
    }
   ],
   "source": [
    "df_user_pc_logon"
   ],
   "metadata": {
    "collapsed": false,
    "ExecuteTime": {
     "end_time": "2024-04-04T00:15:50.444207Z",
     "start_time": "2024-04-04T00:15:50.439278Z"
    }
   },
   "id": "b9b0ee381e4f82a1"
  },
  {
   "cell_type": "code",
   "execution_count": 138,
   "outputs": [],
   "source": [
    "import matplotlib.pyplot as plt\n",
    "from sklearn.ensemble import IsolationForest\n",
    "import pickle\n",
    "import numpy as np"
   ],
   "metadata": {
    "collapsed": false,
    "ExecuteTime": {
     "end_time": "2024-04-04T00:15:51.262821Z",
     "start_time": "2024-04-04T00:15:51.257878Z"
    }
   },
   "id": "4a5af5dcbfc787a6"
  },
  {
   "cell_type": "code",
   "execution_count": 139,
   "outputs": [
    {
     "name": "stdout",
     "output_type": "stream",
     "text": [
      "             user  unique_pc_count  anomaly_score\n",
      "0    DTAA/AAA0371               16       0.022007\n",
      "16   DTAA/AAC0344                1       0.174553\n",
      "17   DTAA/AAC0599                1       0.174553\n",
      "18   DTAA/AAH0734                1       0.174553\n",
      "19   DTAA/AAK0658                1       0.174553\n",
      "20   DTAA/AAK0924                1       0.174553\n",
      "21   DTAA/AAR0508                1       0.174553\n",
      "22   DTAA/AAS0709               19       0.045670\n",
      "41   DTAA/ABB0272               72      -0.046046\n",
      "113  DTAA/ABD0833                1       0.174553\n",
      "               user  unique_pc_count  anomaly_score\n",
      "41     DTAA/ABB0272               72      -0.046046\n",
      "117    DTAA/ABS0726               11      -0.011135\n",
      "186    DTAA/AFG0122               74      -0.085847\n",
      "320    DTAA/AGW0182               65      -0.014885\n",
      "557    DTAA/AJN0804               71      -0.036564\n",
      "...             ...              ...            ...\n",
      "21634  DTAA/VFP0669               67      -0.019362\n",
      "21719  DTAA/VMM0309               66      -0.019854\n",
      "21792  DTAA/WCN0570                8      -0.066494\n",
      "21986  DTAA/XQW0354               69      -0.014829\n",
      "22173  DTAA/YVF0045               66      -0.019854\n",
      "\n",
      "[100 rows x 3 columns]\n"
     ]
    }
   ],
   "source": [
    "# Let's assume df_user_pc_logon and df_user_pc_logoff are obtained from the previous code\n",
    "# We will use df_user_pc_logon for this example\n",
    "\n",
    "# Prepare the data for the Isolation Forest\n",
    "# Reshape the 'unique_pc_count' column to a 2D array\n",
    "pc_counts = np.array(df_user_pc_logon['unique_pc_count']).reshape(-1, 1)\n",
    "\n",
    "# Initialize the Isolation Forest model\n",
    "forest = IsolationForest(bootstrap=False, contamination=0.1, max_features=1.0,\n",
    "                         max_samples='auto', n_estimators=100, n_jobs=1, random_state=None,\n",
    "                         verbose=0)\n",
    "\n",
    "# Fit the model\n",
    "forest.fit(pc_counts)\n",
    "\n",
    "# Serialize the model using pickle\n",
    "with open('user_pc_ct_isolation_forest.pkl', 'wb') as file:\n",
    "    pickle.dump(forest, file)\n",
    "\n",
    "# Get the anomaly scores (the lower, the more abnormal)\n",
    "anomaly_scores = forest.decision_function(pc_counts)\n",
    "\n",
    "# Create a DataFrame to hold the results\n",
    "results = pd.DataFrame()\n",
    "results['user'] = df_user_pc_logon['User']\n",
    "results['unique_pc_count'] = df_user_pc_logon['unique_pc_count']\n",
    "results['anomaly_score'] = anomaly_scores\n",
    "\n",
    "# Identify potential outliers\n",
    "# Outliers are defined as observations with an anomaly score less than 0\n",
    "outliers = results.loc[results['anomaly_score'] < 0]\n",
    "\n",
    "# Display the results\n",
    "print(results.head(10))  # Show the first 10 results\n",
    "print(outliers)          # Show the outliers"
   ],
   "metadata": {
    "collapsed": false,
    "ExecuteTime": {
     "end_time": "2024-04-04T00:15:52.003947Z",
     "start_time": "2024-04-04T00:15:51.879326Z"
    }
   },
   "id": "11fba4a7f31b84ac"
  },
  {
   "cell_type": "code",
   "execution_count": 144,
   "outputs": [
    {
     "name": "stdout",
     "output_type": "stream",
     "text": [
      "             User    min    max   mode   mean\n",
      "0    DTAA/AAA0371  27301  49617  28461  32400\n",
      "1    DTAA/AAC0344  28203  29393  29167  25200\n",
      "2    DTAA/AAC0599  28203  29398  28588  25200\n",
      "3    DTAA/AAH0734  30005  31198  30415  28800\n",
      "4    DTAA/AAK0658  30000  31194  30153  28800\n",
      "..            ...    ...    ...    ...    ...\n",
      "995  DTAA/ZGH0528  30906  53652  31002  36000\n",
      "996  DTAA/ZKE0662  26403  48999  26623  32400\n",
      "997  DTAA/ZKH0388  23700  59713  24464  28800\n",
      "998  DTAA/ZKN0548  30005  31186  30335  28800\n",
      "999  DTAA/ZRR0705  32702  33894  32954  32400\n",
      "\n",
      "[1000 rows x 5 columns]\n"
     ]
    }
   ],
   "source": [
    "print(df_user_logon_stats)"
   ],
   "metadata": {
    "collapsed": false,
    "ExecuteTime": {
     "end_time": "2024-04-04T00:24:09.225255Z",
     "start_time": "2024-04-04T00:24:09.216783Z"
    }
   },
   "id": "82113797dfa2fbd8"
  },
  {
   "cell_type": "code",
   "execution_count": 142,
   "outputs": [
    {
     "ename": "ValueError",
     "evalue": "time data \"27301\" doesn't match format \"%H:%M:%S\", at position 0. You might want to try:\n    - passing `format` if your strings have a consistent format;\n    - passing `format='ISO8601'` if your strings are all ISO8601 but not necessarily in exactly the same format;\n    - passing `format='mixed'`, and the format will be inferred for each element individually. You might want to use `dayfirst` alongside this.",
     "output_type": "error",
     "traceback": [
      "\u001B[0;31m---------------------------------------------------------------------------\u001B[0m",
      "\u001B[0;31mValueError\u001B[0m                                Traceback (most recent call last)",
      "Cell \u001B[0;32mIn[142], line 9\u001B[0m\n\u001B[1;32m      7\u001B[0m time_columns \u001B[38;5;241m=\u001B[39m [\u001B[38;5;124m'\u001B[39m\u001B[38;5;124mmin\u001B[39m\u001B[38;5;124m'\u001B[39m, \u001B[38;5;124m'\u001B[39m\u001B[38;5;124mmax\u001B[39m\u001B[38;5;124m'\u001B[39m, \u001B[38;5;124m'\u001B[39m\u001B[38;5;124mmode\u001B[39m\u001B[38;5;124m'\u001B[39m, \u001B[38;5;124m'\u001B[39m\u001B[38;5;124mmean\u001B[39m\u001B[38;5;124m'\u001B[39m]\n\u001B[1;32m      8\u001B[0m \u001B[38;5;28;01mfor\u001B[39;00m col \u001B[38;5;129;01min\u001B[39;00m time_columns:\n\u001B[0;32m----> 9\u001B[0m     df_user_logon_stats_sec[col] \u001B[38;5;241m=\u001B[39m \u001B[43mpd\u001B[49m\u001B[38;5;241;43m.\u001B[39;49m\u001B[43mto_datetime\u001B[49m\u001B[43m(\u001B[49m\u001B[43mdf_user_logon_stats\u001B[49m\u001B[43m[\u001B[49m\u001B[43mcol\u001B[49m\u001B[43m]\u001B[49m\u001B[43m,\u001B[49m\u001B[43m \u001B[49m\u001B[38;5;28;43mformat\u001B[39;49m\u001B[38;5;241;43m=\u001B[39;49m\u001B[38;5;124;43m'\u001B[39;49m\u001B[38;5;124;43m%\u001B[39;49m\u001B[38;5;124;43mH:\u001B[39;49m\u001B[38;5;124;43m%\u001B[39;49m\u001B[38;5;124;43mM:\u001B[39;49m\u001B[38;5;124;43m%\u001B[39;49m\u001B[38;5;124;43mS\u001B[39;49m\u001B[38;5;124;43m'\u001B[39;49m\u001B[43m)\u001B[49m\u001B[38;5;241m.\u001B[39mdt\u001B[38;5;241m.\u001B[39mtime\n\u001B[1;32m     12\u001B[0m min_ts \u001B[38;5;241m=\u001B[39m [dtt2timestamp(dtt) \u001B[38;5;28;01mfor\u001B[39;00m dtt \u001B[38;5;129;01min\u001B[39;00m df_user_logon_stats_sec[\u001B[38;5;124m'\u001B[39m\u001B[38;5;124mmin\u001B[39m\u001B[38;5;124m'\u001B[39m]]\n\u001B[1;32m     13\u001B[0m max_ts \u001B[38;5;241m=\u001B[39m [dtt2timestamp(dtt) \u001B[38;5;28;01mfor\u001B[39;00m dtt \u001B[38;5;129;01min\u001B[39;00m df_user_logon_stats_sec[\u001B[38;5;124m'\u001B[39m\u001B[38;5;124mmax\u001B[39m\u001B[38;5;124m'\u001B[39m]]\n",
      "File \u001B[0;32m/Library/Python/3.9/site-packages/pandas/core/tools/datetimes.py:1063\u001B[0m, in \u001B[0;36mto_datetime\u001B[0;34m(arg, errors, dayfirst, yearfirst, utc, format, exact, unit, infer_datetime_format, origin, cache)\u001B[0m\n\u001B[1;32m   1061\u001B[0m             result \u001B[38;5;241m=\u001B[39m arg\u001B[38;5;241m.\u001B[39mtz_localize(\u001B[38;5;124m\"\u001B[39m\u001B[38;5;124mutc\u001B[39m\u001B[38;5;124m\"\u001B[39m)\n\u001B[1;32m   1062\u001B[0m \u001B[38;5;28;01melif\u001B[39;00m \u001B[38;5;28misinstance\u001B[39m(arg, ABCSeries):\n\u001B[0;32m-> 1063\u001B[0m     cache_array \u001B[38;5;241m=\u001B[39m \u001B[43m_maybe_cache\u001B[49m\u001B[43m(\u001B[49m\u001B[43marg\u001B[49m\u001B[43m,\u001B[49m\u001B[43m \u001B[49m\u001B[38;5;28;43mformat\u001B[39;49m\u001B[43m,\u001B[49m\u001B[43m \u001B[49m\u001B[43mcache\u001B[49m\u001B[43m,\u001B[49m\u001B[43m \u001B[49m\u001B[43mconvert_listlike\u001B[49m\u001B[43m)\u001B[49m\n\u001B[1;32m   1064\u001B[0m     \u001B[38;5;28;01mif\u001B[39;00m \u001B[38;5;129;01mnot\u001B[39;00m cache_array\u001B[38;5;241m.\u001B[39mempty:\n\u001B[1;32m   1065\u001B[0m         result \u001B[38;5;241m=\u001B[39m arg\u001B[38;5;241m.\u001B[39mmap(cache_array)\n",
      "File \u001B[0;32m/Library/Python/3.9/site-packages/pandas/core/tools/datetimes.py:247\u001B[0m, in \u001B[0;36m_maybe_cache\u001B[0;34m(arg, format, cache, convert_listlike)\u001B[0m\n\u001B[1;32m    245\u001B[0m unique_dates \u001B[38;5;241m=\u001B[39m unique(arg)\n\u001B[1;32m    246\u001B[0m \u001B[38;5;28;01mif\u001B[39;00m \u001B[38;5;28mlen\u001B[39m(unique_dates) \u001B[38;5;241m<\u001B[39m \u001B[38;5;28mlen\u001B[39m(arg):\n\u001B[0;32m--> 247\u001B[0m     cache_dates \u001B[38;5;241m=\u001B[39m \u001B[43mconvert_listlike\u001B[49m\u001B[43m(\u001B[49m\u001B[43munique_dates\u001B[49m\u001B[43m,\u001B[49m\u001B[43m \u001B[49m\u001B[38;5;28;43mformat\u001B[39;49m\u001B[43m)\u001B[49m\n\u001B[1;32m    248\u001B[0m     \u001B[38;5;66;03m# GH#45319\u001B[39;00m\n\u001B[1;32m    249\u001B[0m     \u001B[38;5;28;01mtry\u001B[39;00m:\n",
      "File \u001B[0;32m/Library/Python/3.9/site-packages/pandas/core/tools/datetimes.py:433\u001B[0m, in \u001B[0;36m_convert_listlike_datetimes\u001B[0;34m(arg, format, name, utc, unit, errors, dayfirst, yearfirst, exact)\u001B[0m\n\u001B[1;32m    431\u001B[0m \u001B[38;5;66;03m# `format` could be inferred, or user didn't ask for mixed-format parsing.\u001B[39;00m\n\u001B[1;32m    432\u001B[0m \u001B[38;5;28;01mif\u001B[39;00m \u001B[38;5;28mformat\u001B[39m \u001B[38;5;129;01mis\u001B[39;00m \u001B[38;5;129;01mnot\u001B[39;00m \u001B[38;5;28;01mNone\u001B[39;00m \u001B[38;5;129;01mand\u001B[39;00m \u001B[38;5;28mformat\u001B[39m \u001B[38;5;241m!=\u001B[39m \u001B[38;5;124m\"\u001B[39m\u001B[38;5;124mmixed\u001B[39m\u001B[38;5;124m\"\u001B[39m:\n\u001B[0;32m--> 433\u001B[0m     \u001B[38;5;28;01mreturn\u001B[39;00m \u001B[43m_array_strptime_with_fallback\u001B[49m\u001B[43m(\u001B[49m\u001B[43marg\u001B[49m\u001B[43m,\u001B[49m\u001B[43m \u001B[49m\u001B[43mname\u001B[49m\u001B[43m,\u001B[49m\u001B[43m \u001B[49m\u001B[43mutc\u001B[49m\u001B[43m,\u001B[49m\u001B[43m \u001B[49m\u001B[38;5;28;43mformat\u001B[39;49m\u001B[43m,\u001B[49m\u001B[43m \u001B[49m\u001B[43mexact\u001B[49m\u001B[43m,\u001B[49m\u001B[43m \u001B[49m\u001B[43merrors\u001B[49m\u001B[43m)\u001B[49m\n\u001B[1;32m    435\u001B[0m result, tz_parsed \u001B[38;5;241m=\u001B[39m objects_to_datetime64(\n\u001B[1;32m    436\u001B[0m     arg,\n\u001B[1;32m    437\u001B[0m     dayfirst\u001B[38;5;241m=\u001B[39mdayfirst,\n\u001B[0;32m   (...)\u001B[0m\n\u001B[1;32m    441\u001B[0m     allow_object\u001B[38;5;241m=\u001B[39m\u001B[38;5;28;01mTrue\u001B[39;00m,\n\u001B[1;32m    442\u001B[0m )\n\u001B[1;32m    444\u001B[0m \u001B[38;5;28;01mif\u001B[39;00m tz_parsed \u001B[38;5;129;01mis\u001B[39;00m \u001B[38;5;129;01mnot\u001B[39;00m \u001B[38;5;28;01mNone\u001B[39;00m:\n\u001B[1;32m    445\u001B[0m     \u001B[38;5;66;03m# We can take a shortcut since the datetime64 numpy array\u001B[39;00m\n\u001B[1;32m    446\u001B[0m     \u001B[38;5;66;03m# is in UTC\u001B[39;00m\n",
      "File \u001B[0;32m/Library/Python/3.9/site-packages/pandas/core/tools/datetimes.py:467\u001B[0m, in \u001B[0;36m_array_strptime_with_fallback\u001B[0;34m(arg, name, utc, fmt, exact, errors)\u001B[0m\n\u001B[1;32m    456\u001B[0m \u001B[38;5;28;01mdef\u001B[39;00m \u001B[38;5;21m_array_strptime_with_fallback\u001B[39m(\n\u001B[1;32m    457\u001B[0m     arg,\n\u001B[1;32m    458\u001B[0m     name,\n\u001B[0;32m   (...)\u001B[0m\n\u001B[1;32m    462\u001B[0m     errors: \u001B[38;5;28mstr\u001B[39m,\n\u001B[1;32m    463\u001B[0m ) \u001B[38;5;241m-\u001B[39m\u001B[38;5;241m>\u001B[39m Index:\n\u001B[1;32m    464\u001B[0m \u001B[38;5;250m    \u001B[39m\u001B[38;5;124;03m\"\"\"\u001B[39;00m\n\u001B[1;32m    465\u001B[0m \u001B[38;5;124;03m    Call array_strptime, with fallback behavior depending on 'errors'.\u001B[39;00m\n\u001B[1;32m    466\u001B[0m \u001B[38;5;124;03m    \"\"\"\u001B[39;00m\n\u001B[0;32m--> 467\u001B[0m     result, tz_out \u001B[38;5;241m=\u001B[39m \u001B[43marray_strptime\u001B[49m\u001B[43m(\u001B[49m\u001B[43marg\u001B[49m\u001B[43m,\u001B[49m\u001B[43m \u001B[49m\u001B[43mfmt\u001B[49m\u001B[43m,\u001B[49m\u001B[43m \u001B[49m\u001B[43mexact\u001B[49m\u001B[38;5;241;43m=\u001B[39;49m\u001B[43mexact\u001B[49m\u001B[43m,\u001B[49m\u001B[43m \u001B[49m\u001B[43merrors\u001B[49m\u001B[38;5;241;43m=\u001B[39;49m\u001B[43merrors\u001B[49m\u001B[43m,\u001B[49m\u001B[43m \u001B[49m\u001B[43mutc\u001B[49m\u001B[38;5;241;43m=\u001B[39;49m\u001B[43mutc\u001B[49m\u001B[43m)\u001B[49m\n\u001B[1;32m    468\u001B[0m     \u001B[38;5;28;01mif\u001B[39;00m tz_out \u001B[38;5;129;01mis\u001B[39;00m \u001B[38;5;129;01mnot\u001B[39;00m \u001B[38;5;28;01mNone\u001B[39;00m:\n\u001B[1;32m    469\u001B[0m         unit \u001B[38;5;241m=\u001B[39m np\u001B[38;5;241m.\u001B[39mdatetime_data(result\u001B[38;5;241m.\u001B[39mdtype)[\u001B[38;5;241m0\u001B[39m]\n",
      "File \u001B[0;32mstrptime.pyx:501\u001B[0m, in \u001B[0;36mpandas._libs.tslibs.strptime.array_strptime\u001B[0;34m()\u001B[0m\n",
      "File \u001B[0;32mstrptime.pyx:451\u001B[0m, in \u001B[0;36mpandas._libs.tslibs.strptime.array_strptime\u001B[0;34m()\u001B[0m\n",
      "File \u001B[0;32mstrptime.pyx:583\u001B[0m, in \u001B[0;36mpandas._libs.tslibs.strptime._parse_with_format\u001B[0;34m()\u001B[0m\n",
      "\u001B[0;31mValueError\u001B[0m: time data \"27301\" doesn't match format \"%H:%M:%S\", at position 0. You might want to try:\n    - passing `format` if your strings have a consistent format;\n    - passing `format='ISO8601'` if your strings are all ISO8601 but not necessarily in exactly the same format;\n    - passing `format='mixed'`, and the format will be inferred for each element individually. You might want to use `dayfirst` alongside this."
     ]
    }
   ],
   "source": [],
   "metadata": {
    "collapsed": false,
    "ExecuteTime": {
     "end_time": "2024-04-04T00:23:43.663391Z",
     "start_time": "2024-04-04T00:23:43.559715Z"
    }
   },
   "id": "54e9d79d57479f56"
  },
  {
   "cell_type": "code",
   "execution_count": null,
   "outputs": [],
   "source": [],
   "metadata": {
    "collapsed": false
   },
   "id": "ccc0bd3dc279fa8a"
  },
  {
   "cell_type": "code",
   "execution_count": null,
   "outputs": [],
   "source": [],
   "metadata": {
    "collapsed": false
   },
   "id": "f878d8157bd3daeb"
  },
  {
   "cell_type": "code",
   "execution_count": null,
   "outputs": [],
   "source": [],
   "metadata": {
    "collapsed": false
   },
   "id": "70feb2a93e912ca"
  }
 ],
 "metadata": {
  "kernelspec": {
   "display_name": "Python 3",
   "language": "python",
   "name": "python3"
  },
  "language_info": {
   "codemirror_mode": {
    "name": "ipython",
    "version": 2
   },
   "file_extension": ".py",
   "mimetype": "text/x-python",
   "name": "python",
   "nbconvert_exporter": "python",
   "pygments_lexer": "ipython2",
   "version": "2.7.6"
  }
 },
 "nbformat": 4,
 "nbformat_minor": 5
}

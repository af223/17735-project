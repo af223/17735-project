{
 "cells": [
  {
   "cell_type": "code",
   "execution_count": 80,
   "id": "initial_id",
   "metadata": {
    "collapsed": true,
    "ExecuteTime": {
     "end_time": "2024-04-05T20:36:43.262256Z",
     "start_time": "2024-04-05T20:36:43.240677Z"
    }
   },
   "outputs": [],
   "source": [
    "import pandas as pd\n",
    "import os\n"
   ]
  },
  {
   "cell_type": "code",
   "execution_count": 81,
   "outputs": [],
   "source": [
    "import os\n",
    "import pandas as pd\n",
    "\n",
    "# Directory where CSV files are stored\n",
    "csv_directory = '/Users/wickywonka/CMU/coursework/17735/project/17735-project/ExtractedData'\n",
    "\n",
    "# Lists to hold data from each file\n",
    "logon_data = []\n",
    "logoff_data = []\n",
    "\n",
    "# Iterate over each CSV file in the directory\n",
    "for filename in os.listdir(csv_directory):\n",
    "    if filename.endswith('.csv'):\n",
    "        # Full path to the CSV file\n",
    "        csv_path = os.path.join(csv_directory, filename)\n",
    "\n",
    "        # Read the CSV file into a DataFrame\n",
    "        df = pd.read_csv(csv_path, names=['User', 'Timestamp', 'PC', 'ActivityType', 'Action'])\n",
    "\n",
    "        # Convert Timestamp to datetime\n",
    "        df['Timestamp'] = pd.to_datetime(df['Timestamp'], format='%m/%d/%Y %H:%M:%S')\n",
    "\n",
    "        # Extract time and hour from Timestamp\n",
    "        df['Time'] = df['Timestamp'].dt.time\n",
    "        df['Hour'] = df['Timestamp'].dt.hour\n",
    "\n",
    "        # Append DataFrame to the list by action\n",
    "        logon_data.append(df[df['Action'] == 'Logon'])\n",
    "        logoff_data.append(df[df['Action'] == 'Logoff'])\n",
    "\n",
    "# Concatenate all logon and logoff data into two separate DataFrames\n",
    "logon_df = pd.concat(logon_data)\n",
    "logoff_df = pd.concat(logoff_data)\n",
    "\n",
    "# Group by 'User' and aggregate times for logon\n",
    "df_user_logon_stats = logon_df.groupby('User')['Time'].agg(['min', 'max']).reset_index()\n",
    "df_logon_mode = logon_df.groupby('User')['Time'].agg(lambda x: x.value_counts().index[0]).reset_index()\n",
    "df_logon_mean = logon_df.groupby('User')['Hour'].mean().reset_index()\n",
    "\n",
    "# Convert mean hour to int and then to time\n",
    "df_logon_mean['Hour'] = df_logon_mean['Hour'].astype(int)\n",
    "df_logon_mean['Hour'] = pd.to_datetime(df_logon_mean['Hour'], format='%H').dt.time\n",
    "\n",
    "# Add mode and mean to the logon stats DataFrame\n",
    "df_user_logon_stats['mode'] = df_logon_mode['Time']\n",
    "df_user_logon_stats['mean'] = df_logon_mean['Hour']\n",
    "\n",
    "# Group by 'User' and aggregate times for logoff\n",
    "df_user_logoff_stats = logoff_df.groupby('User')['Time'].agg(['min', 'max']).reset_index()\n",
    "df_logoff_mode = logoff_df.groupby('User')['Time'].agg(lambda x: x.value_counts().index[0]).reset_index()\n",
    "df_logoff_mean = logoff_df.groupby('User')['Hour'].mean().reset_index()\n",
    "\n",
    "# Convert mean hour to int and then to time\n",
    "df_logoff_mean['Hour'] = df_logoff_mean['Hour'].astype(int)\n",
    "df_logoff_mean['Hour'] = pd.to_datetime(df_logoff_mean['Hour'], format='%H').dt.time\n",
    "\n",
    "# Add mode and mean to the logoff stats DataFrame\n",
    "df_user_logoff_stats['mode'] = df_logoff_mode['Time']\n",
    "df_user_logoff_stats['mean'] = df_logoff_mean['Hour']\n"
   ],
   "metadata": {
    "collapsed": false,
    "ExecuteTime": {
     "end_time": "2024-04-05T20:37:01.349558Z",
     "start_time": "2024-04-05T20:36:43.608389Z"
    }
   },
   "id": "ab8d2dd16ea3c7f5"
  },
  {
   "cell_type": "code",
   "execution_count": 82,
   "outputs": [
    {
     "name": "stdout",
     "output_type": "stream",
     "text": [
      "             User       min       max      mode      mean\n",
      "0    DTAA/AAA0371  07:35:01  13:46:57  07:54:21  09:00:00\n",
      "1    DTAA/AAC0344  07:50:03  08:09:53  08:06:07  07:00:00\n",
      "2    DTAA/AAC0599  07:50:03  08:09:58  07:56:28  07:00:00\n",
      "3    DTAA/AAH0734  08:20:05  08:39:58  08:26:55  08:00:00\n",
      "4    DTAA/AAK0658  08:20:00  08:39:54  08:22:33  08:00:00\n",
      "..            ...       ...       ...       ...       ...\n",
      "995  DTAA/ZGH0528  08:35:06  14:54:12  08:36:42  10:00:00\n",
      "996  DTAA/ZKE0662  07:20:03  13:36:39  07:23:43  09:00:00\n",
      "997  DTAA/ZKH0388  06:35:00  16:35:13  06:47:44  08:00:00\n",
      "998  DTAA/ZKN0548  08:20:05  08:39:46  08:25:35  08:00:00\n",
      "999  DTAA/ZRR0705  09:05:02  09:24:54  09:09:14  09:00:00\n",
      "\n",
      "[1000 rows x 5 columns]\n",
      "             User       min       max      mode      mean\n",
      "0    DTAA/AAA0371  08:33:18  14:54:58  14:48:22  13:00:00\n",
      "1    DTAA/AAC0344  15:55:00  16:09:58  15:55:10  15:00:00\n",
      "2    DTAA/AAC0599  15:55:01  16:09:53  16:04:27  15:00:00\n",
      "3    DTAA/AAH0734  17:25:00  17:39:59  17:34:26  17:00:00\n",
      "4    DTAA/AAK0658  16:25:05  16:39:59  16:38:32  16:00:00\n",
      "..            ...       ...       ...       ...       ...\n",
      "995  DTAA/ZGH0528  17:40:01  17:54:58  17:50:29  17:00:00\n",
      "996  DTAA/ZKE0662  19:25:02  19:39:59  19:37:22  19:00:00\n",
      "997  DTAA/ZKH0388  07:34:06  17:54:59  17:47:13  16:00:00\n",
      "998  DTAA/ZKN0548  18:25:01  18:39:54  18:33:30  18:00:00\n",
      "999  DTAA/ZRR0705  18:10:01  18:24:58  18:18:09  18:00:00\n",
      "\n",
      "[1000 rows x 5 columns]\n"
     ]
    }
   ],
   "source": [
    "print(df_user_logon_stats)\n",
    "print(df_user_logoff_stats)"
   ],
   "metadata": {
    "collapsed": false,
    "ExecuteTime": {
     "end_time": "2024-04-05T20:37:01.357325Z",
     "start_time": "2024-04-05T20:37:01.354008Z"
    }
   },
   "id": "ae606679402ee3b9"
  },
  {
   "cell_type": "code",
   "execution_count": 83,
   "outputs": [
    {
     "data": {
      "text/plain": "             User       min       max      mode      mean\n0    DTAA/AAA0371  07:35:01  13:46:57  07:54:21  09:00:00\n1    DTAA/AAC0344  07:50:03  08:09:53  08:06:07  07:00:00\n2    DTAA/AAC0599  07:50:03  08:09:58  07:56:28  07:00:00\n3    DTAA/AAH0734  08:20:05  08:39:58  08:26:55  08:00:00\n4    DTAA/AAK0658  08:20:00  08:39:54  08:22:33  08:00:00\n..            ...       ...       ...       ...       ...\n995  DTAA/ZGH0528  08:35:06  14:54:12  08:36:42  10:00:00\n996  DTAA/ZKE0662  07:20:03  13:36:39  07:23:43  09:00:00\n997  DTAA/ZKH0388  06:35:00  16:35:13  06:47:44  08:00:00\n998  DTAA/ZKN0548  08:20:05  08:39:46  08:25:35  08:00:00\n999  DTAA/ZRR0705  09:05:02  09:24:54  09:09:14  09:00:00\n\n[1000 rows x 5 columns]",
      "text/html": "<div>\n<style scoped>\n    .dataframe tbody tr th:only-of-type {\n        vertical-align: middle;\n    }\n\n    .dataframe tbody tr th {\n        vertical-align: top;\n    }\n\n    .dataframe thead th {\n        text-align: right;\n    }\n</style>\n<table border=\"1\" class=\"dataframe\">\n  <thead>\n    <tr style=\"text-align: right;\">\n      <th></th>\n      <th>User</th>\n      <th>min</th>\n      <th>max</th>\n      <th>mode</th>\n      <th>mean</th>\n    </tr>\n  </thead>\n  <tbody>\n    <tr>\n      <th>0</th>\n      <td>DTAA/AAA0371</td>\n      <td>07:35:01</td>\n      <td>13:46:57</td>\n      <td>07:54:21</td>\n      <td>09:00:00</td>\n    </tr>\n    <tr>\n      <th>1</th>\n      <td>DTAA/AAC0344</td>\n      <td>07:50:03</td>\n      <td>08:09:53</td>\n      <td>08:06:07</td>\n      <td>07:00:00</td>\n    </tr>\n    <tr>\n      <th>2</th>\n      <td>DTAA/AAC0599</td>\n      <td>07:50:03</td>\n      <td>08:09:58</td>\n      <td>07:56:28</td>\n      <td>07:00:00</td>\n    </tr>\n    <tr>\n      <th>3</th>\n      <td>DTAA/AAH0734</td>\n      <td>08:20:05</td>\n      <td>08:39:58</td>\n      <td>08:26:55</td>\n      <td>08:00:00</td>\n    </tr>\n    <tr>\n      <th>4</th>\n      <td>DTAA/AAK0658</td>\n      <td>08:20:00</td>\n      <td>08:39:54</td>\n      <td>08:22:33</td>\n      <td>08:00:00</td>\n    </tr>\n    <tr>\n      <th>...</th>\n      <td>...</td>\n      <td>...</td>\n      <td>...</td>\n      <td>...</td>\n      <td>...</td>\n    </tr>\n    <tr>\n      <th>995</th>\n      <td>DTAA/ZGH0528</td>\n      <td>08:35:06</td>\n      <td>14:54:12</td>\n      <td>08:36:42</td>\n      <td>10:00:00</td>\n    </tr>\n    <tr>\n      <th>996</th>\n      <td>DTAA/ZKE0662</td>\n      <td>07:20:03</td>\n      <td>13:36:39</td>\n      <td>07:23:43</td>\n      <td>09:00:00</td>\n    </tr>\n    <tr>\n      <th>997</th>\n      <td>DTAA/ZKH0388</td>\n      <td>06:35:00</td>\n      <td>16:35:13</td>\n      <td>06:47:44</td>\n      <td>08:00:00</td>\n    </tr>\n    <tr>\n      <th>998</th>\n      <td>DTAA/ZKN0548</td>\n      <td>08:20:05</td>\n      <td>08:39:46</td>\n      <td>08:25:35</td>\n      <td>08:00:00</td>\n    </tr>\n    <tr>\n      <th>999</th>\n      <td>DTAA/ZRR0705</td>\n      <td>09:05:02</td>\n      <td>09:24:54</td>\n      <td>09:09:14</td>\n      <td>09:00:00</td>\n    </tr>\n  </tbody>\n</table>\n<p>1000 rows × 5 columns</p>\n</div>"
     },
     "execution_count": 83,
     "metadata": {},
     "output_type": "execute_result"
    }
   ],
   "source": [
    "df_user_logon_stats\n"
   ],
   "metadata": {
    "collapsed": false,
    "ExecuteTime": {
     "end_time": "2024-04-05T20:37:01.364975Z",
     "start_time": "2024-04-05T20:37:01.360995Z"
    }
   },
   "id": "7b340898398cec4"
  },
  {
   "cell_type": "code",
   "execution_count": 84,
   "outputs": [
    {
     "data": {
      "text/plain": "             User       min       max      mode      mean\n0    DTAA/AAA0371  08:33:18  14:54:58  14:48:22  13:00:00\n1    DTAA/AAC0344  15:55:00  16:09:58  15:55:10  15:00:00\n2    DTAA/AAC0599  15:55:01  16:09:53  16:04:27  15:00:00\n3    DTAA/AAH0734  17:25:00  17:39:59  17:34:26  17:00:00\n4    DTAA/AAK0658  16:25:05  16:39:59  16:38:32  16:00:00\n..            ...       ...       ...       ...       ...\n995  DTAA/ZGH0528  17:40:01  17:54:58  17:50:29  17:00:00\n996  DTAA/ZKE0662  19:25:02  19:39:59  19:37:22  19:00:00\n997  DTAA/ZKH0388  07:34:06  17:54:59  17:47:13  16:00:00\n998  DTAA/ZKN0548  18:25:01  18:39:54  18:33:30  18:00:00\n999  DTAA/ZRR0705  18:10:01  18:24:58  18:18:09  18:00:00\n\n[1000 rows x 5 columns]",
      "text/html": "<div>\n<style scoped>\n    .dataframe tbody tr th:only-of-type {\n        vertical-align: middle;\n    }\n\n    .dataframe tbody tr th {\n        vertical-align: top;\n    }\n\n    .dataframe thead th {\n        text-align: right;\n    }\n</style>\n<table border=\"1\" class=\"dataframe\">\n  <thead>\n    <tr style=\"text-align: right;\">\n      <th></th>\n      <th>User</th>\n      <th>min</th>\n      <th>max</th>\n      <th>mode</th>\n      <th>mean</th>\n    </tr>\n  </thead>\n  <tbody>\n    <tr>\n      <th>0</th>\n      <td>DTAA/AAA0371</td>\n      <td>08:33:18</td>\n      <td>14:54:58</td>\n      <td>14:48:22</td>\n      <td>13:00:00</td>\n    </tr>\n    <tr>\n      <th>1</th>\n      <td>DTAA/AAC0344</td>\n      <td>15:55:00</td>\n      <td>16:09:58</td>\n      <td>15:55:10</td>\n      <td>15:00:00</td>\n    </tr>\n    <tr>\n      <th>2</th>\n      <td>DTAA/AAC0599</td>\n      <td>15:55:01</td>\n      <td>16:09:53</td>\n      <td>16:04:27</td>\n      <td>15:00:00</td>\n    </tr>\n    <tr>\n      <th>3</th>\n      <td>DTAA/AAH0734</td>\n      <td>17:25:00</td>\n      <td>17:39:59</td>\n      <td>17:34:26</td>\n      <td>17:00:00</td>\n    </tr>\n    <tr>\n      <th>4</th>\n      <td>DTAA/AAK0658</td>\n      <td>16:25:05</td>\n      <td>16:39:59</td>\n      <td>16:38:32</td>\n      <td>16:00:00</td>\n    </tr>\n    <tr>\n      <th>...</th>\n      <td>...</td>\n      <td>...</td>\n      <td>...</td>\n      <td>...</td>\n      <td>...</td>\n    </tr>\n    <tr>\n      <th>995</th>\n      <td>DTAA/ZGH0528</td>\n      <td>17:40:01</td>\n      <td>17:54:58</td>\n      <td>17:50:29</td>\n      <td>17:00:00</td>\n    </tr>\n    <tr>\n      <th>996</th>\n      <td>DTAA/ZKE0662</td>\n      <td>19:25:02</td>\n      <td>19:39:59</td>\n      <td>19:37:22</td>\n      <td>19:00:00</td>\n    </tr>\n    <tr>\n      <th>997</th>\n      <td>DTAA/ZKH0388</td>\n      <td>07:34:06</td>\n      <td>17:54:59</td>\n      <td>17:47:13</td>\n      <td>16:00:00</td>\n    </tr>\n    <tr>\n      <th>998</th>\n      <td>DTAA/ZKN0548</td>\n      <td>18:25:01</td>\n      <td>18:39:54</td>\n      <td>18:33:30</td>\n      <td>18:00:00</td>\n    </tr>\n    <tr>\n      <th>999</th>\n      <td>DTAA/ZRR0705</td>\n      <td>18:10:01</td>\n      <td>18:24:58</td>\n      <td>18:18:09</td>\n      <td>18:00:00</td>\n    </tr>\n  </tbody>\n</table>\n<p>1000 rows × 5 columns</p>\n</div>"
     },
     "execution_count": 84,
     "metadata": {},
     "output_type": "execute_result"
    }
   ],
   "source": [
    "df_user_logoff_stats"
   ],
   "metadata": {
    "collapsed": false,
    "ExecuteTime": {
     "end_time": "2024-04-05T20:37:01.394339Z",
     "start_time": "2024-04-05T20:37:01.368918Z"
    }
   },
   "id": "3be118ed55202794"
  },
  {
   "cell_type": "code",
   "execution_count": 85,
   "outputs": [
    {
     "data": {
      "text/plain": "           User      Hour\n0  DTAA/AAA0371  09:00:00\n1  DTAA/AAC0344  07:00:00\n2  DTAA/AAC0599  07:00:00\n3  DTAA/AAH0734  08:00:00\n4  DTAA/AAK0658  08:00:00",
      "text/html": "<div>\n<style scoped>\n    .dataframe tbody tr th:only-of-type {\n        vertical-align: middle;\n    }\n\n    .dataframe tbody tr th {\n        vertical-align: top;\n    }\n\n    .dataframe thead th {\n        text-align: right;\n    }\n</style>\n<table border=\"1\" class=\"dataframe\">\n  <thead>\n    <tr style=\"text-align: right;\">\n      <th></th>\n      <th>User</th>\n      <th>Hour</th>\n    </tr>\n  </thead>\n  <tbody>\n    <tr>\n      <th>0</th>\n      <td>DTAA/AAA0371</td>\n      <td>09:00:00</td>\n    </tr>\n    <tr>\n      <th>1</th>\n      <td>DTAA/AAC0344</td>\n      <td>07:00:00</td>\n    </tr>\n    <tr>\n      <th>2</th>\n      <td>DTAA/AAC0599</td>\n      <td>07:00:00</td>\n    </tr>\n    <tr>\n      <th>3</th>\n      <td>DTAA/AAH0734</td>\n      <td>08:00:00</td>\n    </tr>\n    <tr>\n      <th>4</th>\n      <td>DTAA/AAK0658</td>\n      <td>08:00:00</td>\n    </tr>\n  </tbody>\n</table>\n</div>"
     },
     "execution_count": 85,
     "metadata": {},
     "output_type": "execute_result"
    }
   ],
   "source": [
    "df_logon_mean.head()"
   ],
   "metadata": {
    "collapsed": false,
    "ExecuteTime": {
     "end_time": "2024-04-05T20:37:01.402284Z",
     "start_time": "2024-04-05T20:37:01.375440Z"
    }
   },
   "id": "4d8457e56b1a7b5e"
  },
  {
   "cell_type": "code",
   "execution_count": 86,
   "outputs": [
    {
     "data": {
      "text/plain": "           User      Time\n0  DTAA/AAA0371  07:54:21\n1  DTAA/AAC0344  08:06:07\n2  DTAA/AAC0599  07:56:28\n3  DTAA/AAH0734  08:26:55\n4  DTAA/AAK0658  08:22:33",
      "text/html": "<div>\n<style scoped>\n    .dataframe tbody tr th:only-of-type {\n        vertical-align: middle;\n    }\n\n    .dataframe tbody tr th {\n        vertical-align: top;\n    }\n\n    .dataframe thead th {\n        text-align: right;\n    }\n</style>\n<table border=\"1\" class=\"dataframe\">\n  <thead>\n    <tr style=\"text-align: right;\">\n      <th></th>\n      <th>User</th>\n      <th>Time</th>\n    </tr>\n  </thead>\n  <tbody>\n    <tr>\n      <th>0</th>\n      <td>DTAA/AAA0371</td>\n      <td>07:54:21</td>\n    </tr>\n    <tr>\n      <th>1</th>\n      <td>DTAA/AAC0344</td>\n      <td>08:06:07</td>\n    </tr>\n    <tr>\n      <th>2</th>\n      <td>DTAA/AAC0599</td>\n      <td>07:56:28</td>\n    </tr>\n    <tr>\n      <th>3</th>\n      <td>DTAA/AAH0734</td>\n      <td>08:26:55</td>\n    </tr>\n    <tr>\n      <th>4</th>\n      <td>DTAA/AAK0658</td>\n      <td>08:22:33</td>\n    </tr>\n  </tbody>\n</table>\n</div>"
     },
     "execution_count": 86,
     "metadata": {},
     "output_type": "execute_result"
    }
   ],
   "source": [
    "df_logon_mode.head()"
   ],
   "metadata": {
    "collapsed": false,
    "ExecuteTime": {
     "end_time": "2024-04-05T20:37:01.402939Z",
     "start_time": "2024-04-05T20:37:01.378371Z"
    }
   },
   "id": "30cd72c727e260a7"
  },
  {
   "cell_type": "code",
   "execution_count": 87,
   "outputs": [
    {
     "data": {
      "text/plain": "           User      Hour\n0  DTAA/AAA0371  13:00:00\n1  DTAA/AAC0344  15:00:00\n2  DTAA/AAC0599  15:00:00\n3  DTAA/AAH0734  17:00:00\n4  DTAA/AAK0658  16:00:00",
      "text/html": "<div>\n<style scoped>\n    .dataframe tbody tr th:only-of-type {\n        vertical-align: middle;\n    }\n\n    .dataframe tbody tr th {\n        vertical-align: top;\n    }\n\n    .dataframe thead th {\n        text-align: right;\n    }\n</style>\n<table border=\"1\" class=\"dataframe\">\n  <thead>\n    <tr style=\"text-align: right;\">\n      <th></th>\n      <th>User</th>\n      <th>Hour</th>\n    </tr>\n  </thead>\n  <tbody>\n    <tr>\n      <th>0</th>\n      <td>DTAA/AAA0371</td>\n      <td>13:00:00</td>\n    </tr>\n    <tr>\n      <th>1</th>\n      <td>DTAA/AAC0344</td>\n      <td>15:00:00</td>\n    </tr>\n    <tr>\n      <th>2</th>\n      <td>DTAA/AAC0599</td>\n      <td>15:00:00</td>\n    </tr>\n    <tr>\n      <th>3</th>\n      <td>DTAA/AAH0734</td>\n      <td>17:00:00</td>\n    </tr>\n    <tr>\n      <th>4</th>\n      <td>DTAA/AAK0658</td>\n      <td>16:00:00</td>\n    </tr>\n  </tbody>\n</table>\n</div>"
     },
     "execution_count": 87,
     "metadata": {},
     "output_type": "execute_result"
    }
   ],
   "source": [
    "df_logoff_mean.head()"
   ],
   "metadata": {
    "collapsed": false,
    "ExecuteTime": {
     "end_time": "2024-04-05T20:37:01.440113Z",
     "start_time": "2024-04-05T20:37:01.386187Z"
    }
   },
   "id": "3da790197a174680"
  },
  {
   "cell_type": "code",
   "execution_count": 88,
   "outputs": [
    {
     "data": {
      "text/plain": "           User      Time\n0  DTAA/AAA0371  14:48:22\n1  DTAA/AAC0344  15:55:10\n2  DTAA/AAC0599  16:04:27\n3  DTAA/AAH0734  17:34:26\n4  DTAA/AAK0658  16:38:32",
      "text/html": "<div>\n<style scoped>\n    .dataframe tbody tr th:only-of-type {\n        vertical-align: middle;\n    }\n\n    .dataframe tbody tr th {\n        vertical-align: top;\n    }\n\n    .dataframe thead th {\n        text-align: right;\n    }\n</style>\n<table border=\"1\" class=\"dataframe\">\n  <thead>\n    <tr style=\"text-align: right;\">\n      <th></th>\n      <th>User</th>\n      <th>Time</th>\n    </tr>\n  </thead>\n  <tbody>\n    <tr>\n      <th>0</th>\n      <td>DTAA/AAA0371</td>\n      <td>14:48:22</td>\n    </tr>\n    <tr>\n      <th>1</th>\n      <td>DTAA/AAC0344</td>\n      <td>15:55:10</td>\n    </tr>\n    <tr>\n      <th>2</th>\n      <td>DTAA/AAC0599</td>\n      <td>16:04:27</td>\n    </tr>\n    <tr>\n      <th>3</th>\n      <td>DTAA/AAH0734</td>\n      <td>17:34:26</td>\n    </tr>\n    <tr>\n      <th>4</th>\n      <td>DTAA/AAK0658</td>\n      <td>16:38:32</td>\n    </tr>\n  </tbody>\n</table>\n</div>"
     },
     "execution_count": 88,
     "metadata": {},
     "output_type": "execute_result"
    }
   ],
   "source": [
    "df_logoff_mode.head()"
   ],
   "metadata": {
    "collapsed": false,
    "ExecuteTime": {
     "end_time": "2024-04-05T20:37:01.441225Z",
     "start_time": "2024-04-05T20:37:01.393664Z"
    }
   },
   "id": "36b2e184ebdea854"
  },
  {
   "cell_type": "code",
   "execution_count": 89,
   "outputs": [
    {
     "name": "stdout",
     "output_type": "stream",
     "text": [
      "[[27301 49617 28461 ... 49617 28461 32400]\n",
      " [28203 29393 29167 ... 29393 29167 25200]\n",
      " [28203 29398 28588 ... 29398 28588 25200]\n",
      " ...\n",
      " [23700 59713 24464 ... 59713 24464 28800]\n",
      " [30005 31186 30335 ... 31186 30335 28800]\n",
      " [32702 33894 32954 ... 33894 32954 32400]]\n",
      "0    900\n",
      "1    100\n",
      "Name: count, dtype: int64\n",
      "             User  anomaly_score\n",
      "0    DTAA/AAA0371       0.146561\n",
      "1    DTAA/AAC0344       0.171652\n",
      "2    DTAA/AAC0599       0.184828\n",
      "3    DTAA/AAH0734       0.150257\n",
      "4    DTAA/AAK0658       0.146880\n",
      "..            ...            ...\n",
      "995  DTAA/ZGH0528       0.097737\n",
      "996  DTAA/ZKE0662       0.112834\n",
      "997  DTAA/ZKH0388       0.002084\n",
      "998  DTAA/ZKN0548       0.147484\n",
      "999  DTAA/ZRR0705       0.017965\n",
      "\n",
      "[1000 rows x 2 columns]\n",
      "             User  anomaly_score\n",
      "13   DTAA/ABS0726      -0.005567\n",
      "14   DTAA/ACD0647      -0.057754\n",
      "24   DTAA/AFF0760      -0.002316\n",
      "33   DTAA/AGW0182      -0.001182\n",
      "45   DTAA/AJC0399      -0.087825\n",
      "..            ...            ...\n",
      "954  DTAA/WCN0570      -0.046487\n",
      "961  DTAA/WJG0153      -0.038810\n",
      "970  DTAA/WTA0867      -0.034294\n",
      "972  DTAA/XCB0445      -0.043429\n",
      "975  DTAA/XIN0791      -0.029094\n",
      "\n",
      "[100 rows x 2 columns]\n"
     ]
    }
   ],
   "source": [
    "import matplotlib.pyplot as plt\n",
    "from sklearn.ensemble import IsolationForest\n",
    "import pickle\n",
    "import numpy as np\n",
    "import pandas as pd \n",
    "\n",
    "def dtt2timestamp(dtt):\n",
    "  time_in_sec = (dtt.hour*60 + dtt.minute) * 60 + dtt.second\n",
    "  return time_in_sec\n",
    "\n",
    "df_user_logon_stats_sec = df_user_logon_stats\n",
    "\n",
    "time_columns = ['min', 'max', 'mode', 'mean']\n",
    "for col in time_columns:\n",
    "    df_user_logon_stats_sec[col] = pd.to_datetime(df_user_logon_stats[col], format='%H:%M:%S').dt.time\n",
    "\n",
    "\n",
    "min_ts = [dtt2timestamp(dtt) for dtt in df_user_logon_stats_sec['min']]\n",
    "max_ts = [dtt2timestamp(dtt) for dtt in df_user_logon_stats_sec['max']]\n",
    "mode_ts = [dtt2timestamp(dtt) for dtt in df_user_logon_stats_sec['mode']]\n",
    "mean_ts = [dtt2timestamp(dtt) for dtt in df_user_logon_stats_sec['mean']]\n",
    "\n",
    "df_user_logon_stats_sec['min_ts'] = min_ts\n",
    "df_user_logon_stats_sec['max_ts'] = max_ts\n",
    "df_user_logon_stats_sec['mode_ts'] = mode_ts\n",
    "df_user_logon_stats_sec['mean_ts'] = mean_ts\n",
    "\n",
    "\n",
    "df_user_logon_stats_sec.drop(['min','max','mode','mean'], axis=1)\n",
    "\n",
    "df_user_logoff_stats_sec = df_user_logoff_stats\n",
    "\n",
    "for col in time_columns:\n",
    "    df_user_logoff_stats_sec[col] = pd.to_datetime(df_user_logoff_stats[col], format='%H:%M:%S').dt.time\n",
    "\n",
    "\n",
    "min_ts = [dtt2timestamp(dtt) for dtt in df_user_logoff_stats_sec['min']] \n",
    "max_ts = [dtt2timestamp(dtt) for dtt in df_user_logoff_stats_sec['max']]\n",
    "mode_ts = [dtt2timestamp(dtt) for dtt in df_user_logoff_stats_sec['mode']]\n",
    "mean_ts = [dtt2timestamp(dtt) for dtt in df_user_logoff_stats_sec['mean']]\n",
    "\n",
    "\n",
    "df_user_logoff_stats_sec['min_ts'] = min_ts\n",
    "df_user_logoff_stats_sec['max_ts'] = max_ts\n",
    "df_user_logoff_stats_sec['mode_ts'] = mode_ts\n",
    "df_user_logoff_stats_sec['mean_ts'] = mean_ts\n",
    "\n",
    "\n",
    "df_user_logoff_stats_sec.drop(['min', 'max','mode','mean'], axis=1)\n",
    "\n",
    "\n",
    "df_log_on_off_stats = pd.DataFrame()\n",
    "\n",
    "df_log_on_off_stats['User'] = df_user_logon_stats_sec['User']\n",
    "df_log_on_off_stats['on_min_ts'] = df_user_logon_stats_sec['min_ts']\n",
    "df_log_on_off_stats['on_max_ts'] = df_user_logon_stats_sec['max_ts']\n",
    "df_log_on_off_stats['on_mode_ts'] = df_user_logon_stats_sec['mode_ts']\n",
    "df_log_on_off_stats['on_mean_ts'] = df_user_logon_stats_sec['mean_ts']\n",
    "df_log_on_off_stats['off_min_ts'] = df_user_logon_stats_sec['min_ts']\n",
    "df_log_on_off_stats['off_max_ts'] = df_user_logon_stats_sec['max_ts']\n",
    "df_log_on_off_stats['off_mode_ts'] = df_user_logon_stats_sec['mode_ts']\n",
    "df_log_on_off_stats['off_mean_ts'] = df_user_logon_stats_sec['mean_ts']\n",
    "\n",
    "\n",
    "#df_log_on_off_stats.dtypes\n",
    "\n",
    "log_stats = df_log_on_off_stats.drop(['User'], axis=1)\n",
    "log_stats_array = np.array(log_stats)  # Changed from np.matrix to np.array\n",
    "print(log_stats_array)\n",
    "\n",
    "\n",
    "\n",
    "#df_log_on_off_stats.columns\n",
    "\n",
    "\n",
    "#logon\n",
    "forest = IsolationForest(bootstrap=False, contamination= 0.1 , max_features=1.0,\n",
    "        max_samples='auto', n_estimators=100, n_jobs=1, random_state=0,\n",
    "        verbose=0)\n",
    "forest.fit(log_stats_array)\n",
    "log_ascore = forest.decision_function(log_stats_array)\n",
    "log_ascore[:10]\n",
    "\n",
    "\n",
    "# counting the values\n",
    "df22 = pd.Series(forest.predict(log_stats_array))\n",
    "df22 = df22.map({1:0, -1:1})\n",
    "print(df22.value_counts())\n",
    "\n",
    "\n",
    "# with open('../pkl/log_stats_matrix.pkl','wb') as file :\n",
    "#   pickle.dump(forest, file)\n",
    "\n",
    "\n",
    "df_user_log_result = pd.DataFrame()\n",
    "df_user_log_result['User'] = df_user_logoff_stats_sec['User']\n",
    "df_user_log_result['ascore'] = log_ascore\n",
    "# df_user_log_result.to_csv('user_log_result.csv')\n",
    "print(df_user_log_result)\n",
    "\n",
    "\n",
    "outliers = df_user_log_result.loc[df_user_log_result['ascore'] < 0]\n",
    "print(outliers)\n",
    "\n"
   ],
   "metadata": {
    "collapsed": false,
    "ExecuteTime": {
     "end_time": "2024-04-05T20:37:01.600872Z",
     "start_time": "2024-04-05T20:37:01.402224Z"
    }
   },
   "id": "f11134b7148a4090"
  },
  {
   "cell_type": "code",
   "execution_count": 90,
   "outputs": [],
   "source": [
    "# Lists to hold data from each file\n",
    "connect_data = []\n",
    "disconnect_data = []\n",
    "\n",
    "# Iterate over each CSV file in the directory\n",
    "for filename in os.listdir(csv_directory):\n",
    "    if filename.endswith('.csv'):\n",
    "        # Full path to the CSV file\n",
    "        csv_path = os.path.join(csv_directory, filename)\n",
    "\n",
    "        # Read the CSV file into a DataFrame\n",
    "        df = pd.read_csv(csv_path, names=['User', 'Timestamp', 'PC', 'ActivityType', 'Action'])\n",
    "\n",
    "        # Convert Timestamp to datetime\n",
    "        df['Timestamp'] = pd.to_datetime(df['Timestamp'], format='%m/%d/%Y %H:%M:%S')\n",
    "\n",
    "        # Filter DataFrame by action and append to the respective list\n",
    "        connect_data.append(df[df['Action'] == 'Connect'])\n",
    "        disconnect_data.append(df[df['Action'] == 'Disconnect'])\n",
    "\n",
    "# Concatenate all connect and disconnect data into two separate DataFrames\n",
    "connect_df = pd.concat(connect_data)\n",
    "disconnect_df = pd.concat(disconnect_data)\n",
    "\n",
    "# Calculate means for connect and disconnect\n",
    "connect_means = connect_df.groupby('User')['Timestamp'].apply(lambda x: x.mean().time())\n",
    "disconnect_means = disconnect_df.groupby('User')['Timestamp'].apply(lambda x: x.mean().time())\n",
    "\n",
    "# Calculate modes for connect and disconnect\n",
    "# We use scipy's mode function which returns the first mode in case of multimodal data\n",
    "connect_modes = connect_df.groupby('User')['Timestamp'].apply(lambda x: x.dt.time.mode()[0])\n",
    "disconnect_modes = disconnect_df.groupby('User')['Timestamp'].apply(lambda x: x.dt.time.mode()[0])\n",
    "\n",
    "# Convert Series to DataFrame for CSV output\n",
    "connect_means_df = connect_means.reset_index().rename(columns={'Timestamp': 'Connect_mean_time'})\n",
    "connect_modes_df = connect_modes.reset_index().rename(columns={'Timestamp': 'Connect_mode_time'})\n",
    "\n",
    "disconnect_means_df = disconnect_means.reset_index().rename(columns={'Timestamp': 'Disconnect_mean_time'})\n",
    "disconnect_modes_df = disconnect_modes.reset_index().rename(columns={'Timestamp': 'Disconnect_mode_time'})\n",
    "\n",
    "# Save the DataFrames to CSV files\n",
    "# connect_means_df.to_csv('connect_means.csv', index=False)\n",
    "# connect_modes_df.to_csv('connect_modes.csv', index=False)\n",
    "# disconnect_means_df.to_csv('disconnect_means.csv', index=False)\n",
    "# disconnect_modes_df.to_csv('disconnect_modes.csv', index=False)\n",
    "\n",
    "# These variables hold the respective statistics for later use in your code:\n",
    "# connect_means_df, connect_modes_df, disconnect_means_df, disconnect_modes_df"
   ],
   "metadata": {
    "collapsed": false,
    "ExecuteTime": {
     "end_time": "2024-04-05T20:37:15.360997Z",
     "start_time": "2024-04-05T20:37:01.582955Z"
    }
   },
   "id": "d5968f9d8c4b840a"
  },
  {
   "cell_type": "code",
   "execution_count": 91,
   "outputs": [
    {
     "name": "stdout",
     "output_type": "stream",
     "text": [
      "           User Connect_mean_time\n",
      "0  DTAA/ABB0272          19:20:46\n",
      "1  DTAA/ABS0726          00:06:48\n",
      "2  DTAA/ACH0803          14:59:06\n",
      "3  DTAA/AFF0760          03:13:46\n",
      "4  DTAA/AFH0331          10:56:46\n"
     ]
    }
   ],
   "source": [
    "connect_means_df.head()"
   ],
   "metadata": {
    "collapsed": false,
    "ExecuteTime": {
     "end_time": "2024-04-05T20:37:15.367040Z",
     "start_time": "2024-04-05T20:37:15.361779Z"
    }
   },
   "id": "2357370cf8c26873"
  },
  {
   "cell_type": "code",
   "execution_count": 92,
   "outputs": [
    {
     "name": "stdout",
     "output_type": "stream",
     "text": [
      "           User Connect_mode_time\n",
      "0  DTAA/ABB0272          15:47:45\n",
      "1  DTAA/ABS0726          01:01:07\n",
      "2  DTAA/ACH0803          16:05:54\n",
      "3  DTAA/AFF0760          00:57:03\n",
      "4  DTAA/AFH0331          07:57:22\n"
     ]
    }
   ],
   "source": [
    "connect_modes_df.head()"
   ],
   "metadata": {
    "collapsed": false,
    "ExecuteTime": {
     "end_time": "2024-04-05T20:37:15.369277Z",
     "start_time": "2024-04-05T20:37:15.365672Z"
    }
   },
   "id": "16d2fdb90030029d"
  },
  {
   "cell_type": "code",
   "execution_count": 93,
   "outputs": [
    {
     "name": "stdout",
     "output_type": "stream",
     "text": [
      "           User Disconnect_mean_time\n",
      "0  DTAA/ABB0272             22:43:29\n",
      "1  DTAA/ABS0726             00:36:46\n",
      "2  DTAA/ACH0803             06:03:02\n",
      "3  DTAA/AFF0760             03:44:57\n",
      "4  DTAA/AFH0331             09:26:35\n"
     ]
    }
   ],
   "source": [
    "disconnect_means_df.head()"
   ],
   "metadata": {
    "collapsed": false,
    "ExecuteTime": {
     "end_time": "2024-04-05T20:37:15.374130Z",
     "start_time": "2024-04-05T20:37:15.369621Z"
    }
   },
   "id": "e900f5dd178a703b"
  },
  {
   "cell_type": "code",
   "execution_count": 94,
   "outputs": [
    {
     "name": "stdout",
     "output_type": "stream",
     "text": [
      "           User Disconnect_mode_time\n",
      "0  DTAA/ABB0272             14:35:34\n",
      "1  DTAA/ABS0726             01:01:46\n",
      "2  DTAA/ACH0803             16:43:48\n",
      "3  DTAA/AFF0760             01:02:11\n",
      "4  DTAA/AFH0331             17:47:54\n"
     ]
    }
   ],
   "source": [
    "disconnect_modes_df.head()"
   ],
   "metadata": {
    "collapsed": false,
    "ExecuteTime": {
     "end_time": "2024-04-05T20:37:15.380100Z",
     "start_time": "2024-04-05T20:37:15.373907Z"
    }
   },
   "id": "c1ef00031d3a4671"
  },
  {
   "cell_type": "code",
   "execution_count": 95,
   "outputs": [
    {
     "name": "stdout",
     "output_type": "stream",
     "text": [
      "             User Connect_min_time Connect_max_time Connect_mean_time  \\\n",
      "0    DTAA/ABB0272         09:35:19         09:26:18          19:20:46   \n",
      "1    DTAA/ABS0726         04:32:16         02:44:26          00:06:48   \n",
      "2    DTAA/ACH0803         17:11:48         15:05:45          14:59:06   \n",
      "3    DTAA/AFF0760         00:57:03         04:45:39          03:13:46   \n",
      "4    DTAA/AFH0331         09:14:33         09:29:43          10:56:46   \n",
      "..            ...              ...              ...               ...   \n",
      "223  DTAA/YCB0005         15:46:31         16:05:53          18:42:04   \n",
      "224  DTAA/YCV0635         10:56:52         16:53:57          11:23:51   \n",
      "225  DTAA/YQW0689         16:30:58         09:05:08          12:05:24   \n",
      "226  DTAA/ZAB0889         02:19:27         22:27:47          15:58:17   \n",
      "227  DTAA/ZKH0388         08:02:14         13:24:18          04:21:43   \n",
      "\n",
      "    Connect_mode_time  \n",
      "0            15:47:45  \n",
      "1            01:01:07  \n",
      "2            16:05:54  \n",
      "3            00:57:03  \n",
      "4            07:57:22  \n",
      "..                ...  \n",
      "223          07:41:44  \n",
      "224          08:00:22  \n",
      "225          14:26:56  \n",
      "226          00:28:50  \n",
      "227          13:37:41  \n",
      "\n",
      "[228 rows x 5 columns]\n"
     ]
    }
   ],
   "source": [
    "df_all = pd.DataFrame()\n",
    "\n",
    "# Read all CSV files and concatenate into a single DataFrame\n",
    "for filename in os.listdir(csv_directory):\n",
    "    if filename.endswith('.csv'):\n",
    "        file_path = os.path.join(csv_directory, filename)\n",
    "        df_temp = pd.read_csv(file_path, header=None)  # Assuming the CSV has no header\n",
    "        df_temp.columns = ['User', 'Timestamp', 'PC', 'Activity', 'Action']  # Assign column names\n",
    "        df_all = pd.concat([df_all, df_temp])\n",
    "\n",
    "# Ensure 'Timestamp' is a datetime object\n",
    "df_all['Timestamp'] = pd.to_datetime(df_all['Timestamp'], format='%m/%d/%Y %H:%M:%S')\n",
    "\n",
    "# Filter out 'Logon' and 'Logoff' activities into separate DataFrames\n",
    "df_logon = df_all[df_all['Action'] == 'Logon']\n",
    "df_logoff = df_all[df_all['Action'] == 'Logoff']\n",
    "\n",
    "# Define a function to perform the aggregation and transformation\n",
    "def aggregate_user_pc_log_activities(df_activity):\n",
    "    # Aggregate data to count the total number of activities per user per PC\n",
    "    df_user_pc = df_activity.groupby(['User', 'PC']).size().reset_index(name='pc_activities_per_user_total')\n",
    "\n",
    "    # Calculate the unique count of PCs per user\n",
    "    df_user_pc['unique_pc_count'] = df_user_pc.groupby('User')['PC'].transform('nunique')\n",
    "\n",
    "    # Keep only the 'User' and 'unique_pc_count' columns and drop duplicates\n",
    "    df_user_pc = df_user_pc[['User', 'unique_pc_count']].drop_duplicates()\n",
    "\n",
    "    return df_user_pc\n",
    "\n",
    "# Apply the function to both logon and logoff DataFrames\n",
    "df_user_pc_logon = aggregate_user_pc_log_activities(df_logon)\n",
    "df_user_pc_logoff = aggregate_user_pc_log_activities(df_logoff)\n",
    "\n",
    "# Optionally, save these dataframes to CSV\n",
    "# df_user_pc_logon.to_csv('user_pc_logon.csv', index=False)\n",
    "# df_user_pc_logoff.to_csv('user_pc_logoff.csv', index=False)"
   ],
   "metadata": {
    "collapsed": false,
    "ExecuteTime": {
     "end_time": "2024-04-05T20:37:15.411969Z",
     "start_time": "2024-04-05T20:37:15.377545Z"
    }
   },
   "id": "59df449055e44519"
  },
  {
   "cell_type": "code",
   "execution_count": 96,
   "outputs": [
    {
     "name": "stdout",
     "output_type": "stream",
     "text": [
      "[[34519 33978 56865 ... 54129 52534 81809]\n",
      " [16336  9866  3667 ... 10100  3706  2206]\n",
      " [61908 54345 57954 ... 59896 60228 21782]\n",
      " ...\n",
      " [59458 32708 52016 ... 34312 58023 23985]\n",
      " [ 8367 80867  1730 ... 85495  2039  6767]\n",
      " [28934 48258 49061 ... 54927 27834  8616]]\n",
      "User\n",
      "DTAA/ABB0272    1\n",
      "DTAA/LPG0099    1\n",
      "DTAA/LTM0418    1\n",
      "DTAA/MAB0532    1\n",
      "DTAA/MAG0290    1\n",
      "               ..\n",
      "DTAA/FUA0154    1\n",
      "DTAA/GHC0041    1\n",
      "DTAA/GKJ0573    1\n",
      "DTAA/GML0105    1\n",
      "DTAA/ZKH0388    1\n",
      "Name: count, Length: 228, dtype: int64\n",
      "             User  anomaly_score\n",
      "0    DTAA/ABB0272       0.056168\n",
      "1    DTAA/ABS0726      -0.007996\n",
      "2    DTAA/ACH0803       0.089255\n",
      "3    DTAA/AFF0760      -0.001699\n",
      "4    DTAA/AFH0331       0.077263\n",
      "..            ...            ...\n",
      "223  DTAA/YCB0005       0.057382\n",
      "224  DTAA/YCV0635       0.133047\n",
      "225  DTAA/YQW0689       0.077052\n",
      "226  DTAA/ZAB0889      -0.007832\n",
      "227  DTAA/ZKH0388       0.090549\n",
      "\n",
      "[228 rows x 2 columns]\n",
      "             User  anomaly_score\n",
      "1    DTAA/ABS0726      -0.007996\n",
      "3    DTAA/AFF0760      -0.001699\n",
      "42   DTAA/CHS0324      -0.054312\n",
      "44   DTAA/CLK0383      -0.057056\n",
      "47   DTAA/COS0121      -0.015180\n",
      "51   DTAA/CTR0537      -0.050233\n",
      "61   DTAA/DFZ0063      -0.026313\n",
      "88   DTAA/GYT0279      -0.019554\n",
      "98   DTAA/HNS0858      -0.082589\n",
      "107  DTAA/JAH0544      -0.048153\n",
      "109  DTAA/JBL0450      -0.062329\n",
      "125  DTAA/JSE0020      -0.046710\n",
      "128  DTAA/KAD0059      -0.028642\n",
      "135  DTAA/KSP0927      -0.018353\n",
      "142  DTAA/LKY0181      -0.093477\n",
      "152  DTAA/MIC0914      -0.006845\n",
      "164  DTAA/NHL0253      -0.025809\n",
      "180  DTAA/RBC0583      -0.039745\n",
      "185  DTAA/RLC0442      -0.046105\n",
      "193  DTAA/SDC0032      -0.025277\n",
      "203  DTAA/SRN0275      -0.020193\n",
      "220  DTAA/WTA0867      -0.018543\n",
      "226  DTAA/ZAB0889      -0.007832\n"
     ]
    }
   ],
   "source": [
    "df_user_pc_logon"
   ],
   "metadata": {
    "collapsed": false,
    "ExecuteTime": {
     "end_time": "2024-04-05T20:37:15.503491Z",
     "start_time": "2024-04-05T20:37:15.382423Z"
    }
   },
   "id": "b9b0ee381e4f82a1"
  },
  {
   "cell_type": "code",
   "execution_count": 97,
   "outputs": [],
   "source": [
    "import matplotlib.pyplot as plt\n",
    "from sklearn.ensemble import IsolationForest\n",
    "import pickle\n",
    "import numpy as np"
   ],
   "metadata": {
    "collapsed": false,
    "ExecuteTime": {
     "end_time": "2024-04-05T20:37:33.941016Z",
     "start_time": "2024-04-05T20:37:15.801740Z"
    }
   },
   "id": "4a5af5dcbfc787a6"
  },
  {
   "cell_type": "code",
   "execution_count": 98,
   "outputs": [
    {
     "data": {
      "text/plain": "               User  unique_pc_count\n0      DTAA/AAA0371               16\n16     DTAA/AAC0344                1\n17     DTAA/AAC0599                1\n18     DTAA/AAH0734                1\n19     DTAA/AAK0658                1\n...             ...              ...\n22244  DTAA/ZGH0528                1\n22245  DTAA/ZKE0662                1\n22246  DTAA/ZKH0388               44\n22290  DTAA/ZKN0548                1\n22291  DTAA/ZRR0705                1\n\n[1000 rows x 2 columns]",
      "text/html": "<div>\n<style scoped>\n    .dataframe tbody tr th:only-of-type {\n        vertical-align: middle;\n    }\n\n    .dataframe tbody tr th {\n        vertical-align: top;\n    }\n\n    .dataframe thead th {\n        text-align: right;\n    }\n</style>\n<table border=\"1\" class=\"dataframe\">\n  <thead>\n    <tr style=\"text-align: right;\">\n      <th></th>\n      <th>User</th>\n      <th>unique_pc_count</th>\n    </tr>\n  </thead>\n  <tbody>\n    <tr>\n      <th>0</th>\n      <td>DTAA/AAA0371</td>\n      <td>16</td>\n    </tr>\n    <tr>\n      <th>16</th>\n      <td>DTAA/AAC0344</td>\n      <td>1</td>\n    </tr>\n    <tr>\n      <th>17</th>\n      <td>DTAA/AAC0599</td>\n      <td>1</td>\n    </tr>\n    <tr>\n      <th>18</th>\n      <td>DTAA/AAH0734</td>\n      <td>1</td>\n    </tr>\n    <tr>\n      <th>19</th>\n      <td>DTAA/AAK0658</td>\n      <td>1</td>\n    </tr>\n    <tr>\n      <th>...</th>\n      <td>...</td>\n      <td>...</td>\n    </tr>\n    <tr>\n      <th>22244</th>\n      <td>DTAA/ZGH0528</td>\n      <td>1</td>\n    </tr>\n    <tr>\n      <th>22245</th>\n      <td>DTAA/ZKE0662</td>\n      <td>1</td>\n    </tr>\n    <tr>\n      <th>22246</th>\n      <td>DTAA/ZKH0388</td>\n      <td>44</td>\n    </tr>\n    <tr>\n      <th>22290</th>\n      <td>DTAA/ZKN0548</td>\n      <td>1</td>\n    </tr>\n    <tr>\n      <th>22291</th>\n      <td>DTAA/ZRR0705</td>\n      <td>1</td>\n    </tr>\n  </tbody>\n</table>\n<p>1000 rows × 2 columns</p>\n</div>"
     },
     "execution_count": 98,
     "metadata": {},
     "output_type": "execute_result"
    }
   ],
   "source": [
    "# Let's assume df_user_pc_logon and df_user_pc_logoff are obtained from the previous code\n",
    "# We will use df_user_pc_logon for this example\n",
    "\n",
    "# Prepare the data for the Isolation Forest\n",
    "# Reshape the 'unique_pc_count' column to a 2D array\n",
    "pc_counts = np.array(df_user_pc_logon['unique_pc_count']).reshape(-1, 1)\n",
    "\n",
    "# Initialize the Isolation Forest model\n",
    "forest = IsolationForest(bootstrap=False, contamination=0.1, max_features=1.0,\n",
    "                         max_samples='auto', n_estimators=100, n_jobs=1, random_state=None,\n",
    "                         verbose=0)\n",
    "\n",
    "# Fit the model\n",
    "forest.fit(pc_counts)\n",
    "\n",
    "# Serialize the model using pickle\n",
    "with open('user_pc_ct_isolation_forest.pkl', 'wb') as file:\n",
    "    pickle.dump(forest, file)\n",
    "\n",
    "# Get the anomaly scores (the lower, the more abnormal)\n",
    "anomaly_scores = forest.decision_function(pc_counts)\n",
    "\n",
    "# Create a DataFrame to hold the results\n",
    "results = pd.DataFrame()\n",
    "results['user'] = df_user_pc_logon['User']\n",
    "results['unique_pc_count'] = df_user_pc_logon['unique_pc_count']\n",
    "results['anomaly_score'] = anomaly_scores\n",
    "\n",
    "# Identify potential outliers\n",
    "# Outliers are defined as observations with an anomaly score less than 0\n",
    "outliers = results.loc[results['anomaly_score'] < 0]\n",
    "\n",
    "# Display the results\n",
    "print(results.head(10))  # Show the first 10 results\n",
    "print(outliers)          # Show the outliers"
   ],
   "metadata": {
    "collapsed": false,
    "ExecuteTime": {
     "end_time": "2024-04-05T20:37:33.949126Z",
     "start_time": "2024-04-05T20:37:33.944527Z"
    }
   },
   "id": "11fba4a7f31b84ac"
  },
  {
   "cell_type": "code",
   "execution_count": 99,
   "outputs": [],
   "source": [],
   "metadata": {
    "collapsed": false,
    "ExecuteTime": {
     "end_time": "2024-04-05T20:37:33.954694Z",
     "start_time": "2024-04-05T20:37:33.948906Z"
    }
   },
   "id": "82113797dfa2fbd8"
  },
  {
   "cell_type": "code",
   "execution_count": 100,
   "outputs": [
    {
     "name": "stdout",
     "output_type": "stream",
     "text": [
      "             user  unique_pc_count  anomaly_score\n",
      "0    DTAA/AAA0371               16       0.037517\n",
      "16   DTAA/AAC0344                1       0.180921\n",
      "17   DTAA/AAC0599                1       0.180921\n",
      "18   DTAA/AAH0734                1       0.180921\n",
      "19   DTAA/AAK0658                1       0.180921\n",
      "20   DTAA/AAK0924                1       0.180921\n",
      "21   DTAA/AAR0508                1       0.180921\n",
      "22   DTAA/AAS0709               19       0.038717\n",
      "41   DTAA/ABB0272               72      -0.049830\n",
      "113  DTAA/ABD0833                1       0.180921\n",
      "               user  unique_pc_count  anomaly_score\n",
      "41     DTAA/ABB0272               72      -0.049830\n",
      "117    DTAA/ABS0726               11      -0.005144\n",
      "186    DTAA/AFG0122               74      -0.086554\n",
      "320    DTAA/AGW0182               65      -0.006841\n",
      "557    DTAA/AJN0804               71      -0.030245\n",
      "...             ...              ...            ...\n",
      "21719  DTAA/VMM0309               66      -0.004984\n",
      "21792  DTAA/WCN0570                8      -0.032957\n",
      "21986  DTAA/XQW0354               69      -0.004303\n",
      "22173  DTAA/YVF0045               66      -0.004984\n",
      "22246  DTAA/ZKH0388               44      -0.002529\n",
      "\n",
      "[98 rows x 3 columns]\n"
     ]
    }
   ],
   "source": [],
   "metadata": {
    "collapsed": false,
    "ExecuteTime": {
     "end_time": "2024-04-05T20:37:34.068539Z",
     "start_time": "2024-04-05T20:37:33.955642Z"
    }
   },
   "id": "54e9d79d57479f56"
  },
  {
   "cell_type": "code",
   "execution_count": 100,
   "outputs": [],
   "source": [],
   "metadata": {
    "collapsed": false,
    "ExecuteTime": {
     "end_time": "2024-04-05T20:37:34.068776Z",
     "start_time": "2024-04-05T20:37:34.066362Z"
    }
   },
   "id": "ccc0bd3dc279fa8a"
  },
  {
   "cell_type": "code",
   "execution_count": 100,
   "outputs": [],
   "source": [],
   "metadata": {
    "collapsed": false,
    "ExecuteTime": {
     "end_time": "2024-04-05T20:37:34.071503Z",
     "start_time": "2024-04-05T20:37:34.068704Z"
    }
   },
   "id": "f878d8157bd3daeb"
  },
  {
   "cell_type": "code",
   "execution_count": null,
   "outputs": [],
   "source": [],
   "metadata": {
    "collapsed": false
   },
   "id": "70feb2a93e912ca"
  }
 ],
 "metadata": {
  "kernelspec": {
   "display_name": "Python 3",
   "language": "python",
   "name": "python3"
  },
  "language_info": {
   "codemirror_mode": {
    "name": "ipython",
    "version": 2
   },
   "file_extension": ".py",
   "mimetype": "text/x-python",
   "name": "python",
   "nbconvert_exporter": "python",
   "pygments_lexer": "ipython2",
   "version": "2.7.6"
  }
 },
 "nbformat": 4,
 "nbformat_minor": 5
}
